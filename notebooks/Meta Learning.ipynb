{
 "cells": [
  {
   "cell_type": "markdown",
   "metadata": {},
   "source": [
    "# Imports"
   ]
  },
  {
   "cell_type": "code",
   "execution_count": 1,
   "metadata": {
    "id": "MC4-dBGzSH13"
   },
   "outputs": [],
   "source": [
    "import torch\n",
    "import torch.nn as nn\n",
    "import torch.optim as optim\n",
    "import pandas as pd\n",
    "import numpy as np\n",
    "import matplotlib.pyplot as plt\n",
    "import seaborn as sns; sns.set()\n",
    "from sklearn.metrics import r2_score, mean_squared_error, mean_absolute_error\n",
    "from sklearn.preprocessing import MinMaxScaler, StandardScaler\n",
    "from sklearn.model_selection import TimeSeriesSplit\n",
    "%matplotlib inline\n",
    "\n",
    "import wandb"
   ]
  },
  {
   "cell_type": "code",
   "execution_count": 218,
   "metadata": {},
   "outputs": [
    {
     "name": "stderr",
     "output_type": "stream",
     "text": [
      "\u001b[34m\u001b[1mwandb\u001b[0m: You can find your API key in your browser here: https://wandb.ai/authorize\n"
     ]
    },
    {
     "name": "stdout",
     "output_type": "stream",
     "text": [
      "wandb: Paste an API key from your profile and hit enter: ········\n"
     ]
    },
    {
     "name": "stderr",
     "output_type": "stream",
     "text": [
      "\u001b[34m\u001b[1mwandb\u001b[0m: Appending key for api.wandb.ai to your netrc file: /Users/sharadchitlangia/.netrc\n"
     ]
    },
    {
     "data": {
      "text/plain": [
       "True"
      ]
     },
     "execution_count": 218,
     "metadata": {},
     "output_type": "execute_result"
    }
   ],
   "source": [
    "wandb.login()"
   ]
  },
  {
   "cell_type": "code",
   "execution_count": 223,
   "metadata": {},
   "outputs": [
    {
     "data": {
      "text/html": [
       "\n",
       "                Tracking run with wandb version 0.10.27<br/>\n",
       "                Syncing run <strong style=\"color:#cdcd00\">upbeat-pine-23</strong> to <a href=\"https://wandb.ai\" target=\"_blank\">Weights & Biases</a> <a href=\"https://docs.wandb.com/integrations/jupyter.html\" target=\"_blank\">(Documentation)</a>.<br/>\n",
       "                Project page: <a href=\"https://wandb.ai/covid-forecasters/CovidForecaster\" target=\"_blank\">https://wandb.ai/covid-forecasters/CovidForecaster</a><br/>\n",
       "                Run page: <a href=\"https://wandb.ai/covid-forecasters/CovidForecaster/runs/1yz9sivn\" target=\"_blank\">https://wandb.ai/covid-forecasters/CovidForecaster/runs/1yz9sivn</a><br/>\n",
       "                Run data is saved locally in <code>/Users/sharadchitlangia/Desktop/Courses/ML/ML-Major-Project/wandb/run-20210423_054816-1yz9sivn</code><br/><br/>\n",
       "            "
      ],
      "text/plain": [
       "<IPython.core.display.HTML object>"
      ]
     },
     "metadata": {},
     "output_type": "display_data"
    }
   ],
   "source": [
    "wandb_run = wandb.init(project=\"CovidForecaster\")"
   ]
  },
  {
   "cell_type": "markdown",
   "metadata": {},
   "source": [
    "# Utils"
   ]
  },
  {
   "cell_type": "code",
   "execution_count": 4,
   "metadata": {
    "id": "C-NL02dZc29y"
   },
   "outputs": [],
   "source": [
    "def compare(dataframe, fields):\n",
    "    fig, ax = plt.subplots(figsize=(10,10))\n",
    "    for f in fields:\n",
    "        ax.plot(dataframe[\"Date\"], dataframe[f], label=f)\n",
    "    ax.legend(loc=\"best\")"
   ]
  },
  {
   "cell_type": "code",
   "execution_count": 3,
   "metadata": {},
   "outputs": [],
   "source": [
    "def mobility_check(df, where, what, everything=False, save=False):\n",
    "    fig, ax = plt.subplots(figsize=(10,10))\n",
    "    from sklearn.preprocessing import StandardScaler\n",
    "    sc = StandardScaler()\n",
    "    ax.plot(df[df[\"District\"]==where][\"Date\"], sc.fit_transform(df[df[\"State\"]==where][\"new cases\"].to_numpy().reshape(-1, 1)), label=f\"Cases @ {where}\")\n",
    "    sc = StandardScaler()\n",
    "    ll = ['retail_and_recreation_percent_change_from_baseline',\n",
    "       'grocery_and_pharmacy_percent_change_from_baseline',\n",
    "       'parks_percent_change_from_baseline',\n",
    "       'transit_stations_percent_change_from_baseline',\n",
    "       'workplaces_percent_change_from_baseline',\n",
    "       'residential_percent_change_from_baseline',]\n",
    "    if everything:\n",
    "        for l in ll:\n",
    "            ax.plot(df[df[\"District\"]==where][\"Date\"], sc.fit_transform(df[df[\"State\"]==where][l].to_numpy().reshape(-1, 1)), label=l)\n",
    "    else:\n",
    "        ax.plot(df[df[\"District\"]==where][\"Date\"], sc.fit_transform(df[df[\"State\"]==where][what].to_numpy().reshape(-1, 1)), label=what)\n",
    "    ax.legend(loc=\"best\")\n",
    "    if save:\n",
    "        plt.savefig(f\"{where},{what if not everything else ''}.png\")"
   ]
  },
  {
   "cell_type": "markdown",
   "metadata": {},
   "source": [
    "# Data Collection and Analysis"
   ]
  },
  {
   "cell_type": "code",
   "execution_count": 2,
   "metadata": {},
   "outputs": [
    {
     "name": "stdout",
     "output_type": "stream",
     "text": [
      "<class 'pandas.core.frame.DataFrame'>\n",
      "RangeIndex: 181658 entries, 0 to 181657\n",
      "Data columns (total 10 columns):\n",
      " #   Column                                              Non-Null Count   Dtype         \n",
      "---  ------                                              --------------   -----         \n",
      " 0   District                                            181658 non-null  object        \n",
      " 1   Date                                                181658 non-null  datetime64[ns]\n",
      " 2   retail_and_recreation_percent_change_from_baseline  167731 non-null  float64       \n",
      " 3   grocery_and_pharmacy_percent_change_from_baseline   154821 non-null  float64       \n",
      " 4   parks_percent_change_from_baseline                  169506 non-null  float64       \n",
      " 5   transit_stations_percent_change_from_baseline       173456 non-null  float64       \n",
      " 6   workplaces_percent_change_from_baseline             180672 non-null  float64       \n",
      " 7   residential_percent_change_from_baseline            172356 non-null  float64       \n",
      " 8   State                                               181658 non-null  object        \n",
      " 9   Confirmed                                           181658 non-null  float64       \n",
      "dtypes: datetime64[ns](1), float64(7), object(2)\n",
      "memory usage: 13.9+ MB\n"
     ]
    }
   ],
   "source": [
    "df = pd.read_csv(\"../district_mobility_cases.csv\")\n",
    "df[\"Date\"]=pd.to_datetime(df[\"Date\"])\n",
    "df.info()\n",
    "df.columns = ['District', 'Date',\n",
    "       'retail_and_recreation_percent_change_from_baseline',\n",
    "       'grocery_and_pharmacy_percent_change_from_baseline',\n",
    "       'parks_percent_change_from_baseline',\n",
    "       'transit_stations_percent_change_from_baseline',\n",
    "       'workplaces_percent_change_from_baseline',\n",
    "       'residential_percent_change_from_baseline', 'State', 'new cases']\n",
    "\n",
    "# df['new cases'].dtype == float"
   ]
  },
  {
   "cell_type": "code",
   "execution_count": null,
   "metadata": {},
   "outputs": [],
   "source": []
  },
  {
   "cell_type": "code",
   "execution_count": 195,
   "metadata": {},
   "outputs": [
    {
     "data": {
      "text/plain": [
       "<matplotlib.legend.Legend at 0x7fc1086dfeb8>"
      ]
     },
     "execution_count": 195,
     "metadata": {},
     "output_type": "execute_result"
    },
    {
     "data": {
      "image/png": "[encoded data removed]",
      "text/plain": [
       "<Figure size 720x720 with 1 Axes>"
      ]
     },
     "metadata": {
      "needs_background": "light"
     },
     "output_type": "display_data"
    }
   ],
   "source": [
    "import pandas as pd\n",
    "import numpy as np\n",
    "from scipy.signal import savgol_filter\n",
    "import matplotlib.pyplot as plt\n",
    "import keras\n",
    "\n",
    "def smooth_plot(data, ax=None, *args, **kwargs):\n",
    "    data = smoothen_data(data)\n",
    "    if ax is None:\n",
    "        plt.plot(data, *args, **kwargs)\n",
    "    else:\n",
    "        ax.plot(data, *args, **kwargs)\n",
    "    \n",
    "def smoothen_data(data):\n",
    "    return savgol_filter(data, 51, 3)\n",
    "\n",
    "def smoothen_df(df: pd.DataFrame, cols=None):\n",
    "    if cols is None:\n",
    "        cols = [i for i in df.columns if df[i].dtype==float]\n",
    "        \n",
    "    for i in cols:\n",
    "        df[i] = smoothen_data(df[i])\n",
    "        \n",
    "    return df\n",
    "    \n",
    "\n",
    "colstoplot = ['retail_and_recreation_percent_change_from_baseline',\n",
    "       'grocery_and_pharmacy_percent_change_from_baseline',\n",
    "       'parks_percent_change_from_baseline',\n",
    "       'transit_stations_percent_change_from_baseline',\n",
    "       'workplaces_percent_change_from_baseline',\n",
    "       'residential_percent_change_from_baseline', 'new cases']\n",
    "\n",
    "mumbai = df[df['District']=='Mumbai']\n",
    "scaler = StandardScaler()\n",
    "scaled_mumbai = mumbai.copy()\n",
    "\n",
    "scaled_mumbai[colstoplot] =  scaler.fit_transform(scaled_mumbai[colstoplot])\n",
    "\n",
    "scaled_mumbai['Date'] = pd.to_datetime(scaled_mumbai['Date'])\n",
    "scaled_mumbai[\"Date\"] = scaled_mumbai[\"Date\"].dt.year * 30 * 12 + scaled_mumbai[\"Date\"].dt.month * 30 + scaled_mumbai[\"Date\"].dt.day\n",
    "scaled_mumbai[\"Date\"] -= scaled_mumbai[\"Date\"].min()\n",
    "\n",
    "fig, ax = plt.subplots(figsize=(10,10))\n",
    "for col in (colstoplot):\n",
    "    smooth_plot(scaled_mumbai[col].tolist(), ax=ax, label=col)\n",
    "ax.legend()\n",
    "# smooth_plot()\n"
   ]
  },
  {
   "cell_type": "markdown",
   "metadata": {},
   "source": [
    "# Algorithm Developement"
   ]
  },
  {
   "cell_type": "code",
   "execution_count": 4,
   "metadata": {
    "id": "TqoukLnNC2tR"
   },
   "outputs": [],
   "source": [
    "def sliding_window(data, seq_len, j=0):\n",
    "\n",
    "    xs = []\n",
    "    ys = []\n",
    "    for i in range(0,len(data)-seq_len-1-j,seq_len+1+j):\n",
    "        x = data[i:(i+seq_len)].drop([\"Date\"], axis=1).to_numpy()\n",
    "        y = data[(i+seq_len):i+seq_len+1+j][\"new cases\"].to_numpy().flatten()#[0]\n",
    "        xs.append(x)\n",
    "        ys.append(y)\n",
    "\n",
    "  \n",
    "    return np.array(xs, dtype=np.float64), np.array(ys, dtype=np.float64)"
   ]
  },
  {
   "cell_type": "code",
   "execution_count": 204,
   "metadata": {},
   "outputs": [
    {
     "name": "stderr",
     "output_type": "stream",
     "text": [
      "/Users/sharadchitlangia/miniconda3/envs/dreamcoder/lib/python3.6/site-packages/ipykernel_launcher.py:69: TqdmDeprecationWarning: This function will be removed in tqdm==5.0.0\n",
      "Please use `tqdm.notebook.tqdm` instead of `tqdm.tqdm_notebook`\n"
     ]
    },
    {
     "data": {
      "application/vnd.jupyter.widget-view+json": {
       "model_id": "4a7e241794794d00a6a8bc821ff9fc99",
       "version_major": 2,
       "version_minor": 0
      },
      "text/plain": [
       "  0%|          | 0/457 [00:00<?, ?it/s]"
      ]
     },
     "metadata": {},
     "output_type": "display_data"
    },
    {
     "name": "stderr",
     "output_type": "stream",
     "text": [
      "/Users/sharadchitlangia/miniconda3/envs/dreamcoder/lib/python3.6/site-packages/numpy/core/_asarray.py:83: VisibleDeprecationWarning: Creating an ndarray from ragged nested sequences (which is a list-or-tuple of lists-or-tuples-or ndarrays with different lengths or shapes) is deprecated. If you meant to do this, you must specify 'dtype=object' when creating the ndarray\n",
      "  return array(a, dtype, copy=False, order=order)\n"
     ]
    }
   ],
   "source": [
    "from tqdm import tqdm_notebook\n",
    "\n",
    "prev_days = 28\n",
    "forecast_days = 14\n",
    "\n",
    "df = df[df['new cases']>=0]\n",
    "\n",
    "def create_dataset(df, prev_days, forecast_days):\n",
    "    xtrain, ytrain, xtest, ytest, transforms, train_idx, test_idx = [], [], [], [], [], [], []\n",
    "    running_train, running_test = 0, 0\n",
    "    df = df.drop(['State', *colstoplot[:-1]], axis=1)\n",
    "    print(df.columns)\n",
    "    for district in tqdm_notebook(df['District'].unique()):\n",
    "        district_df = df[df['District']==district].copy()\n",
    "        scaler = StandardScaler()\n",
    "#         district_df = district_df.copy()\n",
    "        if district_df.shape[0]<200:\n",
    "             continue\n",
    "        district_df = smoothen_df(district_df.drop('District',axis=1))\n",
    "\n",
    "#         district_df[colstoplot] =  scaler.fit_transform(district_df[colstoplot])\n",
    "#         districts_df[\"new cases\"] = \n",
    "\n",
    "        district_df['Date'] = pd.to_datetime(district_df['Date'])\n",
    "        district_df[\"Date\"] = district_df[\"Date\"].dt.year * 30 * 12 + district_df[\"Date\"].dt.month * 30 + district_df[\"Date\"].dt.day\n",
    "        district_df[\"Date\"] -= district_df[\"Date\"].min()\n",
    "        \n",
    "\n",
    "        \n",
    "        \n",
    "#         district_df = district_df.drop('District',axis=1)\n",
    "\n",
    "        # df_custom = smoothen_df(df_custom)\n",
    "#         print(district_df)\n",
    "\n",
    "        X, y = sliding_window(district_df[district_df['Date']<=250], prev_days, forecast_days-1)\n",
    "        xt, yt = sliding_window(district_df[district_df['Date']>250], prev_days, forecast_days-1)\n",
    "#         print(X.shape, y.shape, xt.shape, yt.shape)\n",
    "        if 0 in X.shape or 0 in y.shape or 0 in xt.shape or 0 in yt.shape:\n",
    "            continue\n",
    "        transforms.append(scaler)\n",
    "\n",
    "        train_idx.append(running_train)\n",
    "        test_idx.append(running_test)\n",
    "            \n",
    "        running_train += X.shape[0]\n",
    "        running_test += xt.shape[0]\n",
    "\n",
    "            \n",
    "        xtrain.append(X)\n",
    "        ytrain.append(y)\n",
    "        xtest.append(xt)\n",
    "        ytest.append(yt)\n",
    "        \n",
    "        \n",
    "    xtrain, ytrain, xtest, ytest = np.vstack(xtrain), np.vstack(ytrain), np.vstack(xtest), np.vstack(ytest)\n",
    "    scaler = StandardScaler()\n",
    "#     print(xtrain.shape)\n",
    "#     xtrain = scaler.fit_transform(xtrain[:,:,0])\n",
    "    return xtrain, ytrain, xtest, ytest, scaler\n",
    "    \n",
    "    #, transforms, test_idx, train_idx\n",
    "    \n",
    "    \n",
    "def create_metadataset(df, prev_days, forecast_days, params):\n",
    "    xtrain, ytrain, xtest, ytest, = [], [], [], []\n",
    "    running_train, running_test = 0, 0\n",
    "#     df = df.drop(['State', *colstoplot[:-1]], axis=1)\n",
    "    for district in tqdm_notebook(df['District'].unique()):\n",
    "        district_df = df[df['District']==district].copy()\n",
    "        if district_df.shape[0]<200:\n",
    "            del params[district]\n",
    "            continue\n",
    "        district_df = district_df.drop('District',axis=1)\n",
    "\n",
    "\n",
    "        district_df['Date'] = pd.to_datetime(district_df['Date'])\n",
    "        district_df[\"Date\"] = district_df[\"Date\"].dt.year * 30 * 12 + district_df[\"Date\"].dt.month * 30 + district_df[\"Date\"].dt.day\n",
    "        district_df[\"Date\"] -= district_df[\"Date\"].min()\n",
    "#         print(district_df)\n",
    "        X, y = sliding_window(district_df, prev_days, forecast_days-1)\n",
    "#         xt, yt = sliding_window(district_df[district_df['Date']>250], prev_days, forecast_days-1)\n",
    "        if 0 in X.shape or 0 in y.shape:# or 0 in xt.shape or 0 in yt.shape:\n",
    "            del params[district]\n",
    "            continue\n",
    "            \n",
    "        xtrain.append(X)\n",
    "        ytrain.append(y)\n",
    "#         xtest.append(xt)\n",
    "#         ytest.append(yt)\n",
    "        \n",
    "    return np.asarray(xtrain), np.asarray(ytrain)#, np.asarray(xtest), np.asarray(ytest)\n",
    "\n",
    "def region_wise_normalized_df(df):\n",
    "    df = df.drop(['State', *colstoplot[:-1]], axis=1)\n",
    "    df = smoothen_df(df)#.drop('District',axis=1))\n",
    "    params = {}\n",
    "    for region in df['District'].unique():\n",
    "        cases = df[df['District']==region]['new cases']\n",
    "        df.loc[df['District']==region,'new cases'] = (cases - cases.min()) / (cases.max() - cases.min())\n",
    "        params[region] = [cases.min(), cases.max()]\n",
    "        \n",
    "#     print(df)\n",
    "        \n",
    "    return df, params\n",
    "\n",
    "# xtrain, ytrain, xtest, ytest, transforms, tri, tei = create_dataset(df.dropna(), 28, 14)\n",
    "# xtrain, ytrain, xtest, ytest = create_metadataset(df.dropna(), 28, 14)\n",
    "df_new, params = region_wise_normalized_df(df.dropna())\n",
    "xtrain, ytrain = create_metadataset(df_new, 28, 14, params)\n",
    "\n",
    "# ytrain = transform.transform(ytrain)\n",
    "# xtest = transform.transform(xtest)\n",
    "# ytest = transform.transform(ytest)"
   ]
  },
  {
   "cell_type": "code",
   "execution_count": 224,
   "metadata": {},
   "outputs": [],
   "source": [
    "wandb_run.log({\"r2_scores\": r2_scores[0], \"test_error_mae\":test_error_mae[0], \"test_error_mse\":test_error_mse[0]})"
   ]
  },
  {
   "cell_type": "code",
   "execution_count": 225,
   "metadata": {},
   "outputs": [
    {
     "data": {
      "text/html": [
       "<br/>Waiting for W&B process to finish, PID 96816<br/>Program ended successfully."
      ],
      "text/plain": [
       "<IPython.core.display.HTML object>"
      ]
     },
     "metadata": {},
     "output_type": "display_data"
    },
    {
     "data": {
      "application/vnd.jupyter.widget-view+json": {
       "model_id": "",
       "version_major": 2,
       "version_minor": 0
      },
      "text/plain": [
       "VBox(children=(Label(value=' 0.00MB of 0.00MB uploaded (0.00MB deduped)\\r'), FloatProgress(value=1.0, max=1.0)…"
      ]
     },
     "metadata": {},
     "output_type": "display_data"
    },
    {
     "data": {
      "text/html": [
       "Find user logs for this run at: <code>/Users/sharadchitlangia/Desktop/Courses/ML/ML-Major-Project/wandb/run-20210423_054816-1yz9sivn/logs/debug.log</code>"
      ],
      "text/plain": [
       "<IPython.core.display.HTML object>"
      ]
     },
     "metadata": {},
     "output_type": "display_data"
    },
    {
     "data": {
      "text/html": [
       "Find internal logs for this run at: <code>/Users/sharadchitlangia/Desktop/Courses/ML/ML-Major-Project/wandb/run-20210423_054816-1yz9sivn/logs/debug-internal.log</code>"
      ],
      "text/plain": [
       "<IPython.core.display.HTML object>"
      ]
     },
     "metadata": {},
     "output_type": "display_data"
    },
    {
     "data": {
      "text/html": [
       "<h3>Run summary:</h3><br/><style>\n",
       "    table.wandb td:nth-child(1) { padding: 0 10px; text-align: right }\n",
       "    </style><table class=\"wandb\">\n",
       "<tr><td>_runtime</td><td>18</td></tr><tr><td>_timestamp</td><td>1619137114</td></tr><tr><td>_step</td><td>0</td></tr></table>"
      ],
      "text/plain": [
       "<IPython.core.display.HTML object>"
      ]
     },
     "metadata": {},
     "output_type": "display_data"
    },
    {
     "data": {
      "text/html": [
       "<h3>Run history:</h3><br/><style>\n",
       "    table.wandb td:nth-child(1) { padding: 0 10px; text-align: right }\n",
       "    </style><table class=\"wandb\">\n",
       "<tr><td>_runtime</td><td>▁</td></tr><tr><td>_timestamp</td><td>▁</td></tr><tr><td>_step</td><td>▁</td></tr></table><br/>"
      ],
      "text/plain": [
       "<IPython.core.display.HTML object>"
      ]
     },
     "metadata": {},
     "output_type": "display_data"
    },
    {
     "data": {
      "text/html": [
       "Synced 6 W&B file(s), 0 media file(s), 0 artifact file(s) and 1 other file(s)"
      ],
      "text/plain": [
       "<IPython.core.display.HTML object>"
      ]
     },
     "metadata": {},
     "output_type": "display_data"
    },
    {
     "data": {
      "text/html": [
       "\n",
       "                    <br/>Synced <strong style=\"color:#cdcd00\">upbeat-pine-23</strong>: <a href=\"https://wandb.ai/covid-forecasters/CovidForecaster/runs/1yz9sivn\" target=\"_blank\">https://wandb.ai/covid-forecasters/CovidForecaster/runs/1yz9sivn</a><br/>\n",
       "                "
      ],
      "text/plain": [
       "<IPython.core.display.HTML object>"
      ]
     },
     "metadata": {},
     "output_type": "display_data"
    }
   ],
   "source": [
    "wandb_run.finish()\n"
   ]
  },
  {
   "cell_type": "code",
   "execution_count": 208,
   "metadata": {
    "scrolled": true
   },
   "outputs": [
    {
     "name": "stderr",
     "output_type": "stream",
     "text": [
      "/Users/sharadchitlangia/miniconda3/envs/dreamcoder/lib/python3.6/site-packages/ipykernel_launcher.py:16: FutureWarning: Using a non-tuple sequence for multidimensional indexing is deprecated; use `arr[tuple(seq)]` instead of `arr[seq]`. In the future this will be interpreted as an array index, `arr[np.array(seq)]`, which will result either in an error or a different result.\n",
      "  app.launch_new_instance()\n"
     ]
    }
   ],
   "source": [
    "import random\n",
    "import tensorflow as tf\n",
    "\n",
    "def get_mini_dataset(batchSize, iters, num_regions, datasets, test=False):\n",
    "    # Shots is assumed to be all\n",
    "    \n",
    "    xtrain, ytrain = datasets\n",
    "    \n",
    "    regions = random.choices(list(range(xtrain.shape[0])), k=num_regions)\n",
    "    \n",
    "#     xtrain, ytrain = np.vstack(xtrain[[regions]]), np.vstack(ytrain[[regions]])\n",
    "    \n",
    "    \n",
    "    if test:\n",
    "        xtests, ytests, xtrains, ytrains = [], [], [], []\n",
    "        xtrain, ytrain = xtrain[[regions]],ytrain[[regions]]\n",
    "#         print(xtrain.shape)\n",
    "#         print(ytrain.shape)\n",
    "#         print(xtrain.shape, ytrain.shape)\n",
    "        for i in range(num_regions):\n",
    "            xtests.append(xtrain[i][-1,:,:])\n",
    "            ytests.append(ytrain[i][-1,:])\n",
    "            xtrains.append(xtrain[i][:-1,:,:])\n",
    "            ytrains.append(ytrain[i][:-1,:])\n",
    "\n",
    "#             xtest, ytest = xtrain[-1,:,:], ytrain[-1,:]\n",
    "#             xtrain, ytrain = xtrain[:-1,:,:], ytrain[:-1,:]\n",
    "        xtrain, ytrain, xtest, ytest = np.vstack(xtrains), np.vstack(ytrains), np.hstack(xtests), np.stack(ytests)\n",
    "\n",
    "    else:\n",
    "        xtrain, ytrain = np.vstack(xtrain[[regions]]), np.vstack(ytrain[[regions]])\n",
    "\n",
    "#     xtrain, ytrain = np.vstack(xtrains), np.vstack(ytrains)\n",
    "#     print(xtrain.shape, ytrain.shape)\n",
    "    \n",
    "    dataset = tf.data.Dataset.from_tensor_slices(\n",
    "        (xtrain.astype(np.float32), ytrain.astype(np.float32))\n",
    "    )\n",
    "    dataset = dataset.shuffle(100).batch(batchSize).repeat(iters)\n",
    "    if test:\n",
    "        return dataset, tf.expand_dims(xtest.T,-1), ytest, regions\n",
    "    return dataset, regions\n",
    "# print(np.vstack(xtrain[[0,4,5]]).shape)\n",
    "\n",
    "# xtrain, ytrain = create_metadataset(df.dropna(), 28, 14)\n",
    "dataset, te, ti, regions = get_mini_dataset(32, 4, 20, (xtrain, ytrain), True)\n"
   ]
  },
  {
   "cell_type": "code",
   "execution_count": 239,
   "metadata": {},
   "outputs": [],
   "source": [
    "n_hidden = 10\n",
    "\n",
    "features = 1\n",
    "\n",
    "input_train = keras.Input(shape=(prev_days, features))\n",
    "output_train = keras.Input(shape=(forecast_days, 1))\n",
    "\n",
    "encoder_last_h1, encoder_last_h2, encoder_last_c = keras.layers.LSTM(\n",
    " n_hidden, activation='relu', dropout=0.2, recurrent_dropout=0.2, \n",
    " return_sequences=False, return_state=True)(input_train)\n",
    "\n",
    "decoder = keras.layers.RepeatVector(output_train.shape[1])(encoder_last_h1)\n",
    "decoder = keras.layers.LSTM(n_hidden, activation='relu', dropout=0.2, recurrent_dropout=0.2,\n",
    "                            return_state=False, return_sequences=True)(\n",
    "    decoder, initial_state=[encoder_last_h1, encoder_last_c])\n",
    "\n",
    "out = keras.layers.TimeDistributed(keras.layers.Dense(1))(decoder)\n",
    "\n",
    "model = keras.Model(inputs=input_train, outputs=out)\n",
    "model.compile()\n",
    "optimizer = keras.optimizers.SGD(lr=0.001, clipnorm=1)\n"
   ]
  },
  {
   "cell_type": "code",
   "execution_count": 240,
   "metadata": {},
   "outputs": [],
   "source": [
    "\n",
    "# scaler = StandardScaler()\n",
    "# ytrain.shape\n",
    "len(params)\n",
    "import warnings\n",
    "warnings.filterwarnings('ignore')"
   ]
  },
  {
   "cell_type": "code",
   "execution_count": 242,
   "metadata": {},
   "outputs": [
    {
     "name": "stdout",
     "output_type": "stream",
     "text": [
      "batch 0 / 60: trainE=0.040552 testE=0.018604 trainA=-0.207919 testA=-0.096581\n",
      "batch 10 / 60: trainE=0.084236 testE=0.065459 trainA=-0.267469 testA=-0.204737\n",
      "batch 20 / 60: trainE=0.008142 testE=0.018625 trainA=-2.023014 testA=-0.443029\n",
      "batch 30 / 60: trainE=0.011180 testE=0.009031 trainA=-0.983835 testA=-0.362293\n"
     ]
    },
    {
     "ename": "KeyboardInterrupt",
     "evalue": "",
     "output_type": "error",
     "traceback": [
      "\u001b[0;31m---------------------------------------------------------------------------\u001b[0m",
      "\u001b[0;31mKeyboardInterrupt\u001b[0m                         Traceback (most recent call last)",
      "\u001b[0;32m<ipython-input-242-36d864a8ff6c>\u001b[0m in \u001b[0;36m<module>\u001b[0;34m\u001b[0m\n\u001b[1;32m     50\u001b[0m                     \u001b[0mpreds\u001b[0m \u001b[0;34m=\u001b[0m \u001b[0mtf\u001b[0m\u001b[0;34m.\u001b[0m\u001b[0msqueeze\u001b[0m\u001b[0;34m(\u001b[0m\u001b[0mmodel\u001b[0m\u001b[0;34m(\u001b[0m\u001b[0mimages\u001b[0m\u001b[0;34m)\u001b[0m\u001b[0;34m)\u001b[0m\u001b[0;34m\u001b[0m\u001b[0m\n\u001b[1;32m     51\u001b[0m                     \u001b[0mloss\u001b[0m \u001b[0;34m=\u001b[0m \u001b[0mkeras\u001b[0m\u001b[0;34m.\u001b[0m\u001b[0mlosses\u001b[0m\u001b[0;34m.\u001b[0m\u001b[0mmean_squared_error\u001b[0m\u001b[0;34m(\u001b[0m\u001b[0mlabels\u001b[0m\u001b[0;34m,\u001b[0m \u001b[0mpreds\u001b[0m\u001b[0;34m)\u001b[0m\u001b[0;34m\u001b[0m\u001b[0m\n\u001b[0;32m---> 52\u001b[0;31m                 \u001b[0mgrads\u001b[0m \u001b[0;34m=\u001b[0m \u001b[0mtape\u001b[0m\u001b[0;34m.\u001b[0m\u001b[0mgradient\u001b[0m\u001b[0;34m(\u001b[0m\u001b[0mloss\u001b[0m\u001b[0;34m,\u001b[0m \u001b[0mmodel\u001b[0m\u001b[0;34m.\u001b[0m\u001b[0mtrainable_weights\u001b[0m\u001b[0;34m)\u001b[0m\u001b[0;34m\u001b[0m\u001b[0m\n\u001b[0m\u001b[1;32m     53\u001b[0m                 \u001b[0moptimizer\u001b[0m\u001b[0;34m.\u001b[0m\u001b[0mapply_gradients\u001b[0m\u001b[0;34m(\u001b[0m\u001b[0mzip\u001b[0m\u001b[0;34m(\u001b[0m\u001b[0mgrads\u001b[0m\u001b[0;34m,\u001b[0m \u001b[0mmodel\u001b[0m\u001b[0;34m.\u001b[0m\u001b[0mtrainable_weights\u001b[0m\u001b[0;34m)\u001b[0m\u001b[0;34m)\u001b[0m\u001b[0;34m\u001b[0m\u001b[0m\n\u001b[1;32m     54\u001b[0m \u001b[0;34m\u001b[0m\u001b[0m\n",
      "\u001b[0;32m~/miniconda3/envs/dreamcoder/lib/python3.6/site-packages/tensorflow/python/eager/backprop.py\u001b[0m in \u001b[0;36mgradient\u001b[0;34m(self, target, sources, output_gradients, unconnected_gradients)\u001b[0m\n\u001b[1;32m   1084\u001b[0m         \u001b[0moutput_gradients\u001b[0m\u001b[0;34m=\u001b[0m\u001b[0moutput_gradients\u001b[0m\u001b[0;34m,\u001b[0m\u001b[0;34m\u001b[0m\u001b[0m\n\u001b[1;32m   1085\u001b[0m         \u001b[0msources_raw\u001b[0m\u001b[0;34m=\u001b[0m\u001b[0mflat_sources_raw\u001b[0m\u001b[0;34m,\u001b[0m\u001b[0;34m\u001b[0m\u001b[0m\n\u001b[0;32m-> 1086\u001b[0;31m         unconnected_gradients=unconnected_gradients)\n\u001b[0m\u001b[1;32m   1087\u001b[0m \u001b[0;34m\u001b[0m\u001b[0m\n\u001b[1;32m   1088\u001b[0m     \u001b[0;32mif\u001b[0m \u001b[0;32mnot\u001b[0m \u001b[0mself\u001b[0m\u001b[0;34m.\u001b[0m\u001b[0m_persistent\u001b[0m\u001b[0;34m:\u001b[0m\u001b[0;34m\u001b[0m\u001b[0m\n",
      "\u001b[0;32m~/miniconda3/envs/dreamcoder/lib/python3.6/site-packages/tensorflow/python/eager/imperative_grad.py\u001b[0m in \u001b[0;36mimperative_grad\u001b[0;34m(tape, target, sources, output_gradients, sources_raw, unconnected_gradients)\u001b[0m\n\u001b[1;32m     75\u001b[0m       \u001b[0moutput_gradients\u001b[0m\u001b[0;34m,\u001b[0m\u001b[0;34m\u001b[0m\u001b[0m\n\u001b[1;32m     76\u001b[0m       \u001b[0msources_raw\u001b[0m\u001b[0;34m,\u001b[0m\u001b[0;34m\u001b[0m\u001b[0m\n\u001b[0;32m---> 77\u001b[0;31m       compat.as_str(unconnected_gradients.value))\n\u001b[0m",
      "\u001b[0;32m~/miniconda3/envs/dreamcoder/lib/python3.6/site-packages/tensorflow/python/eager/backprop.py\u001b[0m in \u001b[0;36m_ones\u001b[0;34m(shape, dtype)\u001b[0m\n\u001b[1;32m    695\u001b[0m \u001b[0;34m\u001b[0m\u001b[0m\n\u001b[1;32m    696\u001b[0m \u001b[0;34m\u001b[0m\u001b[0m\n\u001b[0;32m--> 697\u001b[0;31m \u001b[0;32mdef\u001b[0m \u001b[0m_ones\u001b[0m\u001b[0;34m(\u001b[0m\u001b[0mshape\u001b[0m\u001b[0;34m,\u001b[0m \u001b[0mdtype\u001b[0m\u001b[0;34m)\u001b[0m\u001b[0;34m:\u001b[0m\u001b[0;34m\u001b[0m\u001b[0m\n\u001b[0m\u001b[1;32m    698\u001b[0m   \u001b[0mas_dtype\u001b[0m \u001b[0;34m=\u001b[0m \u001b[0mdtypes\u001b[0m\u001b[0;34m.\u001b[0m\u001b[0mas_dtype\u001b[0m\u001b[0;34m(\u001b[0m\u001b[0mdtype\u001b[0m\u001b[0;34m)\u001b[0m\u001b[0;34m\u001b[0m\u001b[0m\n\u001b[1;32m    699\u001b[0m   \u001b[0;32mif\u001b[0m \u001b[0mas_dtype\u001b[0m \u001b[0;34m==\u001b[0m \u001b[0mdtypes\u001b[0m\u001b[0;34m.\u001b[0m\u001b[0mstring\u001b[0m\u001b[0;34m:\u001b[0m\u001b[0;34m\u001b[0m\u001b[0m\n",
      "\u001b[0;31mKeyboardInterrupt\u001b[0m: "
     ]
    }
   ],
   "source": [
    "trainingA, trainingR = [], []\n",
    "testingA, testingR = [], []\n",
    "meta_iters = 60\n",
    "meta_step_size = 0.25\n",
    "\n",
    "inner_batch_size = 25\n",
    "eval_batch_size = 25\n",
    "\n",
    "eval_iters = 5\n",
    "inner_iters = 4\n",
    "\n",
    "eval_interval = 1\n",
    "train_shots = 20\n",
    "shots = 5\n",
    "regions = 50\n",
    "\n",
    "for meta_iter in range(meta_iters):\n",
    "    frac_done = meta_iter / meta_iters\n",
    "    cur_meta_step_size = (1 - frac_done) * meta_step_size\n",
    "    # Temporarily save the weights from the model.\n",
    "    old_vars = model.get_weights()\n",
    "    # Get a sample from the full dataset.\n",
    "    mini_dataset, _ = get_mini_dataset(inner_batch_size, inner_iters, regions, (xtrain, ytrain))\n",
    "    \n",
    "    for images, labels in mini_dataset:\n",
    "        with tf.GradientTape() as tape:\n",
    "            preds = tf.squeeze(model(images))\n",
    "            loss = keras.losses.mean_squared_error(labels, preds)\n",
    "        grads = tape.gradient(loss, model.trainable_weights)\n",
    "        optimizer.apply_gradients(zip(grads, model.trainable_weights))\n",
    "    new_vars = model.get_weights()\n",
    "    # Perform SGD for the meta step.\n",
    "    for var in range(len(new_vars)):\n",
    "        new_vars[var] = old_vars[var] + (\n",
    "            (new_vars[var] - old_vars[var]) * cur_meta_step_size\n",
    "        )\n",
    "    # After the meta-learning step, reload the newly-trained weights into the model.\n",
    "    model.set_weights(new_vars)\n",
    "    # Evaluation loop\n",
    "    if meta_iter % eval_interval == 0:\n",
    "        accuracies, r2s = [], []\n",
    "        for dataset in (\"train\", \"test\"):\n",
    "            # Sample a mini dataset from the full dataset.\n",
    "            train_set, test_images, test_labels, regs = get_mini_dataset(inner_batch_size, inner_iters, regions, \n",
    "                                                                   (xtrain, ytrain), True)\n",
    "            old_vars = model.get_weights()\n",
    "            # Train on the samples and get the resulting accuracies.\n",
    "            for images, labels in train_set:\n",
    "                with tf.GradientTape() as tape:\n",
    "                    preds = tf.squeeze(model(images))\n",
    "                    loss = keras.losses.mean_squared_error(labels, preds)\n",
    "                grads = tape.gradient(loss, model.trainable_weights)\n",
    "                optimizer.apply_gradients(zip(grads, model.trainable_weights))\n",
    "                \n",
    "#             print(test_images.shape)\n",
    "            test_preds = model.predict(test_images).squeeze()\n",
    "#             mean(square(y_true - y_pred), axis=-1)\n",
    "            num_correct = np.square(test_preds - test_labels).mean()\n",
    "            # Reset the weights after getting the evaluation accuracies.\n",
    "            r2 = r2_score(test_labels, test_preds)\n",
    "            r2s.append(r2)\n",
    "            model.set_weights(old_vars)\n",
    "            accuracies.append(num_correct)\n",
    "        trainingR.append(r2s[0])\n",
    "        testingR.append(r2s[1])\n",
    "        trainingA.append(accuracies[0])\n",
    "        testingA.append(accuracies[1])\n",
    "        if meta_iter % 10 == 0:\n",
    "            print(\n",
    "                \"batch %d / %d: trainE=%f testE=%f trainA=%f testA=%f\" % (meta_iter, meta_iters, accuracies[0], accuracies[1], r2s[0], r2s[1])\n",
    "            )"
   ]
  },
  {
   "cell_type": "code",
   "execution_count": 246,
   "metadata": {},
   "outputs": [
    {
     "data": {
      "text/plain": [
       "<matplotlib.legend.Legend at 0x7fc10a1f4cf8>"
      ]
     },
     "execution_count": 246,
     "metadata": {},
     "output_type": "execute_result"
    },
    {
     "data": {
      "image/png": "[encoded data removed]",
      "text/plain": [
       "<Figure size 432x288 with 1 Axes>"
      ]
     },
     "metadata": {
      "needs_background": "light"
     },
     "output_type": "display_data"
    }
   ],
   "source": [
    "ind = 4\n",
    "scales = list(params.items())[regs[ind]][1]\n",
    "min, max = scales\n",
    "plt.plot(np.arange(0,28),test_images[ind]*(max - min) + min, label='Prev')\n",
    "plt.plot(np.arange(28,42),test_labels[ind]*(max - min) + min, label='true')\n",
    "plt.plot(np.arange(28,42),test_preds[ind]*(max - min) + min, label='pred')\n",
    "plt.legend()"
   ]
  },
  {
   "cell_type": "code",
   "execution_count": null,
   "metadata": {},
   "outputs": [],
   "source": []
  }
 ],
 "metadata": {
  "colab": {
   "collapsed_sections": [],
   "name": "CovidPredictor.ipynb",
   "provenance": []
  },
  "kernelspec": {
   "display_name": "Python [conda env:dreamcoder] *",
   "language": "python",
   "name": "conda-env-dreamcoder-py"
  },
  "language_info": {
   "codemirror_mode": {
    "name": "ipython",
    "version": 3
   },
   "file_extension": ".py",
   "mimetype": "text/x-python",
   "name": "python",
   "nbconvert_exporter": "python",
   "pygments_lexer": "ipython3",
   "version": "3.6.2"
  }
 },
 "nbformat": 4,
 "nbformat_minor": 4
}
