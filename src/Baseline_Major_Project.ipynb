{
  "nbformat": 4,
  "nbformat_minor": 0,
  "metadata": {
    "colab": {
      "name": "Baseline - Major Project.ipynb",
      "provenance": []
    },
    "kernelspec": {
      "name": "python3",
      "display_name": "Python 3"
    },
    "language_info": {
      "name": "python"
    }
  },
  "cells": [
    {
      "cell_type": "code",
      "metadata": {
        "colab": {
          "base_uri": "https://localhost:8080/"
        },
        "id": "OSWmYB-hr6vt",
        "outputId": "71b40d6d-221f-4c8c-ec54-13d0e09c34ba"
      },
      "source": [
        "import pandas as pd\n",
        "# from patsy import dmatrices\n",
        "import numpy as np\n",
        "import statsmodels.api as sm\n",
        "import matplotlib.pyplot as plt"
      ],
      "execution_count": 2,
      "outputs": [
        {
          "output_type": "stream",
          "text": [
            "/usr/local/lib/python3.7/dist-packages/statsmodels/tools/_testing.py:19: FutureWarning: pandas.util.testing is deprecated. Use the functions in the public API at pandas.testing instead.\n",
            "  import pandas.util.testing as tm\n"
          ],
          "name": "stderr"
        }
      ]
    },
    {
      "cell_type": "code",
      "metadata": {
        "colab": {
          "base_uri": "https://localhost:8080/"
        },
        "id": "Pm4g_oXGvBS9",
        "outputId": "b4ead2e4-9d15-4297-9ac8-168d716f5e02"
      },
      "source": [
        "import pandas as pd\n",
        "df = pd.read_csv(\"district_mobility_cases.csv\")#.dropna()\n",
        "# df[df['Confirmed']<0] = np.nan\n",
        "# df[df['Confirmed']] = df[df['Confirmed']].interpolate()\n",
        "df.info()\n",
        "\n",
        "import sklearn\n",
        "from sklearn.preprocessing import StandardScaler\n",
        "\n",
        "# df[df.State=='West Bengal'].District.unique()"
      ],
      "execution_count": 8,
      "outputs": [
        {
          "output_type": "stream",
          "text": [
            "<class 'pandas.core.frame.DataFrame'>\n",
            "RangeIndex: 181658 entries, 0 to 181657\n",
            "Data columns (total 10 columns):\n",
            " #   Column                                              Non-Null Count   Dtype  \n",
            "---  ------                                              --------------   -----  \n",
            " 0   District                                            181658 non-null  object \n",
            " 1   Date                                                181658 non-null  object \n",
            " 2   retail_and_recreation_percent_change_from_baseline  167731 non-null  float64\n",
            " 3   grocery_and_pharmacy_percent_change_from_baseline   154821 non-null  float64\n",
            " 4   parks_percent_change_from_baseline                  169506 non-null  float64\n",
            " 5   transit_stations_percent_change_from_baseline       173456 non-null  float64\n",
            " 6   workplaces_percent_change_from_baseline             180672 non-null  float64\n",
            " 7   residential_percent_change_from_baseline            172356 non-null  float64\n",
            " 8   State                                               181658 non-null  object \n",
            " 9   Confirmed                                           181658 non-null  float64\n",
            "dtypes: float64(7), object(3)\n",
            "memory usage: 13.9+ MB\n"
          ],
          "name": "stdout"
        }
      ]
    },
    {
      "cell_type": "code",
      "metadata": {
        "colab": {
          "base_uri": "https://localhost:8080/",
          "height": 462
        },
        "id": "nRxDJiQlvBYy",
        "outputId": "51e34b77-655f-4e9e-e84e-649d79809d82"
      },
      "source": [
        "# !wget https://covid.ourworldindata.org/data/owid-covid-data.csv\n",
        "applemobility = pd.read_csv(\"/content/applemobilitytrends-2021-04-24.csv\")\n",
        "applemobility = applemobility[applemobility['region']=='India']\n",
        "applemobility = applemobility.drop(['geo_type','sub-region','country','alternative_name'],axis=1)\n",
        "applemobility\n",
        "applemobility = applemobility.melt(id_vars=['region','transportation_type'],var_name='Date',value_name='mobility')\n",
        "applemobility.columns = ['location','transport','date','mobility']\n",
        "applemobility['date'] = pd.to_datetime(applemobility['date'])\n",
        "# applemobility = pd.pivot_table(applemobility, 'transport', )\n",
        "# applemobility = applemobility.groupby('transport')\n",
        "\n",
        "# applemobility['date'] = pd.to_datetime(applemobility['date'])\n",
        "new_df = applemobility[applemobility['transport']=='walking'].reset_index()\n",
        "new_df['transport/driving'] = applemobility[applemobility['transport']=='driving']['mobility'].values#.reset_index()\n",
        "applemobility = new_df.drop(['index','transport'], axis=1)\n",
        "# applemobility\n",
        "# dfs = [gb.get_group(x) for x in applemobility.groupby('transport').groups]\n",
        "# applemobility[]\n",
        "applemobility.columns = ['location','date','walking','driving']\n",
        "\n",
        "# applemobility.date = (applemobility.date - applemobility.date.min()).astype('timedelta64[D]')\n",
        "df2 = pd.merge(applemobility.drop('location',axis=1), india_cases, on=['date']).dropna()\n",
        "df2.date = (df2.date - df2.date.min()).astype('timedelta64[D]')\n",
        "df2\n",
        "# applemobility\n",
        "# new_df"
      ],
      "execution_count": 121,
      "outputs": [
        {
          "output_type": "stream",
          "text": [
            "/usr/local/lib/python3.7/dist-packages/IPython/core/interactiveshell.py:2718: DtypeWarning: Columns (3) have mixed types.Specify dtype option on import or set low_memory=False.\n",
            "  interactivity=interactivity, compiler=compiler, result=result)\n"
          ],
          "name": "stderr"
        },
        {
          "output_type": "execute_result",
          "data": {
            "text/html": [
              "<div>\n",
              "<style scoped>\n",
              "    .dataframe tbody tr th:only-of-type {\n",
              "        vertical-align: middle;\n",
              "    }\n",
              "\n",
              "    .dataframe tbody tr th {\n",
              "        vertical-align: top;\n",
              "    }\n",
              "\n",
              "    .dataframe thead th {\n",
              "        text-align: right;\n",
              "    }\n",
              "</style>\n",
              "<table border=\"1\" class=\"dataframe\">\n",
              "  <thead>\n",
              "    <tr style=\"text-align: right;\">\n",
              "      <th></th>\n",
              "      <th>date</th>\n",
              "      <th>walking</th>\n",
              "      <th>driving</th>\n",
              "      <th>new_cases</th>\n",
              "    </tr>\n",
              "  </thead>\n",
              "  <tbody>\n",
              "    <tr>\n",
              "      <th>0</th>\n",
              "      <td>0.0</td>\n",
              "      <td>110.41</td>\n",
              "      <td>115.40</td>\n",
              "      <td>1.0</td>\n",
              "    </tr>\n",
              "    <tr>\n",
              "      <th>1</th>\n",
              "      <td>1.0</td>\n",
              "      <td>117.08</td>\n",
              "      <td>122.46</td>\n",
              "      <td>0.0</td>\n",
              "    </tr>\n",
              "    <tr>\n",
              "      <th>2</th>\n",
              "      <td>2.0</td>\n",
              "      <td>125.96</td>\n",
              "      <td>131.49</td>\n",
              "      <td>0.0</td>\n",
              "    </tr>\n",
              "    <tr>\n",
              "      <th>3</th>\n",
              "      <td>3.0</td>\n",
              "      <td>113.76</td>\n",
              "      <td>119.28</td>\n",
              "      <td>1.0</td>\n",
              "    </tr>\n",
              "    <tr>\n",
              "      <th>4</th>\n",
              "      <td>4.0</td>\n",
              "      <td>110.57</td>\n",
              "      <td>108.72</td>\n",
              "      <td>1.0</td>\n",
              "    </tr>\n",
              "    <tr>\n",
              "      <th>...</th>\n",
              "      <td>...</td>\n",
              "      <td>...</td>\n",
              "      <td>...</td>\n",
              "      <td>...</td>\n",
              "    </tr>\n",
              "    <tr>\n",
              "      <th>446</th>\n",
              "      <td>446.0</td>\n",
              "      <td>86.89</td>\n",
              "      <td>75.51</td>\n",
              "      <td>295158.0</td>\n",
              "    </tr>\n",
              "    <tr>\n",
              "      <th>447</th>\n",
              "      <td>447.0</td>\n",
              "      <td>86.65</td>\n",
              "      <td>76.82</td>\n",
              "      <td>314644.0</td>\n",
              "    </tr>\n",
              "    <tr>\n",
              "      <th>448</th>\n",
              "      <td>448.0</td>\n",
              "      <td>85.11</td>\n",
              "      <td>75.81</td>\n",
              "      <td>332921.0</td>\n",
              "    </tr>\n",
              "    <tr>\n",
              "      <th>449</th>\n",
              "      <td>449.0</td>\n",
              "      <td>80.09</td>\n",
              "      <td>72.17</td>\n",
              "      <td>346786.0</td>\n",
              "    </tr>\n",
              "    <tr>\n",
              "      <th>450</th>\n",
              "      <td>450.0</td>\n",
              "      <td>70.82</td>\n",
              "      <td>64.04</td>\n",
              "      <td>349691.0</td>\n",
              "    </tr>\n",
              "  </tbody>\n",
              "</table>\n",
              "<p>448 rows × 4 columns</p>\n",
              "</div>"
            ],
            "text/plain": [
              "      date  walking  driving  new_cases\n",
              "0      0.0   110.41   115.40        1.0\n",
              "1      1.0   117.08   122.46        0.0\n",
              "2      2.0   125.96   131.49        0.0\n",
              "3      3.0   113.76   119.28        1.0\n",
              "4      4.0   110.57   108.72        1.0\n",
              "..     ...      ...      ...        ...\n",
              "446  446.0    86.89    75.51   295158.0\n",
              "447  447.0    86.65    76.82   314644.0\n",
              "448  448.0    85.11    75.81   332921.0\n",
              "449  449.0    80.09    72.17   346786.0\n",
              "450  450.0    70.82    64.04   349691.0\n",
              "\n",
              "[448 rows x 4 columns]"
            ]
          },
          "metadata": {
            "tags": []
          },
          "execution_count": 121
        }
      ]
    },
    {
      "cell_type": "code",
      "metadata": {
        "colab": {
          "base_uri": "https://localhost:8080/",
          "height": 600
        },
        "id": "71q97gH5f-gV",
        "outputId": "79ffc8ca-685f-487f-a0fb-5a3cb9cdc49a"
      },
      "source": [
        "df"
      ],
      "execution_count": 9,
      "outputs": [
        {
          "output_type": "execute_result",
          "data": {
            "text/html": [
              "<div>\n",
              "<style scoped>\n",
              "    .dataframe tbody tr th:only-of-type {\n",
              "        vertical-align: middle;\n",
              "    }\n",
              "\n",
              "    .dataframe tbody tr th {\n",
              "        vertical-align: top;\n",
              "    }\n",
              "\n",
              "    .dataframe thead th {\n",
              "        text-align: right;\n",
              "    }\n",
              "</style>\n",
              "<table border=\"1\" class=\"dataframe\">\n",
              "  <thead>\n",
              "    <tr style=\"text-align: right;\">\n",
              "      <th></th>\n",
              "      <th>District</th>\n",
              "      <th>Date</th>\n",
              "      <th>retail_and_recreation_percent_change_from_baseline</th>\n",
              "      <th>grocery_and_pharmacy_percent_change_from_baseline</th>\n",
              "      <th>parks_percent_change_from_baseline</th>\n",
              "      <th>transit_stations_percent_change_from_baseline</th>\n",
              "      <th>workplaces_percent_change_from_baseline</th>\n",
              "      <th>residential_percent_change_from_baseline</th>\n",
              "      <th>State</th>\n",
              "      <th>Confirmed</th>\n",
              "    </tr>\n",
              "  </thead>\n",
              "  <tbody>\n",
              "    <tr>\n",
              "      <th>0</th>\n",
              "      <td>Chittoor</td>\n",
              "      <td>2020-04-26</td>\n",
              "      <td>-83.0</td>\n",
              "      <td>-48.0</td>\n",
              "      <td>-57.0</td>\n",
              "      <td>-68.0</td>\n",
              "      <td>-33.0</td>\n",
              "      <td>23.0</td>\n",
              "      <td>Andhra Pradesh</td>\n",
              "      <td>0.0</td>\n",
              "    </tr>\n",
              "    <tr>\n",
              "      <th>1</th>\n",
              "      <td>Chittoor</td>\n",
              "      <td>2020-04-27</td>\n",
              "      <td>-83.0</td>\n",
              "      <td>-46.0</td>\n",
              "      <td>-50.0</td>\n",
              "      <td>-67.0</td>\n",
              "      <td>-50.0</td>\n",
              "      <td>31.0</td>\n",
              "      <td>Andhra Pradesh</td>\n",
              "      <td>0.0</td>\n",
              "    </tr>\n",
              "    <tr>\n",
              "      <th>2</th>\n",
              "      <td>Chittoor</td>\n",
              "      <td>2020-04-28</td>\n",
              "      <td>-83.0</td>\n",
              "      <td>-46.0</td>\n",
              "      <td>-48.0</td>\n",
              "      <td>-65.0</td>\n",
              "      <td>-52.0</td>\n",
              "      <td>29.0</td>\n",
              "      <td>Andhra Pradesh</td>\n",
              "      <td>1.0</td>\n",
              "    </tr>\n",
              "    <tr>\n",
              "      <th>3</th>\n",
              "      <td>Chittoor</td>\n",
              "      <td>2020-04-29</td>\n",
              "      <td>-82.0</td>\n",
              "      <td>-44.0</td>\n",
              "      <td>-49.0</td>\n",
              "      <td>-64.0</td>\n",
              "      <td>-52.0</td>\n",
              "      <td>28.0</td>\n",
              "      <td>Andhra Pradesh</td>\n",
              "      <td>3.0</td>\n",
              "    </tr>\n",
              "    <tr>\n",
              "      <th>4</th>\n",
              "      <td>Chittoor</td>\n",
              "      <td>2020-04-30</td>\n",
              "      <td>-83.0</td>\n",
              "      <td>-41.0</td>\n",
              "      <td>-49.0</td>\n",
              "      <td>-65.0</td>\n",
              "      <td>-51.0</td>\n",
              "      <td>29.0</td>\n",
              "      <td>Andhra Pradesh</td>\n",
              "      <td>3.0</td>\n",
              "    </tr>\n",
              "    <tr>\n",
              "      <th>...</th>\n",
              "      <td>...</td>\n",
              "      <td>...</td>\n",
              "      <td>...</td>\n",
              "      <td>...</td>\n",
              "      <td>...</td>\n",
              "      <td>...</td>\n",
              "      <td>...</td>\n",
              "      <td>...</td>\n",
              "      <td>...</td>\n",
              "      <td>...</td>\n",
              "    </tr>\n",
              "    <tr>\n",
              "      <th>181653</th>\n",
              "      <td>Uttar Dinajpur</td>\n",
              "      <td>2021-04-10</td>\n",
              "      <td>-6.0</td>\n",
              "      <td>33.0</td>\n",
              "      <td>1.0</td>\n",
              "      <td>-12.0</td>\n",
              "      <td>-7.0</td>\n",
              "      <td>12.0</td>\n",
              "      <td>West Bengal</td>\n",
              "      <td>50.0</td>\n",
              "    </tr>\n",
              "    <tr>\n",
              "      <th>181654</th>\n",
              "      <td>Uttar Dinajpur</td>\n",
              "      <td>2021-04-11</td>\n",
              "      <td>-2.0</td>\n",
              "      <td>35.0</td>\n",
              "      <td>7.0</td>\n",
              "      <td>-10.0</td>\n",
              "      <td>-2.0</td>\n",
              "      <td>11.0</td>\n",
              "      <td>West Bengal</td>\n",
              "      <td>26.0</td>\n",
              "    </tr>\n",
              "    <tr>\n",
              "      <th>181655</th>\n",
              "      <td>Uttar Dinajpur</td>\n",
              "      <td>2021-04-12</td>\n",
              "      <td>-2.0</td>\n",
              "      <td>37.0</td>\n",
              "      <td>8.0</td>\n",
              "      <td>-8.0</td>\n",
              "      <td>-6.0</td>\n",
              "      <td>10.0</td>\n",
              "      <td>West Bengal</td>\n",
              "      <td>73.0</td>\n",
              "    </tr>\n",
              "    <tr>\n",
              "      <th>181656</th>\n",
              "      <td>Uttar Dinajpur</td>\n",
              "      <td>2021-04-13</td>\n",
              "      <td>2.0</td>\n",
              "      <td>41.0</td>\n",
              "      <td>8.0</td>\n",
              "      <td>-2.0</td>\n",
              "      <td>-10.0</td>\n",
              "      <td>10.0</td>\n",
              "      <td>West Bengal</td>\n",
              "      <td>78.0</td>\n",
              "    </tr>\n",
              "    <tr>\n",
              "      <th>181657</th>\n",
              "      <td>Uttar Dinajpur</td>\n",
              "      <td>2021-04-14</td>\n",
              "      <td>-4.0</td>\n",
              "      <td>39.0</td>\n",
              "      <td>3.0</td>\n",
              "      <td>-11.0</td>\n",
              "      <td>-19.0</td>\n",
              "      <td>14.0</td>\n",
              "      <td>West Bengal</td>\n",
              "      <td>80.0</td>\n",
              "    </tr>\n",
              "  </tbody>\n",
              "</table>\n",
              "<p>181658 rows × 10 columns</p>\n",
              "</div>"
            ],
            "text/plain": [
              "              District        Date  ...           State  Confirmed\n",
              "0             Chittoor  2020-04-26  ...  Andhra Pradesh        0.0\n",
              "1             Chittoor  2020-04-27  ...  Andhra Pradesh        0.0\n",
              "2             Chittoor  2020-04-28  ...  Andhra Pradesh        1.0\n",
              "3             Chittoor  2020-04-29  ...  Andhra Pradesh        3.0\n",
              "4             Chittoor  2020-04-30  ...  Andhra Pradesh        3.0\n",
              "...                ...         ...  ...             ...        ...\n",
              "181653  Uttar Dinajpur  2021-04-10  ...     West Bengal       50.0\n",
              "181654  Uttar Dinajpur  2021-04-11  ...     West Bengal       26.0\n",
              "181655  Uttar Dinajpur  2021-04-12  ...     West Bengal       73.0\n",
              "181656  Uttar Dinajpur  2021-04-13  ...     West Bengal       78.0\n",
              "181657  Uttar Dinajpur  2021-04-14  ...     West Bengal       80.0\n",
              "\n",
              "[181658 rows x 10 columns]"
            ]
          },
          "metadata": {
            "tags": []
          },
          "execution_count": 9
        }
      ]
    },
    {
      "cell_type": "code",
      "metadata": {
        "colab": {
          "base_uri": "https://localhost:8080/"
        },
        "id": "XH7hf-vHqCL8",
        "outputId": "bab9f69e-accc-4bf9-9424-9867437754d5"
      },
      "source": [
        "from statsmodels.tsa.api import VAR\n",
        "\n",
        "data = df[df['State']=='West Bengal'][['Confirmed','Date','District']].dropna()\n",
        "\n",
        "# data['date'] = \n",
        "# print(df2.info())\n",
        "# cols = ['driving','walking','new_cases']\n",
        "\n",
        "data['Date'] = pd.to_datetime(data['Date'])\n",
        "data['Date'] = (data['Date'] - data['Date'].min()).astype('timedelta64[D]')\n",
        "\n",
        "# data = data[data['date']<90]\n",
        "\n",
        "def get_data(data, districts):\n",
        "    fdata = []\n",
        "    lowLen = float('inf')\n",
        "    for district in districts:\n",
        "        vals = data[data['District']==district]['Confirmed'].values\n",
        "        if vals.size < lowLen:\n",
        "            lowLen = vals.size\n",
        "\n",
        "        fdata.append(vals)\n",
        "\n",
        "    ndata = []\n",
        "    for i in range(len(fdata)):\n",
        "        ndata.append(fdata[i][-lowLen:])\n",
        "\n",
        "\n",
        "    return np.asarray(ndata)\n",
        "\n",
        "districts = data['District'].unique().tolist()\n",
        "fdata = get_data(data, districts)\n",
        "\n",
        "\n",
        "# data.loc[:,mobility] = data.loc[:,mobility].shift(7)\n",
        "# df = data.dropna()\n",
        "# print(df2.info())\n",
        "from sklearn.preprocessing import MinMaxScaler\n",
        "scaler = MinMaxScaler()\n",
        "# data.loc[:,cols] = scaler.fit_transform(data.loc[:,'Confi'])\n",
        "\n",
        "\n",
        "fdata = scaler.fit_transform(fdata)\n",
        "print(fdata.shape)\n",
        "fdata = pd.DataFrame(fdata.T)\n",
        "fdata.columns = districts\n",
        "model = VAR(fdata)#, data['Date'].values)\n",
        "results = model.fit()\n",
        "results.summary()\n",
        "\n",
        "# for mobility in data.columns[:-1]:\n",
        "for t in districts:\n",
        "    print(results.test_causality([t],['Kolkata'], kind='f').summary())\n",
        "# print(results.test_causality(['Howrah'], ['Kolkata'], kind='wald').summary())\n",
        "# print(results.test_causality(['South 24 Parganas'], ['Kolkata'], kind='wald').summary())\n",
        "# 'Cooch Behar','Howrah','Malda','North 24 Parganas','Uttar Dinajpur','Murshidabad'"
      ],
      "execution_count": 36,
      "outputs": [
        {
          "output_type": "stream",
          "text": [
            "(18, 320)\n",
            "Granger causality F-test. H_0: Kolkata does not Granger-cause Alipurduar. Conclusion: reject H_0 at 5% significance level.\n",
            "===============================================\n",
            "Test statistic Critical value p-value     df   \n",
            "-----------------------------------------------\n",
            "         10.36          3.843   0.001 (1, 5400)\n",
            "-----------------------------------------------\n",
            "Granger causality F-test. H_0: Kolkata does not Granger-cause Bankura. Conclusion: reject H_0 at 5% significance level.\n",
            "===============================================\n",
            "Test statistic Critical value p-value     df   \n",
            "-----------------------------------------------\n",
            "         13.01          3.843   0.000 (1, 5400)\n",
            "-----------------------------------------------\n",
            "Granger causality F-test. H_0: Kolkata does not Granger-cause Birbhum. Conclusion: reject H_0 at 5% significance level.\n",
            "===============================================\n",
            "Test statistic Critical value p-value     df   \n",
            "-----------------------------------------------\n",
            "         4.946          3.843   0.026 (1, 5400)\n",
            "-----------------------------------------------\n",
            "Granger causality F-test. H_0: Kolkata does not Granger-cause Cooch Behar. Conclusion: reject H_0 at 5% significance level.\n",
            "===============================================\n",
            "Test statistic Critical value p-value     df   \n",
            "-----------------------------------------------\n",
            "         9.846          3.843   0.002 (1, 5400)\n",
            "-----------------------------------------------\n",
            "Granger causality F-test. H_0: Kolkata does not Granger-cause Dakshin Dinajpur. Conclusion: fail to reject H_0 at 5% significance level.\n",
            "===============================================\n",
            "Test statistic Critical value p-value     df   \n",
            "-----------------------------------------------\n",
            "        0.7086          3.843   0.400 (1, 5400)\n",
            "-----------------------------------------------\n",
            "Granger causality F-test. H_0: Kolkata does not Granger-cause Darjeeling. Conclusion: fail to reject H_0 at 5% significance level.\n",
            "===============================================\n",
            "Test statistic Critical value p-value     df   \n",
            "-----------------------------------------------\n",
            "         1.100          3.843   0.294 (1, 5400)\n",
            "-----------------------------------------------\n",
            "Granger causality F-test. H_0: Kolkata does not Granger-cause Hooghly. Conclusion: fail to reject H_0 at 5% significance level.\n",
            "===============================================\n",
            "Test statistic Critical value p-value     df   \n",
            "-----------------------------------------------\n",
            "        0.3138          3.843   0.575 (1, 5400)\n",
            "-----------------------------------------------\n",
            "Granger causality F-test. H_0: Kolkata does not Granger-cause Howrah. Conclusion: reject H_0 at 5% significance level.\n",
            "===============================================\n",
            "Test statistic Critical value p-value     df   \n",
            "-----------------------------------------------\n",
            "         4.115          3.843   0.043 (1, 5400)\n",
            "-----------------------------------------------\n",
            "Granger causality F-test. H_0: Kolkata does not Granger-cause Jalpaiguri. Conclusion: fail to reject H_0 at 5% significance level.\n",
            "===============================================\n",
            "Test statistic Critical value p-value     df   \n",
            "-----------------------------------------------\n",
            "       0.04551          3.843   0.831 (1, 5400)\n",
            "-----------------------------------------------\n",
            "Granger causality F-test. H_0: Kolkata does not Granger-cause Kolkata. Conclusion: reject H_0 at 5% significance level.\n",
            "===============================================\n",
            "Test statistic Critical value p-value     df   \n",
            "-----------------------------------------------\n",
            "         32.14          3.843   0.000 (1, 5400)\n",
            "-----------------------------------------------\n",
            "Granger causality F-test. H_0: Kolkata does not Granger-cause Malda. Conclusion: fail to reject H_0 at 5% significance level.\n",
            "===============================================\n",
            "Test statistic Critical value p-value     df   \n",
            "-----------------------------------------------\n",
            "         1.773          3.843   0.183 (1, 5400)\n",
            "-----------------------------------------------\n",
            "Granger causality F-test. H_0: Kolkata does not Granger-cause Murshidabad. Conclusion: fail to reject H_0 at 5% significance level.\n",
            "===============================================\n",
            "Test statistic Critical value p-value     df   \n",
            "-----------------------------------------------\n",
            "      0.004064          3.843   0.949 (1, 5400)\n",
            "-----------------------------------------------\n",
            "Granger causality F-test. H_0: Kolkata does not Granger-cause Nadia. Conclusion: fail to reject H_0 at 5% significance level.\n",
            "===============================================\n",
            "Test statistic Critical value p-value     df   \n",
            "-----------------------------------------------\n",
            "       0.06538          3.843   0.798 (1, 5400)\n",
            "-----------------------------------------------\n",
            "Granger causality F-test. H_0: Kolkata does not Granger-cause North 24 Parganas. Conclusion: reject H_0 at 5% significance level.\n",
            "===============================================\n",
            "Test statistic Critical value p-value     df   \n",
            "-----------------------------------------------\n",
            "         5.973          3.843   0.015 (1, 5400)\n",
            "-----------------------------------------------\n",
            "Granger causality F-test. H_0: Kolkata does not Granger-cause Purba Medinipur. Conclusion: fail to reject H_0 at 5% significance level.\n",
            "===============================================\n",
            "Test statistic Critical value p-value     df   \n",
            "-----------------------------------------------\n",
            "         2.326          3.843   0.127 (1, 5400)\n",
            "-----------------------------------------------\n",
            "Granger causality F-test. H_0: Kolkata does not Granger-cause Purulia. Conclusion: fail to reject H_0 at 5% significance level.\n",
            "===============================================\n",
            "Test statistic Critical value p-value     df   \n",
            "-----------------------------------------------\n",
            "        0.2712          3.843   0.603 (1, 5400)\n",
            "-----------------------------------------------\n",
            "Granger causality F-test. H_0: Kolkata does not Granger-cause South 24 Parganas. Conclusion: fail to reject H_0 at 5% significance level.\n",
            "===============================================\n",
            "Test statistic Critical value p-value     df   \n",
            "-----------------------------------------------\n",
            "         1.371          3.843   0.242 (1, 5400)\n",
            "-----------------------------------------------\n",
            "Granger causality F-test. H_0: Kolkata does not Granger-cause Uttar Dinajpur. Conclusion: fail to reject H_0 at 5% significance level.\n",
            "===============================================\n",
            "Test statistic Critical value p-value     df   \n",
            "-----------------------------------------------\n",
            "       0.03693          3.843   0.848 (1, 5400)\n",
            "-----------------------------------------------\n"
          ],
          "name": "stdout"
        }
      ]
    },
    {
      "cell_type": "code",
      "metadata": {
        "colab": {
          "base_uri": "https://localhost:8080/"
        },
        "id": "i2iLkOBprI2W",
        "outputId": "90805a83-1123-460f-cbad-59e2afc8b953"
      },
      "source": [
        "df.size"
      ],
      "execution_count": 27,
      "outputs": [
        {
          "output_type": "execute_result",
          "data": {
            "text/plain": [
              "1816580"
            ]
          },
          "metadata": {
            "tags": []
          },
          "execution_count": 27
        }
      ]
    },
    {
      "cell_type": "code",
      "metadata": {
        "colab": {
          "base_uri": "https://localhost:8080/",
          "height": 407
        },
        "id": "3zntuztQqj8P",
        "outputId": "ef051b44-d6ba-4ec7-85b6-2eee53a7aa80"
      },
      "source": [
        "df2"
      ],
      "execution_count": 126,
      "outputs": [
        {
          "output_type": "execute_result",
          "data": {
            "text/html": [
              "<div>\n",
              "<style scoped>\n",
              "    .dataframe tbody tr th:only-of-type {\n",
              "        vertical-align: middle;\n",
              "    }\n",
              "\n",
              "    .dataframe tbody tr th {\n",
              "        vertical-align: top;\n",
              "    }\n",
              "\n",
              "    .dataframe thead th {\n",
              "        text-align: right;\n",
              "    }\n",
              "</style>\n",
              "<table border=\"1\" class=\"dataframe\">\n",
              "  <thead>\n",
              "    <tr style=\"text-align: right;\">\n",
              "      <th></th>\n",
              "      <th>date</th>\n",
              "      <th>walking</th>\n",
              "      <th>driving</th>\n",
              "      <th>new_cases</th>\n",
              "    </tr>\n",
              "  </thead>\n",
              "  <tbody>\n",
              "    <tr>\n",
              "      <th>0</th>\n",
              "      <td>0.0</td>\n",
              "      <td>110.41</td>\n",
              "      <td>115.40</td>\n",
              "      <td>1.0</td>\n",
              "    </tr>\n",
              "    <tr>\n",
              "      <th>1</th>\n",
              "      <td>1.0</td>\n",
              "      <td>117.08</td>\n",
              "      <td>122.46</td>\n",
              "      <td>0.0</td>\n",
              "    </tr>\n",
              "    <tr>\n",
              "      <th>2</th>\n",
              "      <td>2.0</td>\n",
              "      <td>125.96</td>\n",
              "      <td>131.49</td>\n",
              "      <td>0.0</td>\n",
              "    </tr>\n",
              "    <tr>\n",
              "      <th>3</th>\n",
              "      <td>3.0</td>\n",
              "      <td>113.76</td>\n",
              "      <td>119.28</td>\n",
              "      <td>1.0</td>\n",
              "    </tr>\n",
              "    <tr>\n",
              "      <th>4</th>\n",
              "      <td>4.0</td>\n",
              "      <td>110.57</td>\n",
              "      <td>108.72</td>\n",
              "      <td>1.0</td>\n",
              "    </tr>\n",
              "    <tr>\n",
              "      <th>...</th>\n",
              "      <td>...</td>\n",
              "      <td>...</td>\n",
              "      <td>...</td>\n",
              "      <td>...</td>\n",
              "    </tr>\n",
              "    <tr>\n",
              "      <th>446</th>\n",
              "      <td>446.0</td>\n",
              "      <td>86.89</td>\n",
              "      <td>75.51</td>\n",
              "      <td>295158.0</td>\n",
              "    </tr>\n",
              "    <tr>\n",
              "      <th>447</th>\n",
              "      <td>447.0</td>\n",
              "      <td>86.65</td>\n",
              "      <td>76.82</td>\n",
              "      <td>314644.0</td>\n",
              "    </tr>\n",
              "    <tr>\n",
              "      <th>448</th>\n",
              "      <td>448.0</td>\n",
              "      <td>85.11</td>\n",
              "      <td>75.81</td>\n",
              "      <td>332921.0</td>\n",
              "    </tr>\n",
              "    <tr>\n",
              "      <th>449</th>\n",
              "      <td>449.0</td>\n",
              "      <td>80.09</td>\n",
              "      <td>72.17</td>\n",
              "      <td>346786.0</td>\n",
              "    </tr>\n",
              "    <tr>\n",
              "      <th>450</th>\n",
              "      <td>450.0</td>\n",
              "      <td>70.82</td>\n",
              "      <td>64.04</td>\n",
              "      <td>349691.0</td>\n",
              "    </tr>\n",
              "  </tbody>\n",
              "</table>\n",
              "<p>448 rows × 4 columns</p>\n",
              "</div>"
            ],
            "text/plain": [
              "      date  walking  driving  new_cases\n",
              "0      0.0   110.41   115.40        1.0\n",
              "1      1.0   117.08   122.46        0.0\n",
              "2      2.0   125.96   131.49        0.0\n",
              "3      3.0   113.76   119.28        1.0\n",
              "4      4.0   110.57   108.72        1.0\n",
              "..     ...      ...      ...        ...\n",
              "446  446.0    86.89    75.51   295158.0\n",
              "447  447.0    86.65    76.82   314644.0\n",
              "448  448.0    85.11    75.81   332921.0\n",
              "449  449.0    80.09    72.17   346786.0\n",
              "450  450.0    70.82    64.04   349691.0\n",
              "\n",
              "[448 rows x 4 columns]"
            ]
          },
          "metadata": {
            "tags": []
          },
          "execution_count": 126
        }
      ]
    },
    {
      "cell_type": "code",
      "metadata": {
        "colab": {
          "base_uri": "https://localhost:8080/",
          "height": 407
        },
        "id": "Pi6ymS1kpUsX",
        "outputId": "f5b4c51b-da0d-4890-d43b-779da68dd5cc"
      },
      "source": [
        "world = pd.read_csv(\"/content/owid-covid-data.csv\")\n",
        "india_cases = world[world['location']=='India'][['date','new_cases']]\n",
        "india_cases['date'] = pd.to_datetime(india_cases['date'])\n",
        "applemobility"
      ],
      "execution_count": 120,
      "outputs": [
        {
          "output_type": "execute_result",
          "data": {
            "text/html": [
              "<div>\n",
              "<style scoped>\n",
              "    .dataframe tbody tr th:only-of-type {\n",
              "        vertical-align: middle;\n",
              "    }\n",
              "\n",
              "    .dataframe tbody tr th {\n",
              "        vertical-align: top;\n",
              "    }\n",
              "\n",
              "    .dataframe thead th {\n",
              "        text-align: right;\n",
              "    }\n",
              "</style>\n",
              "<table border=\"1\" class=\"dataframe\">\n",
              "  <thead>\n",
              "    <tr style=\"text-align: right;\">\n",
              "      <th></th>\n",
              "      <th>location</th>\n",
              "      <th>date</th>\n",
              "      <th>walking</th>\n",
              "      <th>driving</th>\n",
              "    </tr>\n",
              "  </thead>\n",
              "  <tbody>\n",
              "    <tr>\n",
              "      <th>0</th>\n",
              "      <td>India</td>\n",
              "      <td>2020-01-13</td>\n",
              "      <td>100.00</td>\n",
              "      <td>100.00</td>\n",
              "    </tr>\n",
              "    <tr>\n",
              "      <th>1</th>\n",
              "      <td>India</td>\n",
              "      <td>2020-01-14</td>\n",
              "      <td>99.18</td>\n",
              "      <td>102.35</td>\n",
              "    </tr>\n",
              "    <tr>\n",
              "      <th>2</th>\n",
              "      <td>India</td>\n",
              "      <td>2020-01-15</td>\n",
              "      <td>104.08</td>\n",
              "      <td>107.96</td>\n",
              "    </tr>\n",
              "    <tr>\n",
              "      <th>3</th>\n",
              "      <td>India</td>\n",
              "      <td>2020-01-16</td>\n",
              "      <td>107.41</td>\n",
              "      <td>110.77</td>\n",
              "    </tr>\n",
              "    <tr>\n",
              "      <th>4</th>\n",
              "      <td>India</td>\n",
              "      <td>2020-01-17</td>\n",
              "      <td>113.91</td>\n",
              "      <td>120.64</td>\n",
              "    </tr>\n",
              "    <tr>\n",
              "      <th>...</th>\n",
              "      <td>...</td>\n",
              "      <td>...</td>\n",
              "      <td>...</td>\n",
              "      <td>...</td>\n",
              "    </tr>\n",
              "    <tr>\n",
              "      <th>463</th>\n",
              "      <td>India</td>\n",
              "      <td>2021-04-20</td>\n",
              "      <td>86.89</td>\n",
              "      <td>75.51</td>\n",
              "    </tr>\n",
              "    <tr>\n",
              "      <th>464</th>\n",
              "      <td>India</td>\n",
              "      <td>2021-04-21</td>\n",
              "      <td>86.65</td>\n",
              "      <td>76.82</td>\n",
              "    </tr>\n",
              "    <tr>\n",
              "      <th>465</th>\n",
              "      <td>India</td>\n",
              "      <td>2021-04-22</td>\n",
              "      <td>85.11</td>\n",
              "      <td>75.81</td>\n",
              "    </tr>\n",
              "    <tr>\n",
              "      <th>466</th>\n",
              "      <td>India</td>\n",
              "      <td>2021-04-23</td>\n",
              "      <td>80.09</td>\n",
              "      <td>72.17</td>\n",
              "    </tr>\n",
              "    <tr>\n",
              "      <th>467</th>\n",
              "      <td>India</td>\n",
              "      <td>2021-04-24</td>\n",
              "      <td>70.82</td>\n",
              "      <td>64.04</td>\n",
              "    </tr>\n",
              "  </tbody>\n",
              "</table>\n",
              "<p>468 rows × 4 columns</p>\n",
              "</div>"
            ],
            "text/plain": [
              "    location       date  walking  driving\n",
              "0      India 2020-01-13   100.00   100.00\n",
              "1      India 2020-01-14    99.18   102.35\n",
              "2      India 2020-01-15   104.08   107.96\n",
              "3      India 2020-01-16   107.41   110.77\n",
              "4      India 2020-01-17   113.91   120.64\n",
              "..       ...        ...      ...      ...\n",
              "463    India 2021-04-20    86.89    75.51\n",
              "464    India 2021-04-21    86.65    76.82\n",
              "465    India 2021-04-22    85.11    75.81\n",
              "466    India 2021-04-23    80.09    72.17\n",
              "467    India 2021-04-24    70.82    64.04\n",
              "\n",
              "[468 rows x 4 columns]"
            ]
          },
          "metadata": {
            "tags": []
          },
          "execution_count": 120
        }
      ]
    },
    {
      "cell_type": "code",
      "metadata": {
        "id": "aFdqGs9YqBY3"
      },
      "source": [
        ""
      ],
      "execution_count": null,
      "outputs": []
    },
    {
      "cell_type": "code",
      "metadata": {
        "colab": {
          "base_uri": "https://localhost:8080/",
          "height": 565
        },
        "id": "RhFPXUKUS3Mf",
        "outputId": "77374287-5149-449f-f031-b917a77fc04f"
      },
      "source": [
        "from sklearn.preprocessing import normalize\n",
        "plt.plot(df2.driving)#.values.reshape(1,-1), label='Driving')\n",
        "plt.plot(df2.walking)#.values.reshape(1,-1), label='Walking')\n",
        "plt.show()\n",
        "plt.cla()\n",
        "plt.plot(np.log(df2.new_cases_smoothed), label='Cases')"
      ],
      "execution_count": 131,
      "outputs": [
        {
          "output_type": "display_data",
          "data": {
            "image/png": "[encoded data removed]",
            "text/plain": [
              "<Figure size 432x288 with 1 Axes>"
            ]
          },
          "metadata": {
            "tags": [],
            "needs_background": "light"
          }
        },
        {
          "output_type": "stream",
          "text": [
            "/usr/local/lib/python3.7/dist-packages/pandas/core/series.py:726: RuntimeWarning: divide by zero encountered in log\n",
            "  result = getattr(ufunc, method)(*inputs, **kwargs)\n"
          ],
          "name": "stderr"
        },
        {
          "output_type": "execute_result",
          "data": {
            "text/plain": [
              "[<matplotlib.lines.Line2D at 0x7f09c1c264d0>]"
            ]
          },
          "metadata": {
            "tags": []
          },
          "execution_count": 131
        },
        {
          "output_type": "display_data",
          "data": {
            "image/png": "[encoded data removed]",
            "text/plain": [
              "<Figure size 432x288 with 1 Axes>"
            ]
          },
          "metadata": {
            "tags": [],
            "needs_background": "light"
          }
        }
      ]
    },
    {
      "cell_type": "code",
      "metadata": {
        "id": "yDYeSpIXvBdB"
      },
      "source": [
        "import pandas as pd\n",
        "df = pd.read_csv(\"owid-covid-data.csv\")\n",
        "df.info()\n",
        "\n",
        "df1 = df[['date','location','stringency_index','new_cases_smoothed']]\n",
        "# df['stringency_index']\n",
        "df1 = df1[df1['location']=='India'].reset_index()\n",
        "df1['date'] = pd.to_datetime(df1['date'])\n",
        "df1 = df1.drop('index',axis=1)\n",
        "# df1['date'] = (df1['date'] - df1['date'].min()).astype('timedelta64[D]')\n",
        "# df1 = df1.dropna()\n",
        "df1.info()\n",
        "# df1[df1['stringency_index'].isnull()]# = df1['stringency']i\n",
        "# df1.tail(25)\n",
        "# df1['stringency_index'] = .min\n",
        "# df1['stringency_index'].fillna(df1['stringency_index'].mean())"
      ],
      "execution_count": null,
      "outputs": []
    },
    {
      "cell_type": "code",
      "metadata": {
        "colab": {
          "base_uri": "https://localhost:8080/"
        },
        "id": "-pDcbTGbscfZ",
        "outputId": "3deba174-99c0-4885-c2ad-84d1402d6852"
      },
      "source": [
        "mobility = ['retail_and_recreation_percent_change_from_baseline',\n",
        "       'grocery_and_pharmacy_percent_change_from_baseline',\n",
        "       'parks_percent_change_from_baseline',\n",
        "       'transit_stations_percent_change_from_baseline',\n",
        "       'workplaces_percent_change_from_baseline',\n",
        "       'residential_percent_change_from_baseline']\n",
        "cols = [*mobility, 'Confirmed_1','Confirmed_2','Confirmed_3']#,'Confirmed_4','Confirmed_5','Confirmed_6','Confirmed_7']\n",
        "confirmed_cols = ['Confirmed','Confirmed_1','Confirmed_2','Confirmed_3']#,'Confirmed_4','Confirmed_5','Confirmed_6','Confirmed_7']\n",
        "\n",
        "mumbai = df[df['District']=='Kolkata'].copy().reset_index()\n",
        "\n",
        "mumbai['Confirmed_1'] = mumbai['Confirmed'].shift(-1)\n",
        "mumbai['Confirmed_2'] = mumbai['Confirmed'].shift(-2)\n",
        "mumbai['Confirmed_3'] = mumbai['Confirmed'].shift(-3)\n",
        "# mumbai['Confirmed_4'] = mumbai['Confirmed'].shift(-4)\n",
        "# mumbai['Confirmed_5'] = mumbai['Confirmed'].shift(-5)\n",
        "# mumbai['Confirmed_6'] = mumbai['Confirmed'].shift(-6)\n",
        "# mumbai['Confirmed_7'] = mumbai['Confirmed'].shift(-7)\n",
        "\n",
        "mumbai.loc[:,mobility] = mumbai[mobility].shift(14)\n",
        "\n",
        "mumbai = mumbai.dropna()\n",
        "\n",
        "mask = np.random.rand(len(mumbai)) < 1.0\n",
        "\n",
        "df_train = mumbai[mask].copy()\n",
        "# df_test = mumbai[~mask].copy()\n",
        "\n",
        "# df_train.loc[:,mobility] = df_train.loc[:,mobility].shift(10)\n",
        "# df_test.loc[:,mobility] = df_test.loc[:,mobility].shift(10)\n",
        "\n",
        "scaler = StandardScaler()\n",
        "df_train.loc[:,mobility] = scaler.fit_transform(df_train[mobility])\n",
        "# df_test.loc[:,mobility] = scaler.transform(df_test[mobility])\n",
        "\n",
        "cases_scaler = StandardScaler()\n",
        "cases_scaler.fit(df_train['Confirmed'].values.reshape(-1,1))\n",
        "# df_train.loc[:,confirmed_cols] = cases_scaler.transform(df_train[confirmed_cols])\n",
        "\n",
        "# df_test.loc[:,confirmed_cols] = cases_scaler.transform(df_test[confirmed_cols])\n",
        "df_train.loc[:,confirmed_cols] = np.log(df_train.loc[:,confirmed_cols] + 1e-8)\n",
        "# df_test.loc[:,confirmed_cols] = np.log(df_test.loc[:,confirmed_cols] + 1e-8)\n",
        "\n",
        "xtrain = df_train[cols]\n",
        "ytrain = df_train['Confirmed']\n",
        "\n",
        "# xtest = df_test[cols]\n",
        "# ytest = df_test['Confirmed']\n",
        "\n",
        "xtrain[[i for i in confirmed_cols if i is not 'Confirmed']].head(), ytrain.head()\n",
        "\n",
        "poisson_training_results = sm.GLM(ytrain, xtrain, family=sm.families.Poisson()).fit()\n",
        "\n"
      ],
      "execution_count": 141,
      "outputs": [
        {
          "output_type": "execute_result",
          "data": {
            "text/plain": [
              "(    Confirmed_1  Confirmed_2  Confirmed_3\n",
              " 14     3.988984     3.663562     4.442651\n",
              " 15     3.663562     4.442651     3.433987\n",
              " 16     4.442651     3.433987     3.761200\n",
              " 17     3.433987     3.761200     4.174387\n",
              " 18     3.761200     4.174387     3.828641, 14    3.610918\n",
              " 15    3.988984\n",
              " 16    3.663562\n",
              " 17    4.442651\n",
              " 18    3.433987\n",
              " Name: Confirmed, dtype: float64)"
            ]
          },
          "metadata": {
            "tags": []
          },
          "execution_count": 141
        }
      ]
    },
    {
      "cell_type": "code",
      "metadata": {
        "colab": {
          "base_uri": "https://localhost:8080/"
        },
        "id": "DVc38X9AsQMt",
        "outputId": "1f336d58-fc50-4b9b-e6b2-2a19ea6e0c99"
      },
      "source": [
        "import statsmodels.api as sm\n",
        "\n",
        "poisson_training_results = sm.GLM(ytrain, xtrain, family=sm.families.Poisson()).fit()\n",
        "poisson_predictions = poisson_training_results.get_prediction(xtest)\n",
        "predictions_summary_frame = poisson_predictions.summary_frame()\n",
        "predictions_summary_frame['Actual'] = ytest\n",
        "predictions_summary_frame['mean'] = predictions_summary_frame['mean']\n",
        "\n",
        "poisson_training_results = sm.GLM(ytrain, xtrain, family=sm.families.NegativeBinomial()).fit()\n",
        "poisson_predictions = poisson_training_results.get_prediction(xtest)\n",
        "predictions_summary_frame = poisson_predictions.summary_frame()\n",
        "predictions_summary_frame['Actual'] = ytest\n",
        "predictions_summary_frame['mean'] = predictions_summary_frame['mean']\n",
        "# print(poisson_training_results.summary())"
      ],
      "execution_count": 142,
      "outputs": [
        {
          "output_type": "stream",
          "text": [
            "                 Generalized Linear Model Regression Results                  \n",
            "==============================================================================\n",
            "Dep. Variable:              Confirmed   No. Observations:                  337\n",
            "Model:                            GLM   Df Residuals:                      328\n",
            "Model Family:                 Poisson   Df Model:                            8\n",
            "Link Function:                    log   Scale:                          1.0000\n",
            "Method:                          IRLS   Log-Likelihood:                -609.84\n",
            "Date:                Thu, 29 Apr 2021   Deviance:                       14.923\n",
            "Time:                        02:09:29   Pearson chi2:                     15.2\n",
            "No. Iterations:                     4                                         \n",
            "Covariance Type:            nonrobust                                         \n",
            "======================================================================================================================\n",
            "                                                         coef    std err          z      P>|z|      [0.025      0.975]\n",
            "----------------------------------------------------------------------------------------------------------------------\n",
            "retail_and_recreation_percent_change_from_baseline    -0.2545      0.116     -2.187      0.029      -0.483      -0.026\n",
            "grocery_and_pharmacy_percent_change_from_baseline     -0.0034      0.077     -0.044      0.965      -0.155       0.148\n",
            "parks_percent_change_from_baseline                     0.0373      0.142      0.263      0.793      -0.241       0.315\n",
            "transit_stations_percent_change_from_baseline          0.1889      0.195      0.969      0.332      -0.193       0.571\n",
            "workplaces_percent_change_from_baseline               -0.0514      0.072     -0.717      0.473      -0.192       0.089\n",
            "residential_percent_change_from_baseline              -0.0831      0.098     -0.849      0.396      -0.275       0.109\n",
            "Confirmed_1                                            0.1837      0.135      1.363      0.173      -0.080       0.448\n",
            "Confirmed_2                                            0.1114      0.145      0.767      0.443      -0.173       0.396\n",
            "Confirmed_3                                            0.0041      0.136      0.030      0.976      -0.262       0.270\n",
            "======================================================================================================================\n"
          ],
          "name": "stdout"
        }
      ]
    },
    {
      "cell_type": "code",
      "metadata": {
        "colab": {
          "base_uri": "https://localhost:8080/"
        },
        "id": "kznGjBa0s1xF",
        "outputId": "8969eb3d-d133-4e97-c2bf-54cfd0933f31"
      },
      "source": [
        "poisson_predictions = poisson_training_results.get_prediction(xtest)\n",
        "predictions_summary_frame = poisson_predictions.summary_frame()\n",
        "# predictions_summary_frame['Actual'] = cases_scaler.inverse_transform(ytest)\n",
        "# predictions_summary_frame['mean'] = cases_scaler.inverse_transform(predictions_summary_frame['mean']).astype(int)\n",
        "predictions_summary_frame['Actual'] = np.exp(ytest)\n",
        "predictions_summary_frame['mean'] = np.exp(predictions_summary_frame['mean']).astype(int)\n",
        "\n",
        "\n",
        "print(predictions_summary_frame)\n"
      ],
      "execution_count": 71,
      "outputs": [
        {
          "output_type": "stream",
          "text": [
            "     mean   mean_se  mean_ci_lower  mean_ci_upper  Actual\n",
            "15    343  0.795034       4.472028       7.625620   782.0\n",
            "19    772  0.753277       5.325481       8.302592   933.0\n",
            "23    800  0.633769       5.552112       8.050759  1411.0\n",
            "26   1330  0.621543       6.072436       8.520502  1751.0\n",
            "27   1305  0.692395       5.937536       8.667893  1566.0\n",
            "..    ...       ...            ...            ...     ...\n",
            "298   514  0.433958       5.448349       7.154700   643.0\n",
            "303   351  0.531151       4.907047       7.000086  1051.0\n",
            "308   866  0.443972       5.947635       7.692779  1174.0\n",
            "310   399  0.526812       5.041459       7.116766  1361.0\n",
            "316  1513  0.492590       6.417737       8.354254  1709.0\n",
            "\n",
            "[69 rows x 5 columns]\n"
          ],
          "name": "stdout"
        }
      ]
    },
    {
      "cell_type": "code",
      "metadata": {
        "colab": {
          "base_uri": "https://localhost:8080/"
        },
        "id": "X6P_lXaxs2S9",
        "outputId": "3bb4467f-97db-4bd8-d46c-b9c2853ac294"
      },
      "source": [
        "np.mean(abs(predictions_summary_frame['mean'].values - ytest))"
      ],
      "execution_count": 72,
      "outputs": [
        {
          "output_type": "execute_result",
          "data": {
            "text/plain": [
              "1183.1685878483886"
            ]
          },
          "metadata": {
            "tags": []
          },
          "execution_count": 72
        }
      ]
    },
    {
      "cell_type": "code",
      "metadata": {
        "colab": {
          "base_uri": "https://localhost:8080/"
        },
        "id": "PXVd1YHt07DX",
        "outputId": "56b154bd-8fac-4d23-fe26-e1b15a0d417f"
      },
      "source": [
        "## Autoregressive\n",
        "\n",
        "poisson_training_results = sm.GLM(ytrain, xtrain, family=sm.families.NegativeBinomial()).fit()\n",
        "\n",
        "print(poisson_training_results.summary())\n",
        "\n",
        "# previous_days, forecast_days = 14, 7\n",
        "# total = mumbai.shape[0]\n",
        "# test_sample_nos = 8\n",
        "# test_idx = np.random.randint(0,total,10).tolist()\n",
        "# test_idx = [29,59,94,]\n",
        "\n",
        "# test_indices = [np.arange(i,i+21) for i in test_idx]\n",
        "# flattened_test_indices = [i for j in test_indices for i in j]\n",
        "# train_indices = []\n",
        "# last = True\n",
        "# for i in range(total):\n",
        "#     if i in flattened_test_indices:\n",
        "#         if last is False:\n",
        "#             train_indices.append(new)\n",
        "#         last = True\n",
        "#         continue\n",
        "#     else:\n",
        "#         if last:\n",
        "#             new = [i]\n",
        "#             last = False\n",
        "#         else:\n",
        "#             new.append(i)\n"
      ],
      "execution_count": 144,
      "outputs": [
        {
          "output_type": "stream",
          "text": [
            "                 Generalized Linear Model Regression Results                  \n",
            "==============================================================================\n",
            "Dep. Variable:              Confirmed   No. Observations:                  337\n",
            "Model:                            GLM   Df Residuals:                      328\n",
            "Model Family:        NegativeBinomial   Df Model:                            8\n",
            "Link Function:                    log   Scale:                          1.0000\n",
            "Method:                          IRLS   Log-Likelihood:                -942.60\n",
            "Date:                Thu, 29 Apr 2021   Deviance:                       2.4036\n",
            "Time:                        02:11:19   Pearson chi2:                     2.44\n",
            "No. Iterations:                     4                                         \n",
            "Covariance Type:            nonrobust                                         \n",
            "======================================================================================================================\n",
            "                                                         coef    std err          z      P>|z|      [0.025      0.975]\n",
            "----------------------------------------------------------------------------------------------------------------------\n",
            "retail_and_recreation_percent_change_from_baseline    -0.2839      0.299     -0.950      0.342      -0.870       0.302\n",
            "grocery_and_pharmacy_percent_change_from_baseline     -0.0051      0.202     -0.025      0.980      -0.400       0.390\n",
            "parks_percent_change_from_baseline                     0.0530      0.351      0.151      0.880      -0.634       0.740\n",
            "transit_stations_percent_change_from_baseline          0.2153      0.484      0.445      0.656      -0.733       1.163\n",
            "workplaces_percent_change_from_baseline               -0.0553      0.184     -0.301      0.764      -0.416       0.305\n",
            "residential_percent_change_from_baseline              -0.0783      0.239     -0.327      0.744      -0.547       0.391\n",
            "Confirmed_1                                            0.1685      0.316      0.533      0.594      -0.451       0.788\n",
            "Confirmed_2                                            0.1134      0.336      0.337      0.736      -0.545       0.772\n",
            "Confirmed_3                                            0.0198      0.320      0.062      0.951      -0.607       0.647\n",
            "======================================================================================================================\n"
          ],
          "name": "stdout"
        }
      ]
    },
    {
      "cell_type": "code",
      "metadata": {
        "colab": {
          "base_uri": "https://localhost:8080/",
          "height": 282
        },
        "id": "MphOdNCztAyn",
        "outputId": "fcf2ed00-f8d4-494c-da5b-2243c1193d1a"
      },
      "source": [
        "plt.plot(np.arange(0,74),poisson_predictions.summary_frame()['mean'].values, label='predicted')\n",
        "plt.plot(np.arange(0,74),ytest, label='True')\n",
        "plt.legend()"
      ],
      "execution_count": 23,
      "outputs": [
        {
          "output_type": "execute_result",
          "data": {
            "text/plain": [
              "<matplotlib.legend.Legend at 0x7fd8b24445d0>"
            ]
          },
          "metadata": {
            "tags": []
          },
          "execution_count": 23
        },
        {
          "output_type": "display_data",
          "data": {
            "image/png": "[encoded data removed]",
            "text/plain": [
              "<Figure size 432x288 with 1 Axes>"
            ]
          },
          "metadata": {
            "tags": [],
            "needs_background": "light"
          }
        }
      ]
    },
    {
      "cell_type": "code",
      "metadata": {
        "colab": {
          "base_uri": "https://localhost:8080/"
        },
        "id": "W9T25qsHa5e6",
        "outputId": "b338544b-e88d-499b-8a4b-b6cc076b4c4d"
      },
      "source": [
        "from scipy.signal import savgol_filter\n",
        "\n",
        "def smoothen_data(data):\n",
        "    return savgol_filter(data, 51, 3)\n",
        "\n",
        "df.groupby('Date')"
      ],
      "execution_count": 169,
      "outputs": [
        {
          "output_type": "execute_result",
          "data": {
            "text/plain": [
              "<pandas.core.groupby.generic.DataFrameGroupBy object at 0x7f09d1e482d0>"
            ]
          },
          "metadata": {
            "tags": []
          },
          "execution_count": 169
        }
      ]
    },
    {
      "cell_type": "code",
      "metadata": {
        "id": "Lu0OBiOUaU4k"
      },
      "source": [
        "districts = df.District.unique()\n",
        "df.dropna\n",
        "all = []\n",
        "for district in districts:\n",
        "    print(df[df.District==district]['Confirmed'].shape)\n",
        "    cases = smoothen_data(df[df.District==district]['Confirmed'].values)\n",
        "    cases = np.log(cases)\n",
        "    # print(cases.shape)\n",
        "    all.append(cases)\n",
        "\n",
        "np.asarray(all).shape"
      ],
      "execution_count": null,
      "outputs": []
    },
    {
      "cell_type": "code",
      "metadata": {
        "id": "qocFSrCee5fO"
      },
      "source": [
        "# pd.get_dummies(df.District)#.reindex(columns=df, fill_value=0)\n",
        "timeseriess = pd.pivot_table(df, index=df['Date'], columns=df.District, values='Confirmed')#.values\n",
        "timeseriess = timeseriess.rolling(window=2).mean()\n",
        "timeseriess = timeseriess[timeseriess.select_dtypes(include=[np.number]).ge(0).all(1)]\n",
        "timeseriess.replace([np.inf, -np.inf], np.nan, inplace=True)\n",
        "# timeseriess.columns"
      ],
      "execution_count": 195,
      "outputs": []
    },
    {
      "cell_type": "code",
      "metadata": {
        "colab": {
          "base_uri": "https://localhost:8080/"
        },
        "id": "gpmX6ad5SMt3",
        "outputId": "deb9e396-9de1-4092-a8f9-b0cd5fb55b07"
      },
      "source": [
        "df1 = pd.read_csv(\"/content/owid-covid-data.csv\")\n",
        "df1.columns"
      ],
      "execution_count": 33,
      "outputs": [
        {
          "output_type": "execute_result",
          "data": {
            "text/plain": [
              "Index(['iso_code', 'continent', 'location', 'date', 'total_cases', 'new_cases',\n",
              "       'new_cases_smoothed', 'total_deaths', 'new_deaths',\n",
              "       'new_deaths_smoothed', 'total_cases_per_million',\n",
              "       'new_cases_per_million', 'new_cases_smoothed_per_million',\n",
              "       'total_deaths_per_million', 'new_deaths_per_million',\n",
              "       'new_deaths_smoothed_per_million', 'reproduction_rate', 'icu_patients',\n",
              "       'icu_patients_per_million', 'hosp_patients',\n",
              "       'hosp_patients_per_million', 'weekly_icu_admissions',\n",
              "       'weekly_icu_admissions_per_million', 'weekly_hosp_admissions',\n",
              "       'weekly_hosp_admissions_per_million', 'new_tests', 'total_tests',\n",
              "       'total_tests_per_thousand', 'new_tests_per_thousand',\n",
              "       'new_tests_smoothed', 'new_tests_smoothed_per_thousand',\n",
              "       'positive_rate', 'tests_per_case', 'tests_units', 'total_vaccinations',\n",
              "       'people_vaccinated', 'people_fully_vaccinated', 'new_vaccinations',\n",
              "       'new_vaccinations_smoothed', 'total_vaccinations_per_hundred',\n",
              "       'people_vaccinated_per_hundred', 'people_fully_vaccinated_per_hundred',\n",
              "       'new_vaccinations_smoothed_per_million', 'stringency_index',\n",
              "       'population', 'population_density', 'median_age', 'aged_65_older',\n",
              "       'aged_70_older', 'gdp_per_capita', 'extreme_poverty',\n",
              "       'cardiovasc_death_rate', 'diabetes_prevalence', 'female_smokers',\n",
              "       'male_smokers', 'handwashing_facilities', 'hospital_beds_per_thousand',\n",
              "       'life_expectancy', 'human_development_index'],\n",
              "      dtype='object')"
            ]
          },
          "metadata": {
            "tags": []
          },
          "execution_count": 33
        }
      ]
    },
    {
      "cell_type": "code",
      "metadata": {
        "colab": {
          "base_uri": "https://localhost:8080/",
          "height": 407
        },
        "id": "rZNn0gEKTSjK",
        "outputId": "1f5b38ab-b78f-46f1-caea-d72dd47fa365"
      },
      "source": [
        "df1[df1['location']=='India'][['stringency_index','new_cases','date']]"
      ],
      "execution_count": 40,
      "outputs": [
        {
          "output_type": "execute_result",
          "data": {
            "text/html": [
              "<div>\n",
              "<style scoped>\n",
              "    .dataframe tbody tr th:only-of-type {\n",
              "        vertical-align: middle;\n",
              "    }\n",
              "\n",
              "    .dataframe tbody tr th {\n",
              "        vertical-align: top;\n",
              "    }\n",
              "\n",
              "    .dataframe thead th {\n",
              "        text-align: right;\n",
              "    }\n",
              "</style>\n",
              "<table border=\"1\" class=\"dataframe\">\n",
              "  <thead>\n",
              "    <tr style=\"text-align: right;\">\n",
              "      <th></th>\n",
              "      <th>stringency_index</th>\n",
              "      <th>new_cases</th>\n",
              "      <th>date</th>\n",
              "    </tr>\n",
              "  </thead>\n",
              "  <tbody>\n",
              "    <tr>\n",
              "      <th>34928</th>\n",
              "      <td>10.19</td>\n",
              "      <td>1.0</td>\n",
              "      <td>2020-01-30</td>\n",
              "    </tr>\n",
              "    <tr>\n",
              "      <th>34929</th>\n",
              "      <td>10.19</td>\n",
              "      <td>0.0</td>\n",
              "      <td>2020-01-31</td>\n",
              "    </tr>\n",
              "    <tr>\n",
              "      <th>34930</th>\n",
              "      <td>10.19</td>\n",
              "      <td>0.0</td>\n",
              "      <td>2020-02-01</td>\n",
              "    </tr>\n",
              "    <tr>\n",
              "      <th>34931</th>\n",
              "      <td>10.19</td>\n",
              "      <td>1.0</td>\n",
              "      <td>2020-02-02</td>\n",
              "    </tr>\n",
              "    <tr>\n",
              "      <th>34932</th>\n",
              "      <td>10.19</td>\n",
              "      <td>1.0</td>\n",
              "      <td>2020-02-03</td>\n",
              "    </tr>\n",
              "    <tr>\n",
              "      <th>...</th>\n",
              "      <td>...</td>\n",
              "      <td>...</td>\n",
              "      <td>...</td>\n",
              "    </tr>\n",
              "    <tr>\n",
              "      <th>35379</th>\n",
              "      <td>NaN</td>\n",
              "      <td>352991.0</td>\n",
              "      <td>2021-04-25</td>\n",
              "    </tr>\n",
              "    <tr>\n",
              "      <th>35380</th>\n",
              "      <td>NaN</td>\n",
              "      <td>323023.0</td>\n",
              "      <td>2021-04-26</td>\n",
              "    </tr>\n",
              "    <tr>\n",
              "      <th>35381</th>\n",
              "      <td>NaN</td>\n",
              "      <td>360927.0</td>\n",
              "      <td>2021-04-27</td>\n",
              "    </tr>\n",
              "    <tr>\n",
              "      <th>35382</th>\n",
              "      <td>NaN</td>\n",
              "      <td>379308.0</td>\n",
              "      <td>2021-04-28</td>\n",
              "    </tr>\n",
              "    <tr>\n",
              "      <th>35383</th>\n",
              "      <td>NaN</td>\n",
              "      <td>103.0</td>\n",
              "      <td>2021-04-29</td>\n",
              "    </tr>\n",
              "  </tbody>\n",
              "</table>\n",
              "<p>456 rows × 3 columns</p>\n",
              "</div>"
            ],
            "text/plain": [
              "       stringency_index  new_cases        date\n",
              "34928             10.19        1.0  2020-01-30\n",
              "34929             10.19        0.0  2020-01-31\n",
              "34930             10.19        0.0  2020-02-01\n",
              "34931             10.19        1.0  2020-02-02\n",
              "34932             10.19        1.0  2020-02-03\n",
              "...                 ...        ...         ...\n",
              "35379               NaN   352991.0  2021-04-25\n",
              "35380               NaN   323023.0  2021-04-26\n",
              "35381               NaN   360927.0  2021-04-27\n",
              "35382               NaN   379308.0  2021-04-28\n",
              "35383               NaN      103.0  2021-04-29\n",
              "\n",
              "[456 rows x 3 columns]"
            ]
          },
          "metadata": {
            "tags": []
          },
          "execution_count": 40
        }
      ]
    },
    {
      "cell_type": "code",
      "metadata": {
        "colab": {
          "base_uri": "https://localhost:8080/"
        },
        "id": "2iikilgTR9oF",
        "outputId": "2fffc66e-6f27-4c55-c2b5-a294c71b9693"
      },
      "source": [
        "from statsmodels.tsa.api import VAR\n",
        "\n",
        "data = df1[df1['location']=='India'][['stringency_index','new_cases','date']]\n",
        "# data['date'] = \n",
        "print(data.info())\n",
        "cols = ['stringency_index','new_cases']\n",
        "\n",
        "# data['Confirmed_1'] = data['Confirmed'].shift(-1)\n",
        "# mobility = data.columns[:-2]\n",
        "data['date'] = pd.to_datetime(data['date'])\n",
        "data['date'] = (data['date'] - data['date'].min()).astype('timedelta64[D]')\n",
        "data = data[data['date']<90]\n",
        "\n",
        "# data.loc[:,mobility] = data.loc[:,mobility].shift(7)\n",
        "data = data.dropna()\n",
        "print(data.info())\n",
        "from sklearn.preprocessing import MinMaxScaler\n",
        "scaler = MinMaxScaler()\n",
        "data.loc[:,cols] = scaler.fit_transform(data.loc[:,cols])\n",
        "model = VAR(data[cols])#, data['Date'].values)\n",
        "results = model.fit()\n",
        "results.summary()\n",
        "\n",
        "# for mobility in data.columns[:-1]:\n",
        "print(results.test_causality(['new_cases'], ['stringency_index'], kind='f').summary())\n",
        "# print(results.test_causality(['Howrah'], ['Kolkata'], kind='wald').summary())\n",
        "# print(results.test_causality(['South 24 Parganas'], ['Kolkata'], kind='wald').summary())"
      ],
      "execution_count": 45,
      "outputs": [
        {
          "output_type": "stream",
          "text": [
            "<class 'pandas.core.frame.DataFrame'>\n",
            "Int64Index: 456 entries, 34928 to 35383\n",
            "Data columns (total 3 columns):\n",
            " #   Column            Non-Null Count  Dtype  \n",
            "---  ------            --------------  -----  \n",
            " 0   stringency_index  439 non-null    float64\n",
            " 1   new_cases         456 non-null    float64\n",
            " 2   date              456 non-null    object \n",
            "dtypes: float64(2), object(1)\n",
            "memory usage: 14.2+ KB\n",
            "None\n",
            "<class 'pandas.core.frame.DataFrame'>\n",
            "Int64Index: 90 entries, 34928 to 35017\n",
            "Data columns (total 3 columns):\n",
            " #   Column            Non-Null Count  Dtype  \n",
            "---  ------            --------------  -----  \n",
            " 0   stringency_index  90 non-null     float64\n",
            " 1   new_cases         90 non-null     float64\n",
            " 2   date              90 non-null     float64\n",
            "dtypes: float64(3)\n",
            "memory usage: 2.8 KB\n",
            "None\n",
            "Granger causality F-test. H_0: stringency_index does not Granger-cause new_cases. Conclusion: reject H_0 at 5% significance level.\n",
            "==============================================\n",
            "Test statistic Critical value p-value    df   \n",
            "----------------------------------------------\n",
            "         5.303          3.896   0.022 (1, 172)\n",
            "----------------------------------------------\n"
          ],
          "name": "stdout"
        },
        {
          "output_type": "stream",
          "text": [
            "/usr/local/lib/python3.7/dist-packages/statsmodels/tsa/base/tsa_model.py:215: ValueWarning: An unsupported index was provided and will be ignored when e.g. forecasting.\n",
            "  ' ignored when e.g. forecasting.', ValueWarning)\n"
          ],
          "name": "stderr"
        }
      ]
    },
    {
      "cell_type": "code",
      "metadata": {
        "colab": {
          "base_uri": "https://localhost:8080/"
        },
        "id": "3qe0PIskTvob",
        "outputId": "ce503289-dde2-4c2b-965c-1215cfdb07ce"
      },
      "source": [
        "from statsmodels.tsa.api import VAR\n",
        "data = df1[df1['location']=='India'][['stringency_index','new_cases','date']]\n",
        "    # data['date'] = \n",
        "cols = ['stringency_index','new_cases']\n",
        "\n",
        "# data['Confirmed_1'] = data['Confirmed'].shift(-1)\n",
        "# mobility = data.columns[:-2]\n",
        "data['date'] = pd.to_datetime(data['date'])\n",
        "# data = data.iloc[data['stringency_index'].values!=0.,:]\n",
        "data['date'] = (data['date'] - data['date'].min()).astype('timedelta64[D]')\n",
        "# print(data.info())\n",
        "\n",
        "\n",
        "for i in [90,180,270,360,450]:\n",
        "    data1 = data[(data['date']>(i-90)) & (data['date']<i)]\n",
        "    # print(data1.info())\n",
        "\n",
        "    # data.loc[:,mobility] = data.loc[:,mobility].shift(7)\n",
        "    data1 = data1.dropna()\n",
        "\n",
        "    from sklearn.preprocessing import MinMaxScaler\n",
        "    # scaler = StandardScaler()\n",
        "    # data1.loc[:,cols] = scaler.fit_transform(data1.loc[:,cols])\n",
        "    model = VAR(data1[cols])#, data['Date'].values)\n",
        "    results = model.fit()\n",
        "    results.summary()\n",
        "\n",
        "    # for mobility in data.columns[:-1]:\n",
        "    print(f\"{i-90} to {i}\", results.test_causality(['new_cases'], ['stringency_index'], kind='f').summary())\n",
        "# print(results.test_causality(['Howrah'], ['Kolkata'], kind='wald').summary())\n",
        "# print(results.test_causality(['South 24 Parganas'], ['Kolkata'], kind='wald').summary())"
      ],
      "execution_count": 108,
      "outputs": [
        {
          "output_type": "stream",
          "text": [
            "0 to 90 Granger causality F-test. H_0: stringency_index does not Granger-cause new_cases. Conclusion: reject H_0 at 5% significance level.\n",
            "==============================================\n",
            "Test statistic Critical value p-value    df   \n",
            "----------------------------------------------\n",
            "         5.215          3.897   0.024 (1, 170)\n",
            "----------------------------------------------\n",
            "90 to 180 Granger causality F-test. H_0: stringency_index does not Granger-cause new_cases. Conclusion: fail to reject H_0 at 5% significance level.\n",
            "==============================================\n",
            "Test statistic Critical value p-value    df   \n",
            "----------------------------------------------\n",
            "       0.06183          3.897   0.804 (1, 170)\n",
            "----------------------------------------------\n",
            "180 to 270 Granger causality F-test. H_0: stringency_index does not Granger-cause new_cases. Conclusion: reject H_0 at 5% significance level.\n",
            "==============================================\n",
            "Test statistic Critical value p-value    df   \n",
            "----------------------------------------------\n",
            "         6.622          3.897   0.011 (1, 170)\n",
            "----------------------------------------------\n",
            "270 to 360 Granger causality F-test. H_0: stringency_index does not Granger-cause new_cases. Conclusion: reject H_0 at 5% significance level.\n",
            "==============================================\n",
            "Test statistic Critical value p-value    df   \n",
            "----------------------------------------------\n",
            "         9.359          3.897   0.003 (1, 170)\n",
            "----------------------------------------------\n",
            "360 to 450 Granger causality F-test. H_0: stringency_index does not Granger-cause new_cases. Conclusion: fail to reject H_0 at 5% significance level.\n",
            "==============================================\n",
            "Test statistic Critical value p-value    df   \n",
            "----------------------------------------------\n",
            "       0.03850          3.905   0.845 (1, 148)\n",
            "----------------------------------------------\n"
          ],
          "name": "stdout"
        },
        {
          "output_type": "stream",
          "text": [
            "/usr/local/lib/python3.7/dist-packages/statsmodels/tsa/base/tsa_model.py:215: ValueWarning: An unsupported index was provided and will be ignored when e.g. forecasting.\n",
            "  ' ignored when e.g. forecasting.', ValueWarning)\n",
            "/usr/local/lib/python3.7/dist-packages/statsmodels/tsa/base/tsa_model.py:215: ValueWarning: An unsupported index was provided and will be ignored when e.g. forecasting.\n",
            "  ' ignored when e.g. forecasting.', ValueWarning)\n",
            "/usr/local/lib/python3.7/dist-packages/statsmodels/tsa/base/tsa_model.py:215: ValueWarning: An unsupported index was provided and will be ignored when e.g. forecasting.\n",
            "  ' ignored when e.g. forecasting.', ValueWarning)\n",
            "/usr/local/lib/python3.7/dist-packages/statsmodels/tsa/base/tsa_model.py:215: ValueWarning: An unsupported index was provided and will be ignored when e.g. forecasting.\n",
            "  ' ignored when e.g. forecasting.', ValueWarning)\n",
            "/usr/local/lib/python3.7/dist-packages/statsmodels/tsa/base/tsa_model.py:215: ValueWarning: An unsupported index was provided and will be ignored when e.g. forecasting.\n",
            "  ' ignored when e.g. forecasting.', ValueWarning)\n"
          ],
          "name": "stderr"
        }
      ]
    },
    {
      "cell_type": "code",
      "metadata": {
        "colab": {
          "base_uri": "https://localhost:8080/",
          "height": 407
        },
        "id": "iu8uU8iGY4zm",
        "outputId": "e2478f93-231f-4eca-c5e5-fdcbc7f32c91"
      },
      "source": [
        "# data.stringency_index.values != 0.0#,:]\n",
        "df1[df1['location']=='India'][['stringency_index','new_cases','date']].dropna()"
      ],
      "execution_count": 104,
      "outputs": [
        {
          "output_type": "execute_result",
          "data": {
            "text/html": [
              "<div>\n",
              "<style scoped>\n",
              "    .dataframe tbody tr th:only-of-type {\n",
              "        vertical-align: middle;\n",
              "    }\n",
              "\n",
              "    .dataframe tbody tr th {\n",
              "        vertical-align: top;\n",
              "    }\n",
              "\n",
              "    .dataframe thead th {\n",
              "        text-align: right;\n",
              "    }\n",
              "</style>\n",
              "<table border=\"1\" class=\"dataframe\">\n",
              "  <thead>\n",
              "    <tr style=\"text-align: right;\">\n",
              "      <th></th>\n",
              "      <th>stringency_index</th>\n",
              "      <th>new_cases</th>\n",
              "      <th>date</th>\n",
              "    </tr>\n",
              "  </thead>\n",
              "  <tbody>\n",
              "    <tr>\n",
              "      <th>34928</th>\n",
              "      <td>10.19</td>\n",
              "      <td>1.0</td>\n",
              "      <td>2020-01-30</td>\n",
              "    </tr>\n",
              "    <tr>\n",
              "      <th>34929</th>\n",
              "      <td>10.19</td>\n",
              "      <td>0.0</td>\n",
              "      <td>2020-01-31</td>\n",
              "    </tr>\n",
              "    <tr>\n",
              "      <th>34930</th>\n",
              "      <td>10.19</td>\n",
              "      <td>0.0</td>\n",
              "      <td>2020-02-01</td>\n",
              "    </tr>\n",
              "    <tr>\n",
              "      <th>34931</th>\n",
              "      <td>10.19</td>\n",
              "      <td>1.0</td>\n",
              "      <td>2020-02-02</td>\n",
              "    </tr>\n",
              "    <tr>\n",
              "      <th>34932</th>\n",
              "      <td>10.19</td>\n",
              "      <td>1.0</td>\n",
              "      <td>2020-02-03</td>\n",
              "    </tr>\n",
              "    <tr>\n",
              "      <th>...</th>\n",
              "      <td>...</td>\n",
              "      <td>...</td>\n",
              "      <td>...</td>\n",
              "    </tr>\n",
              "    <tr>\n",
              "      <th>35362</th>\n",
              "      <td>69.91</td>\n",
              "      <td>131968.0</td>\n",
              "      <td>2021-04-08</td>\n",
              "    </tr>\n",
              "    <tr>\n",
              "      <th>35363</th>\n",
              "      <td>69.91</td>\n",
              "      <td>145384.0</td>\n",
              "      <td>2021-04-09</td>\n",
              "    </tr>\n",
              "    <tr>\n",
              "      <th>35364</th>\n",
              "      <td>69.91</td>\n",
              "      <td>152879.0</td>\n",
              "      <td>2021-04-10</td>\n",
              "    </tr>\n",
              "    <tr>\n",
              "      <th>35365</th>\n",
              "      <td>69.91</td>\n",
              "      <td>168912.0</td>\n",
              "      <td>2021-04-11</td>\n",
              "    </tr>\n",
              "    <tr>\n",
              "      <th>35366</th>\n",
              "      <td>69.91</td>\n",
              "      <td>161736.0</td>\n",
              "      <td>2021-04-12</td>\n",
              "    </tr>\n",
              "  </tbody>\n",
              "</table>\n",
              "<p>439 rows × 3 columns</p>\n",
              "</div>"
            ],
            "text/plain": [
              "       stringency_index  new_cases        date\n",
              "34928             10.19        1.0  2020-01-30\n",
              "34929             10.19        0.0  2020-01-31\n",
              "34930             10.19        0.0  2020-02-01\n",
              "34931             10.19        1.0  2020-02-02\n",
              "34932             10.19        1.0  2020-02-03\n",
              "...                 ...        ...         ...\n",
              "35362             69.91   131968.0  2021-04-08\n",
              "35363             69.91   145384.0  2021-04-09\n",
              "35364             69.91   152879.0  2021-04-10\n",
              "35365             69.91   168912.0  2021-04-11\n",
              "35366             69.91   161736.0  2021-04-12\n",
              "\n",
              "[439 rows x 3 columns]"
            ]
          },
          "metadata": {
            "tags": []
          },
          "execution_count": 104
        }
      ]
    },
    {
      "cell_type": "markdown",
      "metadata": {
        "id": "jk5sLsCuZv9V"
      },
      "source": [
        "# 100 to 200: 0.29\n",
        "# 200 to 250: 0.084\n",
        "\n",
        "# 400 onwards: 0.79"
      ]
    },
    {
      "cell_type": "code",
      "metadata": {
        "id": "9lehdX9hiAL1"
      },
      "source": [
        "# timeseriess.replace([np.inf, -np.inf], np.nan, inplace=True)\n",
        "\n",
        "# timeseriess.isna().any().any()\n",
        "# timeseriess.isna()\n",
        "# timeseriess\n",
        "# sum(timeseriess.values == -np.inf)\n",
        "# cols = timeseriess.columns[:200]\n",
        "# timeseriess[timeseriess > 1000]\n",
        "cols = (timeseriess.astype(int) > 500).any().tolist()\n",
        "cols = timeseriess.loc[:,cols].columns\n",
        "cols[:5]\n",
        "\n",
        "cols = ['North 24 Parganas','Kolkata','Howrah','South 24 Parganas']\n"
      ],
      "execution_count": 280,
      "outputs": []
    },
    {
      "cell_type": "code",
      "metadata": {
        "id": "R4AZbSBKDqbV"
      },
      "source": [
        "mobility = ['retail_and_recreation_percent_change_from_baseline',\n",
        "       'grocery_and_pharmacy_percent_change_from_baseline',\n",
        "       'parks_percent_change_from_baseline',\n",
        "       'transit_stations_percent_change_from_baseline',\n",
        "       'workplaces_percent_change_from_baseline',\n",
        "       'residential_percent_change_from_baseline']"
      ],
      "execution_count": 110,
      "outputs": []
    },
    {
      "cell_type": "code",
      "metadata": {
        "colab": {
          "base_uri": "https://localhost:8080/"
        },
        "id": "R2iBS8HxDTPP",
        "outputId": "4e9ca28b-c1b7-4c19-8ea1-99ec81c76736"
      },
      "source": [
        "from statsmodels.tsa.api import VAR\n",
        "\n",
        "data = df[df['District']=='Mumbai'][['retail_and_recreation_percent_change_from_baseline',\n",
        "       'grocery_and_pharmacy_percent_change_from_baseline',\n",
        "       'parks_percent_change_from_baseline',\n",
        "       'transit_stations_percent_change_from_baseline',\n",
        "       'workplaces_percent_change_from_baseline',\n",
        "       'residential_percent_change_from_baseline', 'Confirmed','Date']]\n",
        "\n",
        "cols = ['retail_and_recreation_percent_change_from_baseline',\n",
        "       'grocery_and_pharmacy_percent_change_from_baseline',\n",
        "       'parks_percent_change_from_baseline',\n",
        "       'transit_stations_percent_change_from_baseline',\n",
        "       'workplaces_percent_change_from_baseline',\n",
        "       'residential_percent_change_from_baseline', 'Confirmed']\n",
        "\n",
        "# data['Confirmed_1'] = data['Confirmed'].shift(-1)\n",
        "mobility = data.columns[:-2]\n",
        "data['Date'] = pd.to_datetime(data['Date'])\n",
        "\n",
        "data.loc[:,mobility] = data.loc[:,mobility].shift(7)\n",
        "data = data.dropna()\n",
        "\n",
        "from sklearn.preprocessing import MinMaxScaler\n",
        "scaler = MinMaxScaler()\n",
        "# data.loc[:,cols] = scaler.fit_transform(data.loc[:,cols])\n",
        "model = VAR(data[cols])#, data['Date'].values)\n",
        "results = model.fit()\n",
        "results.summary()\n",
        "\n",
        "for mobility in data.columns[:-1]:\n",
        "    print(results.test_causality(['Confirmed'], [mobility], kind='f').summary())\n",
        "# print(results.test_causality(['Howrah'], ['Kolkata'], kind='wald').summary())\n",
        "# print(results.test_causality(['South 24 Parganas'], ['Kolkata'], kind='wald').summary())"
      ],
      "execution_count": 113,
      "outputs": [
        {
          "output_type": "stream",
          "text": [
            "Granger causality F-test. H_0: retail_and_recreation_percent_change_from_baseline does not Granger-cause Confirmed. Conclusion: fail to reject H_0 at 5% significance level.\n",
            "===============================================\n",
            "Test statistic Critical value p-value     df   \n",
            "-----------------------------------------------\n",
            "         1.276          3.845   0.259 (1, 2366)\n",
            "-----------------------------------------------\n",
            "Granger causality F-test. H_0: grocery_and_pharmacy_percent_change_from_baseline does not Granger-cause Confirmed. Conclusion: reject H_0 at 5% significance level.\n",
            "===============================================\n",
            "Test statistic Critical value p-value     df   \n",
            "-----------------------------------------------\n",
            "         5.548          3.845   0.019 (1, 2366)\n",
            "-----------------------------------------------\n",
            "Granger causality F-test. H_0: parks_percent_change_from_baseline does not Granger-cause Confirmed. Conclusion: fail to reject H_0 at 5% significance level.\n",
            "===============================================\n",
            "Test statistic Critical value p-value     df   \n",
            "-----------------------------------------------\n",
            "         2.136          3.845   0.144 (1, 2366)\n",
            "-----------------------------------------------\n",
            "Granger causality F-test. H_0: transit_stations_percent_change_from_baseline does not Granger-cause Confirmed. Conclusion: reject H_0 at 5% significance level.\n",
            "===============================================\n",
            "Test statistic Critical value p-value     df   \n",
            "-----------------------------------------------\n",
            "         9.911          3.845   0.002 (1, 2366)\n",
            "-----------------------------------------------\n",
            "Granger causality F-test. H_0: workplaces_percent_change_from_baseline does not Granger-cause Confirmed. Conclusion: reject H_0 at 5% significance level.\n",
            "===============================================\n",
            "Test statistic Critical value p-value     df   \n",
            "-----------------------------------------------\n",
            "         3.907          3.845   0.048 (1, 2366)\n",
            "-----------------------------------------------\n",
            "Granger causality F-test. H_0: residential_percent_change_from_baseline does not Granger-cause Confirmed. Conclusion: fail to reject H_0 at 5% significance level.\n",
            "===============================================\n",
            "Test statistic Critical value p-value     df   \n",
            "-----------------------------------------------\n",
            "      0.004807          3.845   0.945 (1, 2366)\n",
            "-----------------------------------------------\n",
            "Granger causality F-test. H_0: Confirmed does not Granger-cause Confirmed. Conclusion: reject H_0 at 5% significance level.\n",
            "===============================================\n",
            "Test statistic Critical value p-value     df   \n",
            "-----------------------------------------------\n",
            "         1141.          3.845   0.000 (1, 2366)\n",
            "-----------------------------------------------\n"
          ],
          "name": "stdout"
        },
        {
          "output_type": "stream",
          "text": [
            "/usr/local/lib/python3.7/dist-packages/statsmodels/tsa/base/tsa_model.py:215: ValueWarning: An unsupported index was provided and will be ignored when e.g. forecasting.\n",
            "  ' ignored when e.g. forecasting.', ValueWarning)\n"
          ],
          "name": "stderr"
        }
      ]
    },
    {
      "cell_type": "code",
      "metadata": {
        "colab": {
          "base_uri": "https://localhost:8080/",
          "height": 427
        },
        "id": "yVIzNKpLEfZc",
        "outputId": "fad916fc-1d42-4367-b14d-e2db5a1c033b"
      },
      "source": [
        "# data[cols]\n",
        "import pandas as pd\n",
        "df = pd.read_csv(\"\")"
      ],
      "execution_count": 23,
      "outputs": [
        {
          "output_type": "execute_result",
          "data": {
            "text/html": [
              "<div>\n",
              "<style scoped>\n",
              "    .dataframe tbody tr th:only-of-type {\n",
              "        vertical-align: middle;\n",
              "    }\n",
              "\n",
              "    .dataframe tbody tr th {\n",
              "        vertical-align: top;\n",
              "    }\n",
              "\n",
              "    .dataframe thead th {\n",
              "        text-align: right;\n",
              "    }\n",
              "</style>\n",
              "<table border=\"1\" class=\"dataframe\">\n",
              "  <thead>\n",
              "    <tr style=\"text-align: right;\">\n",
              "      <th></th>\n",
              "      <th>retail_and_recreation_percent_change_from_baseline</th>\n",
              "      <th>grocery_and_pharmacy_percent_change_from_baseline</th>\n",
              "      <th>parks_percent_change_from_baseline</th>\n",
              "      <th>transit_stations_percent_change_from_baseline</th>\n",
              "      <th>workplaces_percent_change_from_baseline</th>\n",
              "      <th>residential_percent_change_from_baseline</th>\n",
              "      <th>Confirmed</th>\n",
              "    </tr>\n",
              "  </thead>\n",
              "  <tbody>\n",
              "    <tr>\n",
              "      <th>64893</th>\n",
              "      <td>0.000000</td>\n",
              "      <td>0.061856</td>\n",
              "      <td>0.000000</td>\n",
              "      <td>0.054545</td>\n",
              "      <td>0.243243</td>\n",
              "      <td>0.606061</td>\n",
              "      <td>0.717404</td>\n",
              "    </tr>\n",
              "    <tr>\n",
              "      <th>64894</th>\n",
              "      <td>0.035714</td>\n",
              "      <td>0.072165</td>\n",
              "      <td>0.000000</td>\n",
              "      <td>0.018182</td>\n",
              "      <td>0.027027</td>\n",
              "      <td>0.939394</td>\n",
              "      <td>0.754019</td>\n",
              "    </tr>\n",
              "    <tr>\n",
              "      <th>64895</th>\n",
              "      <td>0.017857</td>\n",
              "      <td>0.061856</td>\n",
              "      <td>0.000000</td>\n",
              "      <td>0.018182</td>\n",
              "      <td>0.027027</td>\n",
              "      <td>0.969697</td>\n",
              "      <td>0.756400</td>\n",
              "    </tr>\n",
              "    <tr>\n",
              "      <th>64896</th>\n",
              "      <td>0.035714</td>\n",
              "      <td>0.072165</td>\n",
              "      <td>0.000000</td>\n",
              "      <td>0.036364</td>\n",
              "      <td>0.027027</td>\n",
              "      <td>0.909091</td>\n",
              "      <td>0.764537</td>\n",
              "    </tr>\n",
              "    <tr>\n",
              "      <th>64897</th>\n",
              "      <td>0.035714</td>\n",
              "      <td>0.082474</td>\n",
              "      <td>0.035714</td>\n",
              "      <td>0.018182</td>\n",
              "      <td>0.027027</td>\n",
              "      <td>0.939394</td>\n",
              "      <td>0.758782</td>\n",
              "    </tr>\n",
              "    <tr>\n",
              "      <th>...</th>\n",
              "      <td>...</td>\n",
              "      <td>...</td>\n",
              "      <td>...</td>\n",
              "      <td>...</td>\n",
              "      <td>...</td>\n",
              "      <td>...</td>\n",
              "      <td>...</td>\n",
              "    </tr>\n",
              "    <tr>\n",
              "      <th>65138</th>\n",
              "      <td>0.803571</td>\n",
              "      <td>0.608247</td>\n",
              "      <td>0.892857</td>\n",
              "      <td>0.945455</td>\n",
              "      <td>1.000000</td>\n",
              "      <td>0.000000</td>\n",
              "      <td>0.774757</td>\n",
              "    </tr>\n",
              "    <tr>\n",
              "      <th>65139</th>\n",
              "      <td>0.910714</td>\n",
              "      <td>0.721649</td>\n",
              "      <td>0.946429</td>\n",
              "      <td>0.890909</td>\n",
              "      <td>0.689189</td>\n",
              "      <td>0.181818</td>\n",
              "      <td>0.772673</td>\n",
              "    </tr>\n",
              "    <tr>\n",
              "      <th>65140</th>\n",
              "      <td>0.892857</td>\n",
              "      <td>0.721649</td>\n",
              "      <td>1.000000</td>\n",
              "      <td>0.872727</td>\n",
              "      <td>0.702703</td>\n",
              "      <td>0.212121</td>\n",
              "      <td>0.770689</td>\n",
              "    </tr>\n",
              "    <tr>\n",
              "      <th>65141</th>\n",
              "      <td>0.910714</td>\n",
              "      <td>0.783505</td>\n",
              "      <td>1.000000</td>\n",
              "      <td>0.927273</td>\n",
              "      <td>0.743243</td>\n",
              "      <td>0.151515</td>\n",
              "      <td>0.788252</td>\n",
              "    </tr>\n",
              "    <tr>\n",
              "      <th>65142</th>\n",
              "      <td>0.946429</td>\n",
              "      <td>0.752577</td>\n",
              "      <td>1.000000</td>\n",
              "      <td>0.890909</td>\n",
              "      <td>0.689189</td>\n",
              "      <td>0.181818</td>\n",
              "      <td>0.788252</td>\n",
              "    </tr>\n",
              "  </tbody>\n",
              "</table>\n",
              "<p>250 rows × 7 columns</p>\n",
              "</div>"
            ],
            "text/plain": [
              "       retail_and_recreation_percent_change_from_baseline  ...  Confirmed\n",
              "64893                                           0.000000   ...   0.717404\n",
              "64894                                           0.035714   ...   0.754019\n",
              "64895                                           0.017857   ...   0.756400\n",
              "64896                                           0.035714   ...   0.764537\n",
              "64897                                           0.035714   ...   0.758782\n",
              "...                                                  ...   ...        ...\n",
              "65138                                           0.803571   ...   0.774757\n",
              "65139                                           0.910714   ...   0.772673\n",
              "65140                                           0.892857   ...   0.770689\n",
              "65141                                           0.910714   ...   0.788252\n",
              "65142                                           0.946429   ...   0.788252\n",
              "\n",
              "[250 rows x 7 columns]"
            ]
          },
          "metadata": {
            "tags": []
          },
          "execution_count": 23
        }
      ]
    },
    {
      "cell_type": "code",
      "metadata": {
        "colab": {
          "base_uri": "https://localhost:8080/"
        },
        "id": "3Lw28ZfWZznr",
        "outputId": "4435ea3b-7e5a-42c9-bebc-89a162097ebc"
      },
      "source": [
        "from statsmodels.tsa.api import VAR\n",
        "from sklearn.preprocessing import MinMaxScaler\n",
        "scaler = MinMaxScaler()\n",
        "timeseriess.loc[:,cols] = scaler.fit_transform(timeseriess.loc[:,cols])\n",
        "model = VAR(timeseriess.loc[:,cols])\n",
        "results = model.fit()\n",
        "results.summary()\n",
        "# cols#[:5]"
      ],
      "execution_count": 281,
      "outputs": [
        {
          "output_type": "stream",
          "text": [
            "/usr/local/lib/python3.7/dist-packages/statsmodels/tsa/base/tsa_model.py:219: ValueWarning: A date index has been provided, but it has no associated frequency information and so will be ignored when e.g. forecasting.\n",
            "  ' ignored when e.g. forecasting.', ValueWarning)\n"
          ],
          "name": "stderr"
        },
        {
          "output_type": "execute_result",
          "data": {
            "text/plain": [
              "  Summary of Regression Results   \n",
              "==================================\n",
              "Model:                         VAR\n",
              "Method:                        OLS\n",
              "Date:           Thu, 29, Apr, 2021\n",
              "Time:                     03:46:04\n",
              "--------------------------------------------------------------------\n",
              "No. of Equations:         4.00000    BIC:                   -26.6567\n",
              "Nobs:                     26.0000    HQIC:                  -27.3458\n",
              "Log likelihood:           231.549    FPE:                1.02624e-12\n",
              "AIC:                     -27.6245    Det(Omega_mle):     5.07806e-13\n",
              "--------------------------------------------------------------------\n",
              "Results for equation North 24 Parganas\n",
              "=======================================================================================\n",
              "                          coefficient       std. error           t-stat            prob\n",
              "---------------------------------------------------------------------------------------\n",
              "const                        0.000783         0.009917            0.079           0.937\n",
              "L1.North 24 Parganas         0.703187         0.235994            2.980           0.003\n",
              "L1.Kolkata                   0.673518         0.352562            1.910           0.056\n",
              "L1.Howrah                   -0.109408         0.152231           -0.719           0.472\n",
              "L1.South 24 Parganas        -0.098493         0.137552           -0.716           0.474\n",
              "=======================================================================================\n",
              "\n",
              "Results for equation Kolkata\n",
              "=======================================================================================\n",
              "                          coefficient       std. error           t-stat            prob\n",
              "---------------------------------------------------------------------------------------\n",
              "const                        0.006795         0.009864            0.689           0.491\n",
              "L1.North 24 Parganas        -0.203593         0.234735           -0.867           0.386\n",
              "L1.Kolkata                   1.924900         0.350680            5.489           0.000\n",
              "L1.Howrah                   -0.383216         0.151419           -2.531           0.011\n",
              "L1.South 24 Parganas        -0.107289         0.136818           -0.784           0.433\n",
              "=======================================================================================\n",
              "\n",
              "Results for equation Howrah\n",
              "=======================================================================================\n",
              "                          coefficient       std. error           t-stat            prob\n",
              "---------------------------------------------------------------------------------------\n",
              "const                        0.003757         0.010712            0.351           0.726\n",
              "L1.North 24 Parganas        -0.793320         0.254912           -3.112           0.002\n",
              "L1.Kolkata                   1.894001         0.380823            4.973           0.000\n",
              "L1.Howrah                    0.363818         0.164434            2.213           0.027\n",
              "L1.South 24 Parganas        -0.159428         0.148579           -1.073           0.283\n",
              "=======================================================================================\n",
              "\n",
              "Results for equation South 24 Parganas\n",
              "=======================================================================================\n",
              "                          coefficient       std. error           t-stat            prob\n",
              "---------------------------------------------------------------------------------------\n",
              "const                        0.006723         0.017297            0.389           0.697\n",
              "L1.North 24 Parganas         0.107727         0.411619            0.262           0.794\n",
              "L1.Kolkata                   1.236507         0.614935            2.011           0.044\n",
              "L1.Howrah                   -0.325788         0.265520           -1.227           0.220\n",
              "L1.South 24 Parganas         0.245717         0.239918            1.024           0.306\n",
              "=======================================================================================\n",
              "\n",
              "Correlation matrix of residuals\n",
              "                     North 24 Parganas   Kolkata    Howrah  South 24 Parganas\n",
              "North 24 Parganas             1.000000  0.624504  0.080137           0.483459\n",
              "Kolkata                       0.624504  1.000000  0.167498           0.214988\n",
              "Howrah                        0.080137  0.167498  1.000000           0.526415\n",
              "South 24 Parganas             0.483459  0.214988  0.526415           1.000000\n",
              "\n"
            ]
          },
          "metadata": {
            "tags": []
          },
          "execution_count": 281
        }
      ]
    },
    {
      "cell_type": "code",
      "metadata": {
        "colab": {
          "base_uri": "https://localhost:8080/"
        },
        "id": "RGHNod_njwA6",
        "outputId": "1f8421f4-8475-419c-fc06-96b0d357b324"
      },
      "source": [
        "# results = model.fit(maxlags=15, ic='aic')\n",
        "print(results.test_causality(['North 24 Parganas'], ['Kolkata'], kind='wald').summary())\n",
        "print(results.test_causality(['Howrah'], ['Kolkata'], kind='wald').summary())\n",
        "print(results.test_causality(['South 24 Parganas'], ['Kolkata'], kind='wald').summary())"
      ],
      "execution_count": 286,
      "outputs": [
        {
          "output_type": "stream",
          "text": [
            "Granger causality Wald-test. H_0: Kolkata does not Granger-cause North 24 Parganas. Conclusion: fail to reject H_0 at 5% significance level.\n",
            "========================================\n",
            "Test statistic Critical value p-value df\n",
            "----------------------------------------\n",
            "         3.649          3.841   0.056  1\n",
            "----------------------------------------\n",
            "Granger causality Wald-test. H_0: Kolkata does not Granger-cause Howrah. Conclusion: reject H_0 at 5% significance level.\n",
            "========================================\n",
            "Test statistic Critical value p-value df\n",
            "----------------------------------------\n",
            "         24.74          3.841   0.000  1\n",
            "----------------------------------------\n",
            "Granger causality Wald-test. H_0: Kolkata does not Granger-cause South 24 Parganas. Conclusion: reject H_0 at 5% significance level.\n",
            "========================================\n",
            "Test statistic Critical value p-value df\n",
            "----------------------------------------\n",
            "         4.043          3.841   0.044  1\n",
            "----------------------------------------\n"
          ],
          "name": "stdout"
        }
      ]
    },
    {
      "cell_type": "code",
      "metadata": {
        "colab": {
          "base_uri": "https://localhost:8080/",
          "height": 282
        },
        "id": "CXixQyJNnyDr",
        "outputId": "0fc287d8-3995-4020-8aa8-e530a0bb280e"
      },
      "source": [
        "# plt.plot(timeseriess['Mumbai'],label='M')\n",
        "def normalize(data):\n",
        "    return (data - data.min())/(data.max() - data.min())\n",
        "data1 = timeseriess['Kolkata']\n",
        "data2 = timeseriess['Purba Medinipur']\n",
        "plt.plot((data1-data1.min())/(data1.max()-data1.min()),label='K')\n",
        "plt.plot((data2-data2.min())/(data2.max()-data2.min()),label='P')\n",
        "plt.legend()"
      ],
      "execution_count": 260,
      "outputs": [
        {
          "output_type": "execute_result",
          "data": {
            "text/plain": [
              "<matplotlib.legend.Legend at 0x7f09c20b5710>"
            ]
          },
          "metadata": {
            "tags": []
          },
          "execution_count": 260
        },
        {
          "output_type": "display_data",
          "data": {
            "image/png": "[encoded data removed]",
            "text/plain": [
              "<Figure size 432x288 with 1 Axes>"
            ]
          },
          "metadata": {
            "tags": [],
            "needs_background": "light"
          }
        }
      ]
    },
    {
      "cell_type": "code",
      "metadata": {
        "colab": {
          "base_uri": "https://localhost:8080/"
        },
        "id": "xQtBIr6YuYMg",
        "outputId": "430f2741-104d-4de5-9fc2-b08456e7df85"
      },
      "source": [
        "# sm.add_constant(data.exog, prepend=False)\n",
        "poisson_training_results = sm.GLM(ytrain, xtrain, family=sm.families.NegativeBinomial()).fit()\n",
        "\n",
        "print(poisson_training_results.summary())"
      ],
      "execution_count": 143,
      "outputs": [
        {
          "output_type": "stream",
          "text": [
            "                 Generalized Linear Model Regression Results                  \n",
            "==============================================================================\n",
            "Dep. Variable:              Confirmed   No. Observations:                  337\n",
            "Model:                            GLM   Df Residuals:                      328\n",
            "Model Family:        NegativeBinomial   Df Model:                            8\n",
            "Link Function:                    log   Scale:                          1.0000\n",
            "Method:                          IRLS   Log-Likelihood:                -942.60\n",
            "Date:                Thu, 29 Apr 2021   Deviance:                       2.4036\n",
            "Time:                        02:10:07   Pearson chi2:                     2.44\n",
            "No. Iterations:                     4                                         \n",
            "Covariance Type:            nonrobust                                         \n",
            "======================================================================================================================\n",
            "                                                         coef    std err          z      P>|z|      [0.025      0.975]\n",
            "----------------------------------------------------------------------------------------------------------------------\n",
            "retail_and_recreation_percent_change_from_baseline    -0.2839      0.299     -0.950      0.342      -0.870       0.302\n",
            "grocery_and_pharmacy_percent_change_from_baseline     -0.0051      0.202     -0.025      0.980      -0.400       0.390\n",
            "parks_percent_change_from_baseline                     0.0530      0.351      0.151      0.880      -0.634       0.740\n",
            "transit_stations_percent_change_from_baseline          0.2153      0.484      0.445      0.656      -0.733       1.163\n",
            "workplaces_percent_change_from_baseline               -0.0553      0.184     -0.301      0.764      -0.416       0.305\n",
            "residential_percent_change_from_baseline              -0.0783      0.239     -0.327      0.744      -0.547       0.391\n",
            "Confirmed_1                                            0.1685      0.316      0.533      0.594      -0.451       0.788\n",
            "Confirmed_2                                            0.1134      0.336      0.337      0.736      -0.545       0.772\n",
            "Confirmed_3                                            0.0198      0.320      0.062      0.951      -0.607       0.647\n",
            "======================================================================================================================\n"
          ],
          "name": "stdout"
        }
      ]
    },
    {
      "cell_type": "code",
      "metadata": {
        "colab": {
          "base_uri": "https://localhost:8080/"
        },
        "id": "1XHX3BaXuuZV",
        "outputId": "72d0055e-9f64-4ef3-b4a0-8baab56dc506"
      },
      "source": [
        "poisson_predictions = poisson_training_results.get_prediction(xtest)\n",
        "#.summary_frame() returns a pandas DataFrame\n",
        "predictions_summary_frame = poisson_predictions.summary_frame()\n",
        "# print(predictions_summary_frame)\n",
        "predictions_summary_frame['Actual'] = cases_scaler.inverse_transform(ytest)\n",
        "\n",
        "predictions_summary_frame['mean'] = cases_scaler.inverse_transform(predictions_summary_frame['mean']).astype(int)\n",
        "print(predictions_summary_frame)"
      ],
      "execution_count": 54,
      "outputs": [
        {
          "output_type": "stream",
          "text": [
            "        mean     mean_se  mean_ci_lower  mean_ci_upper   Actual\n",
            "16      4614    0.701966       1.132359       4.075996    426.0\n",
            "17      3347    0.425732       0.669397       2.458425    800.0\n",
            "18      2849    0.301909       0.503344       1.766045    991.0\n",
            "20      3221    0.314320       0.715460       2.002690    884.0\n",
            "38      3201    0.268920       0.757616       1.846990   1276.0\n",
            "..       ...         ...            ...            ...      ...\n",
            "315     3051    0.232777       0.708480       1.648297   1647.0\n",
            "323     4899    0.950245       1.057849       5.187728   2982.0\n",
            "332     1571    0.075694       0.008386       0.583358   5890.0\n",
            "336   285272  140.976505      46.608503     806.292436   8948.0\n",
            "338  1467024  639.403004     286.276896    3500.607579  11206.0\n",
            "\n",
            "[62 rows x 5 columns]\n"
          ],
          "name": "stdout"
        }
      ]
    },
    {
      "cell_type": "code",
      "metadata": {
        "colab": {
          "base_uri": "https://localhost:8080/",
          "height": 294
        },
        "id": "7nNKfuT_1yVP",
        "outputId": "c0f964ea-4b0c-4dd3-9876-ff447b60f748"
      },
      "source": [
        "plt.plot(np.arange(0,62),ytest, label='True')\n",
        "plt.plot(np.arange(0,62),predictions_summary_frame['mean'], label='Predicted')\n",
        "plt.legend()"
      ],
      "execution_count": 56,
      "outputs": [
        {
          "output_type": "execute_result",
          "data": {
            "text/plain": [
              "<matplotlib.legend.Legend at 0x7f09c3bfd650>"
            ]
          },
          "metadata": {
            "tags": []
          },
          "execution_count": 56
        },
        {
          "output_type": "display_data",
          "data": {
            "image/png": "[encoded data removed]",
            "text/plain": [
              "<Figure size 432x288 with 1 Axes>"
            ]
          },
          "metadata": {
            "tags": [],
            "needs_background": "light"
          }
        }
      ]
    },
    {
      "cell_type": "code",
      "metadata": {
        "id": "rKNvSGZtAPyN"
      },
      "source": [
        "mask = np.random.rand(len(df)) < 0.8"
      ],
      "execution_count": 101,
      "outputs": []
    },
    {
      "cell_type": "code",
      "metadata": {
        "id": "qd9fNLW0AJnG"
      },
      "source": [
        "# df = pd.read_csv(\"district_mobility_cases.csv\").dropna()\n",
        "# df = df[df['Confirmed']>=0]\n",
        "mobility = ['retail_and_recreation_percent_change_from_baseline',\n",
        "       'grocery_and_pharmacy_percent_change_from_baseline',\n",
        "       'parks_percent_change_from_baseline',\n",
        "       'transit_stations_percent_change_from_baseline',\n",
        "       'workplaces_percent_change_from_baseline',\n",
        "       'residential_percent_change_from_baseline']\n",
        "\n",
        "df['Confirmed_1'] = df['Confirmed'].shift(-1)\n",
        "df['Confirmed_2'] = df['Confirmed'].shift(-2)\n",
        "\n",
        "df[mobility] = df[mobility]\n",
        "df_train = df[mask]\n",
        "df_test = df[~mask]\n",
        "\n",
        "xtrain = df_train[df_train['District']=='Mumbai'][['Confirmed_1','Confirmed_2']]\n",
        "ytrain = df_train[df_train['District']=='Mumbai']['Confirmed']\n",
        "\n",
        "xtest = df_test[df_test['District']=='Mumbai'][['Confirmed_1','Confirmed_2']]\n",
        "ytest = df_test[df_test['District']=='Mumbai']['Confirmed']\n",
        "\n",
        "bs = BSplines(xtrain, df=[1,1], degree=[0,0])\n",
        "\n",
        "# strikes_data['Confirmed_adj'] = np.maximum(1, strikes_data['strikes'])\n"
      ],
      "execution_count": 195,
      "outputs": []
    },
    {
      "cell_type": "code",
      "metadata": {
        "colab": {
          "base_uri": "https://localhost:8080/"
        },
        "id": "DhuCHaog5IDf",
        "outputId": "8214cecb-a6e5-4fe8-bb22-76cfc7688be6"
      },
      "source": [
        "from statsmodels.gam.generalized_additive_model import GLMGam\n",
        "from statsmodels.gam.api import GLMGam, BSplines\n",
        "\n",
        "training_results = sm.GLMGam(ytrain, xtrain, smoother=bs, alpha=[1,1], family=sm.families.NegativeBinomial()).fit()\n",
        "\n",
        "# print(training_results.summary())\n",
        "\n",
        "predictions = training_results.get_prediction(xtest, transform=True)\n",
        "#.summary_frame() returns a pandas DataFrame\n",
        "predictions_summary_frame = predictions.summary_frame()\n",
        "predictions_summary_frame['Actual'] = ytest\n",
        "print(predictions_summary_frame)\n",
        "\n",
        "sum((predictions_summary_frame['Actual'].values - predictions_summary_frame['mean'].values)**2)/predictions_summary_frame.shape[0]"
      ],
      "execution_count": 196,
      "outputs": [
        {
          "output_type": "stream",
          "text": [
            "                mean       mean_se  mean_ci_lower  mean_ci_upper  Actual\n",
            "64906   9.014716e+02  1.898779e+01   8.650139e+02   9.394659e+02   722.0\n",
            "64910   2.552082e+03  5.969125e+01   2.437730e+03   2.671798e+03   800.0\n",
            "64916   6.785242e+04  2.236481e+03   6.360759e+04   7.238053e+04  1411.0\n",
            "64934   7.059802e+04  2.376405e+03   6.609067e+04   7.541277e+04  1274.0\n",
            "64936   1.849608e+04  1.019204e+03   1.660257e+04   2.060554e+04  1311.0\n",
            "...              ...           ...            ...            ...     ...\n",
            "154904  2.134700e+07  1.366770e+06   1.882944e+07   2.420116e+07  1713.0\n",
            "154906  2.194864e+10  1.601123e+09   1.902452e+10   2.532221e+10  2377.0\n",
            "154908  3.071561e+11  3.218570e+10   2.501296e+11   3.771840e+11  3063.0\n",
            "154914  1.420578e+20  2.116738e+19   1.060795e+20   1.902386e+20  5505.0\n",
            "154929  4.017509e+33  9.569937e+32   2.518812e+33   6.407932e+33  9202.0\n",
            "\n",
            "[66 rows x 5 columns]\n"
          ],
          "name": "stdout"
        },
        {
          "output_type": "stream",
          "text": [
            "/usr/local/lib/python3.7/dist-packages/statsmodels/gam/generalized_additive_model.py:431: RuntimeWarning: invalid value encountered in sqrt\n",
            "  wexog = np.sqrt(weights)[:, None] * self.model.exog\n"
          ],
          "name": "stderr"
        },
        {
          "output_type": "execute_result",
          "data": {
            "text/plain": [
              "2.4455115070690003e+65"
            ]
          },
          "metadata": {
            "tags": []
          },
          "execution_count": 196
        }
      ]
    },
    {
      "cell_type": "code",
      "metadata": {
        "colab": {
          "base_uri": "https://localhost:8080/",
          "height": 282
        },
        "id": "iyHjmwXa7yPO",
        "outputId": "9e589d2c-bdec-4e96-b43b-85fa45b38313"
      },
      "source": [
        "plt.plot(np.arange(0,66),ytest, label='True')\n",
        "plt.plot(np.arange(0,66),predictions_summary_frame['mean'], label='Predicted')\n",
        "plt.legend()"
      ],
      "execution_count": 110,
      "outputs": [
        {
          "output_type": "execute_result",
          "data": {
            "text/plain": [
              "<matplotlib.legend.Legend at 0x7fd8ae9d4dd0>"
            ]
          },
          "metadata": {
            "tags": []
          },
          "execution_count": 110
        },
        {
          "output_type": "display_data",
          "data": {
            "image/png": "[encoded data removed]",
            "text/plain": [
              "<Figure size 432x288 with 1 Axes>"
            ]
          },
          "metadata": {
            "tags": [],
            "needs_background": "light"
          }
        }
      ]
    },
    {
      "cell_type": "markdown",
      "metadata": {
        "id": "sCkv-usCMaN4"
      },
      "source": [
        "Negative Binomial Regression"
      ]
    },
    {
      "cell_type": "code",
      "metadata": {
        "id": "79lmlM5UI-ga"
      },
      "source": [
        "df = pd.read_csv(\"district_mobility_cases.csv\").dropna()\n",
        "df = df[df['Confirmed']>=0]\n",
        "mask = np.random.rand(len(df)) < 0.8\n",
        "mobility = ['retail_and_recreation_percent_change_from_baseline',\n",
        "       'grocery_and_pharmacy_percent_change_from_baseline',\n",
        "       'parks_percent_change_from_baseline',\n",
        "       'transit_stations_percent_change_from_baseline',\n",
        "       'workplaces_percent_change_from_baseline',\n",
        "       'residential_percent_change_from_baseline']\n",
        "\n",
        "# df['Confirmed_1'] = df['Confirmed'].shift(-1)\n",
        "\n",
        "df[mobility] = df[mobility]\n",
        "df_train = df[mask]\n",
        "df_test = df[~mask]\n",
        "\n",
        "# xtrain = df_train[df_train['District']=='Mumbai'][mobility + ['Confirmed_1']]\n",
        "# ytrain = df_train[df_train['District']=='Mumbai']['Confirmed']\n",
        "\n",
        "# xtest = df_test[df_test['District']=='Mumbai'][mobility + ['Confirmed_1']]\n",
        "# ytest = df_test[df_test['District']=='Mumbai']['Confirmed']\n",
        "\n",
        "bs = BSplines(xtrain, df=[1,1,1,1,1,1, 1], degree=[0,0,0,0,0,0, 0])\n",
        "\n",
        "df['Confirmed_adj'] = np.maximum(1, df['Confirmed'])\n",
        "\n",
        "def indicator_func(x):\n",
        "    if x == 0:\n",
        "        return 1\n",
        "    else:\n",
        "        return 0\n",
        "\n",
        "df['d'] = df['Confirmed'].apply(indicator_func)\n",
        "\n",
        "df['ln_Confirmed_adj_lag1'] = df['Confirmed_adj'].shift(1)\n",
        "df['ln_Confirmed_adj_lag2'] = df['Confirmed_adj'].shift(2)\n",
        "df['ln_Confirmed_adj_lag3'] = df['Confirmed_adj'].shift(3)\n",
        "\n",
        "df['d_lag1'] = df['d'].shift(1)\n",
        "df['d_lag2'] = df['d'].shift(2)\n",
        "df['d_lag3'] = df['d'].shift(3)\n",
        "\n",
        "# df[mobility] = df[mobility].dropna()\n",
        "df_train = df[mask].dropna()\n",
        "df_test = df[~mask].dropna()\n",
        "\n",
        "expr = 'Confirmed ~ ln_Confirmed_adj_lag1 + ln_Confirmed_adj_lag2 + ln_Confirmed_adj_lag3 + d_lag1 + d_lag2 + d_lag3'"
      ],
      "execution_count": 207,
      "outputs": []
    },
    {
      "cell_type": "code",
      "metadata": {
        "colab": {
          "base_uri": "https://localhost:8080/"
        },
        "id": "4t-SsrTfBgmi",
        "outputId": "c4638d9d-4ac1-4974-8672-e1b11f57a0d9"
      },
      "source": [
        "import statsmodels.discrete.discrete_model as dm\n",
        "from patsy import dmatrices\n",
        "\n",
        "# expr = 'Confirmed ~ Confirmed_1'\n",
        "\n",
        "# df_train = df_train[df_train['Confirmed_1']>=0]\n",
        "# df_train = df_train[df_train['Confirmed']>=0]\n",
        "\n",
        "# df_test = df_test[df_test['Confirmed_1']>=0]\n",
        "# df_test = df_test[df_test['Confirmed']>=0]\n",
        "\n",
        "\n",
        "\n",
        "# xtrain = df_train[df_train['District']=='Mumbai']['Confirmed_1']\n",
        "# ytrain = df_train[df_train['District']=='Mumbai']['Confirmed']\n",
        "\n",
        "# xtest = df_test[df_test['District']=='Mumbai']['Confirmed_1']\n",
        "# ytest = df_test[df_test['District']=='Mumbai']['Confirmed']\n",
        "\n",
        "y_train, X_train = dmatrices(expr, df_train[df_train['District']=='Ahmedabad'], return_type='dataframe')\n",
        "y_test, X_test = dmatrices(expr, df_test[df_test['District']=='Ahmedabad'], return_type='dataframe')\n",
        "\n",
        "from statsmodels.gam.generalized_additive_model import GLMGam\n",
        "from statsmodels.gam.api import GLMGam, BSplines\n",
        "bs = BSplines(X_train, df=[1,1,1,1,1,1,1], degree=[0,0,0,0,0,0,0])\n",
        "\n",
        "training_results = sm.GLMGam(y_train, X_train, smoother=bs, alpha=[1,1,1,1,1,1,1], family=sm.families.NegativeBinomial()).fit()\n",
        "\n",
        "print(training_results.summary())\n",
        "\n",
        "predictions = training_results.get_prediction(X_test, transform=True)\n",
        "#.summary_frame() returns a pandas DataFrame\n",
        "predictions_summary_frame = predictions.summary_frame()\n",
        "predictions_summary_frame['Actual'] = y_test.values\n",
        "print(predictions_summary_frame)\n",
        "\n",
        "sum((predictions_summary_frame['Actual'].values - predictions_summary_frame['mean'].values)**2)/predictions_summary_frame.shape[0]"
      ],
      "execution_count": 209,
      "outputs": [
        {
          "output_type": "stream",
          "text": [
            "                 Generalized Linear Model Regression Results                  \n",
            "==============================================================================\n",
            "Dep. Variable:              Confirmed   No. Observations:                  283\n",
            "Model:                         GLMGam   Df Residuals:                   275.99\n",
            "Model Family:        NegativeBinomial   Df Model:                         6.01\n",
            "Link Function:                    log   Scale:                          1.0000\n",
            "Method:                         PIRLS   Log-Likelihood:                -1785.9\n",
            "Date:                Mon, 26 Apr 2021   Deviance:                       31.875\n",
            "Time:                        22:08:34   Pearson chi2:                     26.4\n",
            "No. Iterations:                   206                                         \n",
            "Covariance Type:            nonrobust                                         \n",
            "=========================================================================================\n",
            "                            coef    std err          z      P>|z|      [0.025      0.975]\n",
            "-----------------------------------------------------------------------------------------\n",
            "Intercept                 4.5398      0.106     42.641      0.000       4.331       4.748\n",
            "ln_Confirmed_adj_lag1 -3.456e-05      0.001     -0.030      0.976      -0.002       0.002\n",
            "ln_Confirmed_adj_lag2     0.0026      0.002      1.471      0.141      -0.001       0.006\n",
            "ln_Confirmed_adj_lag3     0.0008      0.001      0.660      0.509      -0.002       0.003\n",
            "d_lag1                    1.0345      1.312      0.788      0.431      -1.538       3.607\n",
            "d_lag2                   -0.1280      0.851     -0.150      0.880      -1.796       1.540\n",
            "d_lag3                   -0.2894      0.845     -0.343      0.732      -1.945       1.366\n",
            "=========================================================================================\n",
            "            mean       mean_se  mean_ci_lower  mean_ci_upper  Actual\n",
            "0     195.994750     19.979470     160.499607     239.339788   267.0\n",
            "1     233.205760     17.279234     201.683343     269.655023   349.0\n",
            "2    1477.862820   1876.786596     122.649361   17807.500093   263.0\n",
            "3     228.235500     14.048950     202.296238     257.500803   233.0\n",
            "4     230.509356     17.853887     198.043019     268.298088   279.0\n",
            "..           ...           ...            ...            ...     ...\n",
            "66    183.683739     16.234197     154.468689     218.424304   271.0\n",
            "67    230.458329     15.914647     201.284997     263.859912   344.0\n",
            "68    781.814894    132.845055     560.362143    1090.784835   656.0\n",
            "69  11263.852092   4930.759188    4776.093980   26564.461356  1933.0\n",
            "70  47723.242287  32093.728358   12773.197180  178303.663711  2526.0\n",
            "\n",
            "[71 rows x 5 columns]\n"
          ],
          "name": "stdout"
        },
        {
          "output_type": "execute_result",
          "data": {
            "text/plain": [
              "30020661.15690495"
            ]
          },
          "metadata": {
            "tags": []
          },
          "execution_count": 209
        }
      ]
    },
    {
      "cell_type": "code",
      "metadata": {
        "colab": {
          "base_uri": "https://localhost:8080/",
          "height": 407
        },
        "id": "gOMMIKOmN8YT",
        "outputId": "4a106a19-64f2-4741-e277-998381f09833"
      },
      "source": [
        "y_test"
      ],
      "execution_count": 204,
      "outputs": [
        {
          "output_type": "execute_result",
          "data": {
            "text/html": [
              "<div>\n",
              "<style scoped>\n",
              "    .dataframe tbody tr th:only-of-type {\n",
              "        vertical-align: middle;\n",
              "    }\n",
              "\n",
              "    .dataframe tbody tr th {\n",
              "        vertical-align: top;\n",
              "    }\n",
              "\n",
              "    .dataframe thead th {\n",
              "        text-align: right;\n",
              "    }\n",
              "</style>\n",
              "<table border=\"1\" class=\"dataframe\">\n",
              "  <thead>\n",
              "    <tr style=\"text-align: right;\">\n",
              "      <th></th>\n",
              "      <th>Confirmed</th>\n",
              "    </tr>\n",
              "  </thead>\n",
              "  <tbody>\n",
              "    <tr>\n",
              "      <th>19911</th>\n",
              "      <td>267.0</td>\n",
              "    </tr>\n",
              "    <tr>\n",
              "      <th>19912</th>\n",
              "      <td>250.0</td>\n",
              "    </tr>\n",
              "    <tr>\n",
              "      <th>19913</th>\n",
              "      <td>274.0</td>\n",
              "    </tr>\n",
              "    <tr>\n",
              "      <th>19914</th>\n",
              "      <td>259.0</td>\n",
              "    </tr>\n",
              "    <tr>\n",
              "      <th>19924</th>\n",
              "      <td>265.0</td>\n",
              "    </tr>\n",
              "    <tr>\n",
              "      <th>...</th>\n",
              "      <td>...</td>\n",
              "    </tr>\n",
              "    <tr>\n",
              "      <th>135687</th>\n",
              "      <td>451.0</td>\n",
              "    </tr>\n",
              "    <tr>\n",
              "      <th>135690</th>\n",
              "      <td>514.0</td>\n",
              "    </tr>\n",
              "    <tr>\n",
              "      <th>135691</th>\n",
              "      <td>558.0</td>\n",
              "    </tr>\n",
              "    <tr>\n",
              "      <th>135699</th>\n",
              "      <td>629.0</td>\n",
              "    </tr>\n",
              "    <tr>\n",
              "      <th>135710</th>\n",
              "      <td>2282.0</td>\n",
              "    </tr>\n",
              "  </tbody>\n",
              "</table>\n",
              "<p>63 rows × 1 columns</p>\n",
              "</div>"
            ],
            "text/plain": [
              "        Confirmed\n",
              "19911       267.0\n",
              "19912       250.0\n",
              "19913       274.0\n",
              "19914       259.0\n",
              "19924       265.0\n",
              "...           ...\n",
              "135687      451.0\n",
              "135690      514.0\n",
              "135691      558.0\n",
              "135699      629.0\n",
              "135710     2282.0\n",
              "\n",
              "[63 rows x 1 columns]"
            ]
          },
          "metadata": {
            "tags": []
          },
          "execution_count": 204
        }
      ]
    },
    {
      "cell_type": "code",
      "metadata": {
        "colab": {
          "base_uri": "https://localhost:8080/",
          "height": 600
        },
        "id": "J7RJYefhHOkO",
        "outputId": "507dae35-8375-496c-b56e-95e361e5d22c"
      },
      "source": [
        "# plt.plot(np.arange(0,y_test.shape[0]),ytest, label='True')\n",
        "# plt.plot(np.arange(0,y_test.shape[0]),predictions_summary_frame['mean'], label='Predicted')\n",
        "# plt.legend()\n",
        "\n",
        "# nb2_model_results.predict([1000,1000,1000])\n",
        "# X_test\n",
        "df"
      ],
      "execution_count": 184,
      "outputs": [
        {
          "output_type": "execute_result",
          "data": {
            "text/html": [
              "<div>\n",
              "<style scoped>\n",
              "    .dataframe tbody tr th:only-of-type {\n",
              "        vertical-align: middle;\n",
              "    }\n",
              "\n",
              "    .dataframe tbody tr th {\n",
              "        vertical-align: top;\n",
              "    }\n",
              "\n",
              "    .dataframe thead th {\n",
              "        text-align: right;\n",
              "    }\n",
              "</style>\n",
              "<table border=\"1\" class=\"dataframe\">\n",
              "  <thead>\n",
              "    <tr style=\"text-align: right;\">\n",
              "      <th></th>\n",
              "      <th>District</th>\n",
              "      <th>Date</th>\n",
              "      <th>retail_and_recreation_percent_change_from_baseline</th>\n",
              "      <th>grocery_and_pharmacy_percent_change_from_baseline</th>\n",
              "      <th>parks_percent_change_from_baseline</th>\n",
              "      <th>transit_stations_percent_change_from_baseline</th>\n",
              "      <th>workplaces_percent_change_from_baseline</th>\n",
              "      <th>residential_percent_change_from_baseline</th>\n",
              "      <th>State</th>\n",
              "      <th>Confirmed</th>\n",
              "      <th>Confirmed_1</th>\n",
              "      <th>Confirmed_adj</th>\n",
              "      <th>d</th>\n",
              "      <th>ln_Confirmed_adj_lag1</th>\n",
              "      <th>ln_Confirmed_adj_lag2</th>\n",
              "      <th>ln_Confirmed_adj_lag3</th>\n",
              "      <th>d_lag1</th>\n",
              "      <th>d_lag2</th>\n",
              "      <th>d_lag3</th>\n",
              "    </tr>\n",
              "  </thead>\n",
              "  <tbody>\n",
              "    <tr>\n",
              "      <th>0</th>\n",
              "      <td>Chittoor</td>\n",
              "      <td>2020-04-26</td>\n",
              "      <td>-83.0</td>\n",
              "      <td>-48.0</td>\n",
              "      <td>-57.0</td>\n",
              "      <td>-68.0</td>\n",
              "      <td>-33.0</td>\n",
              "      <td>23.0</td>\n",
              "      <td>Andhra Pradesh</td>\n",
              "      <td>0.0</td>\n",
              "      <td>0.0</td>\n",
              "      <td>1.0</td>\n",
              "      <td>1</td>\n",
              "      <td>NaN</td>\n",
              "      <td>NaN</td>\n",
              "      <td>NaN</td>\n",
              "      <td>NaN</td>\n",
              "      <td>NaN</td>\n",
              "      <td>NaN</td>\n",
              "    </tr>\n",
              "    <tr>\n",
              "      <th>1</th>\n",
              "      <td>Chittoor</td>\n",
              "      <td>2020-04-27</td>\n",
              "      <td>-83.0</td>\n",
              "      <td>-46.0</td>\n",
              "      <td>-50.0</td>\n",
              "      <td>-67.0</td>\n",
              "      <td>-50.0</td>\n",
              "      <td>31.0</td>\n",
              "      <td>Andhra Pradesh</td>\n",
              "      <td>0.0</td>\n",
              "      <td>1.0</td>\n",
              "      <td>1.0</td>\n",
              "      <td>1</td>\n",
              "      <td>1.0</td>\n",
              "      <td>NaN</td>\n",
              "      <td>NaN</td>\n",
              "      <td>1.0</td>\n",
              "      <td>NaN</td>\n",
              "      <td>NaN</td>\n",
              "    </tr>\n",
              "    <tr>\n",
              "      <th>2</th>\n",
              "      <td>Chittoor</td>\n",
              "      <td>2020-04-28</td>\n",
              "      <td>-83.0</td>\n",
              "      <td>-46.0</td>\n",
              "      <td>-48.0</td>\n",
              "      <td>-65.0</td>\n",
              "      <td>-52.0</td>\n",
              "      <td>29.0</td>\n",
              "      <td>Andhra Pradesh</td>\n",
              "      <td>1.0</td>\n",
              "      <td>3.0</td>\n",
              "      <td>1.0</td>\n",
              "      <td>0</td>\n",
              "      <td>1.0</td>\n",
              "      <td>1.0</td>\n",
              "      <td>NaN</td>\n",
              "      <td>1.0</td>\n",
              "      <td>1.0</td>\n",
              "      <td>NaN</td>\n",
              "    </tr>\n",
              "    <tr>\n",
              "      <th>3</th>\n",
              "      <td>Chittoor</td>\n",
              "      <td>2020-04-29</td>\n",
              "      <td>-82.0</td>\n",
              "      <td>-44.0</td>\n",
              "      <td>-49.0</td>\n",
              "      <td>-64.0</td>\n",
              "      <td>-52.0</td>\n",
              "      <td>28.0</td>\n",
              "      <td>Andhra Pradesh</td>\n",
              "      <td>3.0</td>\n",
              "      <td>3.0</td>\n",
              "      <td>3.0</td>\n",
              "      <td>0</td>\n",
              "      <td>1.0</td>\n",
              "      <td>1.0</td>\n",
              "      <td>1.0</td>\n",
              "      <td>0.0</td>\n",
              "      <td>1.0</td>\n",
              "      <td>1.0</td>\n",
              "    </tr>\n",
              "    <tr>\n",
              "      <th>4</th>\n",
              "      <td>Chittoor</td>\n",
              "      <td>2020-04-30</td>\n",
              "      <td>-83.0</td>\n",
              "      <td>-41.0</td>\n",
              "      <td>-49.0</td>\n",
              "      <td>-65.0</td>\n",
              "      <td>-51.0</td>\n",
              "      <td>29.0</td>\n",
              "      <td>Andhra Pradesh</td>\n",
              "      <td>3.0</td>\n",
              "      <td>0.0</td>\n",
              "      <td>3.0</td>\n",
              "      <td>0</td>\n",
              "      <td>3.0</td>\n",
              "      <td>1.0</td>\n",
              "      <td>1.0</td>\n",
              "      <td>0.0</td>\n",
              "      <td>0.0</td>\n",
              "      <td>1.0</td>\n",
              "    </tr>\n",
              "    <tr>\n",
              "      <th>...</th>\n",
              "      <td>...</td>\n",
              "      <td>...</td>\n",
              "      <td>...</td>\n",
              "      <td>...</td>\n",
              "      <td>...</td>\n",
              "      <td>...</td>\n",
              "      <td>...</td>\n",
              "      <td>...</td>\n",
              "      <td>...</td>\n",
              "      <td>...</td>\n",
              "      <td>...</td>\n",
              "      <td>...</td>\n",
              "      <td>...</td>\n",
              "      <td>...</td>\n",
              "      <td>...</td>\n",
              "      <td>...</td>\n",
              "      <td>...</td>\n",
              "      <td>...</td>\n",
              "      <td>...</td>\n",
              "    </tr>\n",
              "    <tr>\n",
              "      <th>181653</th>\n",
              "      <td>Uttar Dinajpur</td>\n",
              "      <td>2021-04-10</td>\n",
              "      <td>-6.0</td>\n",
              "      <td>33.0</td>\n",
              "      <td>1.0</td>\n",
              "      <td>-12.0</td>\n",
              "      <td>-7.0</td>\n",
              "      <td>12.0</td>\n",
              "      <td>West Bengal</td>\n",
              "      <td>50.0</td>\n",
              "      <td>26.0</td>\n",
              "      <td>50.0</td>\n",
              "      <td>0</td>\n",
              "      <td>24.0</td>\n",
              "      <td>24.0</td>\n",
              "      <td>23.0</td>\n",
              "      <td>0.0</td>\n",
              "      <td>0.0</td>\n",
              "      <td>0.0</td>\n",
              "    </tr>\n",
              "    <tr>\n",
              "      <th>181654</th>\n",
              "      <td>Uttar Dinajpur</td>\n",
              "      <td>2021-04-11</td>\n",
              "      <td>-2.0</td>\n",
              "      <td>35.0</td>\n",
              "      <td>7.0</td>\n",
              "      <td>-10.0</td>\n",
              "      <td>-2.0</td>\n",
              "      <td>11.0</td>\n",
              "      <td>West Bengal</td>\n",
              "      <td>26.0</td>\n",
              "      <td>73.0</td>\n",
              "      <td>26.0</td>\n",
              "      <td>0</td>\n",
              "      <td>50.0</td>\n",
              "      <td>24.0</td>\n",
              "      <td>24.0</td>\n",
              "      <td>0.0</td>\n",
              "      <td>0.0</td>\n",
              "      <td>0.0</td>\n",
              "    </tr>\n",
              "    <tr>\n",
              "      <th>181655</th>\n",
              "      <td>Uttar Dinajpur</td>\n",
              "      <td>2021-04-12</td>\n",
              "      <td>-2.0</td>\n",
              "      <td>37.0</td>\n",
              "      <td>8.0</td>\n",
              "      <td>-8.0</td>\n",
              "      <td>-6.0</td>\n",
              "      <td>10.0</td>\n",
              "      <td>West Bengal</td>\n",
              "      <td>73.0</td>\n",
              "      <td>78.0</td>\n",
              "      <td>73.0</td>\n",
              "      <td>0</td>\n",
              "      <td>26.0</td>\n",
              "      <td>50.0</td>\n",
              "      <td>24.0</td>\n",
              "      <td>0.0</td>\n",
              "      <td>0.0</td>\n",
              "      <td>0.0</td>\n",
              "    </tr>\n",
              "    <tr>\n",
              "      <th>181656</th>\n",
              "      <td>Uttar Dinajpur</td>\n",
              "      <td>2021-04-13</td>\n",
              "      <td>2.0</td>\n",
              "      <td>41.0</td>\n",
              "      <td>8.0</td>\n",
              "      <td>-2.0</td>\n",
              "      <td>-10.0</td>\n",
              "      <td>10.0</td>\n",
              "      <td>West Bengal</td>\n",
              "      <td>78.0</td>\n",
              "      <td>80.0</td>\n",
              "      <td>78.0</td>\n",
              "      <td>0</td>\n",
              "      <td>73.0</td>\n",
              "      <td>26.0</td>\n",
              "      <td>50.0</td>\n",
              "      <td>0.0</td>\n",
              "      <td>0.0</td>\n",
              "      <td>0.0</td>\n",
              "    </tr>\n",
              "    <tr>\n",
              "      <th>181657</th>\n",
              "      <td>Uttar Dinajpur</td>\n",
              "      <td>2021-04-14</td>\n",
              "      <td>-4.0</td>\n",
              "      <td>39.0</td>\n",
              "      <td>3.0</td>\n",
              "      <td>-11.0</td>\n",
              "      <td>-19.0</td>\n",
              "      <td>14.0</td>\n",
              "      <td>West Bengal</td>\n",
              "      <td>80.0</td>\n",
              "      <td>NaN</td>\n",
              "      <td>80.0</td>\n",
              "      <td>0</td>\n",
              "      <td>78.0</td>\n",
              "      <td>73.0</td>\n",
              "      <td>26.0</td>\n",
              "      <td>0.0</td>\n",
              "      <td>0.0</td>\n",
              "      <td>0.0</td>\n",
              "    </tr>\n",
              "  </tbody>\n",
              "</table>\n",
              "<p>149151 rows × 19 columns</p>\n",
              "</div>"
            ],
            "text/plain": [
              "              District        Date  ...  d_lag2  d_lag3\n",
              "0             Chittoor  2020-04-26  ...     NaN     NaN\n",
              "1             Chittoor  2020-04-27  ...     NaN     NaN\n",
              "2             Chittoor  2020-04-28  ...     1.0     NaN\n",
              "3             Chittoor  2020-04-29  ...     1.0     1.0\n",
              "4             Chittoor  2020-04-30  ...     0.0     1.0\n",
              "...                ...         ...  ...     ...     ...\n",
              "181653  Uttar Dinajpur  2021-04-10  ...     0.0     0.0\n",
              "181654  Uttar Dinajpur  2021-04-11  ...     0.0     0.0\n",
              "181655  Uttar Dinajpur  2021-04-12  ...     0.0     0.0\n",
              "181656  Uttar Dinajpur  2021-04-13  ...     0.0     0.0\n",
              "181657  Uttar Dinajpur  2021-04-14  ...     0.0     0.0\n",
              "\n",
              "[149151 rows x 19 columns]"
            ]
          },
          "metadata": {
            "tags": []
          },
          "execution_count": 184
        }
      ]
    },
    {
      "cell_type": "code",
      "metadata": {
        "id": "s2YV1yHbKLlq"
      },
      "source": [
        "# set(df_train['District'].unique())\n",
        "# df[df['Dis']=='Delhi']#['District'].unique()\n",
        "# df['State'].unique()"
      ],
      "execution_count": null,
      "outputs": []
    },
    {
      "cell_type": "code",
      "metadata": {
        "colab": {
          "base_uri": "https://localhost:8080/"
        },
        "id": "G1oHAPjEvY_9",
        "outputId": "145f49ad-b8de-4ca6-e1e5-ebab66c59747"
      },
      "source": [
        "# some example data\n",
        "# In [1]: import numpy as np\n",
        "\n",
        "# In [2]: import pandas\n",
        "\n",
        "# In [3]: import statsmodels.api as sm\n",
        "\n",
        "from statsmodels.tsa.api import VAR\n",
        "\n",
        "mdata = sm.datasets.macrodata.load_pandas().data\n",
        "\n",
        "# prepare the dates index\n",
        "dates = mdata[['year', 'quarter']].astype(int).astype(str)\n",
        "\n",
        "quarterly = dates[\"year\"] + \"Q\" + dates[\"quarter\"]\n",
        "\n",
        "from statsmodels.tsa.base.datetools import dates_from_str\n",
        "\n",
        "quarterly = dates_from_str(quarterly)\n",
        "\n",
        "mdata = mdata[['realgdp','realcons','realinv']]\n",
        "\n",
        "mdata.index = pd.DatetimeIndex(quarterly)\n",
        "\n",
        "data = np.log(mdata).diff().dropna()\n",
        "\n",
        "# make a VAR model\n",
        "model = VAR(data)"
      ],
      "execution_count": 41,
      "outputs": [
        {
          "output_type": "stream",
          "text": [
            "/usr/local/lib/python3.7/dist-packages/statsmodels/tsa/base/tsa_model.py:165: ValueWarning: No frequency information was provided, so inferred frequency Q-DEC will be used.\n",
            "  % freq, ValueWarning)\n"
          ],
          "name": "stderr"
        }
      ]
    },
    {
      "cell_type": "code",
      "metadata": {
        "id": "-7rw9ekGEzRm"
      },
      "source": [
        "# !pip install patsy"
      ],
      "execution_count": 127,
      "outputs": []
    },
    {
      "cell_type": "code",
      "metadata": {
        "id": "pMI4luu1xdOY"
      },
      "source": [
        "results = model.fit(2)"
      ],
      "execution_count": 42,
      "outputs": []
    },
    {
      "cell_type": "code",
      "metadata": {
        "colab": {
          "base_uri": "https://localhost:8080/"
        },
        "id": "cwTv4L7VzSDy",
        "outputId": "7110eada-3677-4dc7-c979-3d1d7e77e7a1"
      },
      "source": [
        "results.summary()"
      ],
      "execution_count": 43,
      "outputs": [
        {
          "output_type": "execute_result",
          "data": {
            "text/plain": [
              "  Summary of Regression Results   \n",
              "==================================\n",
              "Model:                         VAR\n",
              "Method:                        OLS\n",
              "Date:           Mon, 26, Apr, 2021\n",
              "Time:                     20:09:35\n",
              "--------------------------------------------------------------------\n",
              "No. of Equations:         3.00000    BIC:                   -27.5830\n",
              "Nobs:                     200.000    HQIC:                  -27.7892\n",
              "Log likelihood:           1962.57    FPE:                7.42129e-13\n",
              "AIC:                     -27.9293    Det(Omega_mle):     6.69358e-13\n",
              "--------------------------------------------------------------------\n",
              "Results for equation realgdp\n",
              "==============================================================================\n",
              "                 coefficient       std. error           t-stat            prob\n",
              "------------------------------------------------------------------------------\n",
              "const               0.001527         0.001119            1.365           0.172\n",
              "L1.realgdp         -0.279435         0.169663           -1.647           0.100\n",
              "L1.realcons         0.675016         0.131285            5.142           0.000\n",
              "L1.realinv          0.033219         0.026194            1.268           0.205\n",
              "L2.realgdp          0.008221         0.173522            0.047           0.962\n",
              "L2.realcons         0.290458         0.145904            1.991           0.047\n",
              "L2.realinv         -0.007321         0.025786           -0.284           0.776\n",
              "==============================================================================\n",
              "\n",
              "Results for equation realcons\n",
              "==============================================================================\n",
              "                 coefficient       std. error           t-stat            prob\n",
              "------------------------------------------------------------------------------\n",
              "const               0.005460         0.000969            5.634           0.000\n",
              "L1.realgdp         -0.100468         0.146924           -0.684           0.494\n",
              "L1.realcons         0.268640         0.113690            2.363           0.018\n",
              "L1.realinv          0.025739         0.022683            1.135           0.257\n",
              "L2.realgdp         -0.123174         0.150267           -0.820           0.412\n",
              "L2.realcons         0.232499         0.126350            1.840           0.066\n",
              "L2.realinv          0.023504         0.022330            1.053           0.293\n",
              "==============================================================================\n",
              "\n",
              "Results for equation realinv\n",
              "==============================================================================\n",
              "                 coefficient       std. error           t-stat            prob\n",
              "------------------------------------------------------------------------------\n",
              "const              -0.023903         0.005863           -4.077           0.000\n",
              "L1.realgdp         -1.970974         0.888892           -2.217           0.027\n",
              "L1.realcons         4.414162         0.687825            6.418           0.000\n",
              "L1.realinv          0.225479         0.137234            1.643           0.100\n",
              "L2.realgdp          0.380786         0.909114            0.419           0.675\n",
              "L2.realcons         0.800281         0.764416            1.047           0.295\n",
              "L2.realinv         -0.124079         0.135098           -0.918           0.358\n",
              "==============================================================================\n",
              "\n",
              "Correlation matrix of residuals\n",
              "             realgdp  realcons   realinv\n",
              "realgdp     1.000000  0.603316  0.750722\n",
              "realcons    0.603316  1.000000  0.131951\n",
              "realinv     0.750722  0.131951  1.000000\n",
              "\n"
            ]
          },
          "metadata": {
            "tags": []
          },
          "execution_count": 43
        }
      ]
    },
    {
      "cell_type": "code",
      "metadata": {
        "colab": {
          "base_uri": "https://localhost:8080/",
          "height": 1000
        },
        "id": "S45UmWyizSWw",
        "outputId": "61eae715-7af4-4a4b-ab9b-43d8eda6faba"
      },
      "source": [
        "results.plot()"
      ],
      "execution_count": 44,
      "outputs": [
        {
          "output_type": "execute_result",
          "data": {
            "image/png": "[encoded data removed]",
            "text/plain": [
              "<Figure size 720x720 with 3 Axes>"
            ]
          },
          "metadata": {
            "tags": []
          },
          "execution_count": 44
        },
        {
          "output_type": "display_data",
          "data": {
            "image/png": "[encoded data removed]",
            "text/plain": [
              "<Figure size 720x720 with 3 Axes>"
            ]
          },
          "metadata": {
            "tags": [],
            "needs_background": "light"
          }
        }
      ]
    },
    {
      "cell_type": "code",
      "metadata": {
        "colab": {
          "base_uri": "https://localhost:8080/",
          "height": 113
        },
        "id": "-oFDJwWGzZht",
        "outputId": "6f87818a-a514-4a43-a299-1b4d6f1e2a45"
      },
      "source": [
        "results.test_causality('realgdp', ['realinv', 'realcons'], kind='f').summary()"
      ],
      "execution_count": 47,
      "outputs": [
        {
          "output_type": "execute_result",
          "data": {
            "text/html": [
              "<table class=\"simpletable\">\n",
              "<caption>Granger causality F-test. H_0: %s do not Granger-cause realgdp. Conclusion: reject H_0 at 5% significance level.</caption>\n",
              "<tr>\n",
              "  <th>Test statistic</th> <th>Critical value</th> <th>p-value</th>    <th>df</th>   \n",
              "</tr>\n",
              "<tr>\n",
              "       <td>9.905</td>          <td>2.387</td>      <td>0.000</td>  <td>(4, 579)</td>\n",
              "</tr>\n",
              "</table>"
            ],
            "text/plain": [
              "<class 'statsmodels.iolib.table.SimpleTable'>"
            ]
          },
          "metadata": {
            "tags": []
          },
          "execution_count": 47
        }
      ]
    },
    {
      "cell_type": "code",
      "metadata": {
        "colab": {
          "base_uri": "https://localhost:8080/"
        },
        "id": "3D8Z27tszhF7",
        "outputId": "a9b123a2-ccf7-4190-db61-5f76cf5256be"
      },
      "source": [
        "# ytrain.astype(float), xtrain.values.astype(float)"
      ],
      "execution_count": 52,
      "outputs": [
        {
          "output_type": "execute_result",
          "data": {
            "text/plain": [
              "(64893        0.0\n",
              " 64894      369.0\n",
              " 64895      393.0\n",
              " 64896      475.0\n",
              " 64897      417.0\n",
              "            ...  \n",
              " 154929    9202.0\n",
              " 154930    9330.0\n",
              " 154931    9986.0\n",
              " 154933    7873.0\n",
              " 154934    9931.0\n",
              " Name: Confirmed, Length: 280, dtype: float64,\n",
              " array([[  1., -94., -70., ..., -90., -69.,  25.],\n",
              "        [  1., -92., -69., ..., -92., -85.,  36.],\n",
              "        [  1., -93., -70., ..., -92., -85.,  37.],\n",
              "        ...,\n",
              "        [  1., -85., -51., ..., -72., -46.,  20.],\n",
              "        [  1., -61.,  -2., ..., -57., -57.,  21.],\n",
              "        [  1., -63.,   2., ..., -52., -51.,  18.]]))"
            ]
          },
          "metadata": {
            "tags": []
          },
          "execution_count": 52
        }
      ]
    },
    {
      "cell_type": "code",
      "metadata": {
        "colab": {
          "base_uri": "https://localhost:8080/"
        },
        "id": "2SKNUVZ00IVR",
        "outputId": "23dff49e-a156-4c46-e5d8-ab57b51b8143"
      },
      "source": [
        "(ytrain < 0).sum()"
      ],
      "execution_count": 55,
      "outputs": [
        {
          "output_type": "execute_result",
          "data": {
            "text/plain": [
              "4"
            ]
          },
          "metadata": {
            "tags": []
          },
          "execution_count": 55
        }
      ]
    },
    {
      "cell_type": "code",
      "metadata": {
        "id": "WULxqhhn0thk"
      },
      "source": [
        ""
      ],
      "execution_count": null,
      "outputs": []
    }
  ]
}
