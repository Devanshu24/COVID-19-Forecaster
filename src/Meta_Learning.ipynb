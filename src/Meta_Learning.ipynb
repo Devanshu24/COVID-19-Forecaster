{
  "nbformat": 4,
  "nbformat_minor": 0,
  "metadata": {
    "accelerator": "GPU",
    "colab": {
      "name": "Meta Learning.ipynb",
      "provenance": [],
      "collapsed_sections": [
        "OyHijlSoBQmJ",
        "kYmIoW0OKHb0"
      ],
      "toc_visible": true
    },
    "kernelspec": {
      "display_name": "Python 3",
      "name": "python3"
    },
    "language_info": {
      "name": "python"
    },
    "widgets": {
      "application/vnd.jupyter.widget-state+json": {
        "db112e16bd864f8c89c25a6df3453b5b": {
          "model_module": "@jupyter-widgets/controls",
          "model_name": "HBoxModel",
          "state": {
            "_dom_classes": [],
            "_model_module": "@jupyter-widgets/controls",
            "_model_module_version": "1.5.0",
            "_model_name": "HBoxModel",
            "_view_count": null,
            "_view_module": "@jupyter-widgets/controls",
            "_view_module_version": "1.5.0",
            "_view_name": "HBoxView",
            "box_style": "",
            "children": [
              "IPY_MODEL_6a293152151a4688816c65d5427da4a4",
              "IPY_MODEL_6e42f6cc0dfc495599beac64f8f19322"
            ],
            "layout": "IPY_MODEL_09071b6e95074ad99da30b326f60c58f"
          }
        },
        "6a293152151a4688816c65d5427da4a4": {
          "model_module": "@jupyter-widgets/controls",
          "model_name": "FloatProgressModel",
          "state": {
            "_dom_classes": [],
            "_model_module": "@jupyter-widgets/controls",
            "_model_module_version": "1.5.0",
            "_model_name": "FloatProgressModel",
            "_view_count": null,
            "_view_module": "@jupyter-widgets/controls",
            "_view_module_version": "1.5.0",
            "_view_name": "ProgressView",
            "bar_style": "success",
            "description": "100%",
            "description_tooltip": null,
            "layout": "IPY_MODEL_92190511dc044e81b11e11122fa25877",
            "max": 457,
            "min": 0,
            "orientation": "horizontal",
            "style": "IPY_MODEL_f6731a357275415581a698ad33415df0",
            "value": 457
          }
        },
        "6e42f6cc0dfc495599beac64f8f19322": {
          "model_module": "@jupyter-widgets/controls",
          "model_name": "HTMLModel",
          "state": {
            "_dom_classes": [],
            "_model_module": "@jupyter-widgets/controls",
            "_model_module_version": "1.5.0",
            "_model_name": "HTMLModel",
            "_view_count": null,
            "_view_module": "@jupyter-widgets/controls",
            "_view_module_version": "1.5.0",
            "_view_name": "HTMLView",
            "description": "",
            "description_tooltip": null,
            "layout": "IPY_MODEL_aaa4f8d14fc7414ebf10ddcaa524509a",
            "placeholder": "​",
            "style": "IPY_MODEL_3f5c91d77d3d4d54ba589aa7a9dcd573",
            "value": " 457/457 [06:17&lt;00:00,  1.21it/s]"
          }
        },
        "09071b6e95074ad99da30b326f60c58f": {
          "model_module": "@jupyter-widgets/base",
          "model_name": "LayoutModel",
          "state": {
            "_model_module": "@jupyter-widgets/base",
            "_model_module_version": "1.2.0",
            "_model_name": "LayoutModel",
            "_view_count": null,
            "_view_module": "@jupyter-widgets/base",
            "_view_module_version": "1.2.0",
            "_view_name": "LayoutView",
            "align_content": null,
            "align_items": null,
            "align_self": null,
            "border": null,
            "bottom": null,
            "display": null,
            "flex": null,
            "flex_flow": null,
            "grid_area": null,
            "grid_auto_columns": null,
            "grid_auto_flow": null,
            "grid_auto_rows": null,
            "grid_column": null,
            "grid_gap": null,
            "grid_row": null,
            "grid_template_areas": null,
            "grid_template_columns": null,
            "grid_template_rows": null,
            "height": null,
            "justify_content": null,
            "justify_items": null,
            "left": null,
            "margin": null,
            "max_height": null,
            "max_width": null,
            "min_height": null,
            "min_width": null,
            "object_fit": null,
            "object_position": null,
            "order": null,
            "overflow": null,
            "overflow_x": null,
            "overflow_y": null,
            "padding": null,
            "right": null,
            "top": null,
            "visibility": null,
            "width": null
          }
        },
        "92190511dc044e81b11e11122fa25877": {
          "model_module": "@jupyter-widgets/base",
          "model_name": "LayoutModel",
          "state": {
            "_model_module": "@jupyter-widgets/base",
            "_model_module_version": "1.2.0",
            "_model_name": "LayoutModel",
            "_view_count": null,
            "_view_module": "@jupyter-widgets/base",
            "_view_module_version": "1.2.0",
            "_view_name": "LayoutView",
            "align_content": null,
            "align_items": null,
            "align_self": null,
            "border": null,
            "bottom": null,
            "display": null,
            "flex": null,
            "flex_flow": null,
            "grid_area": null,
            "grid_auto_columns": null,
            "grid_auto_flow": null,
            "grid_auto_rows": null,
            "grid_column": null,
            "grid_gap": null,
            "grid_row": null,
            "grid_template_areas": null,
            "grid_template_columns": null,
            "grid_template_rows": null,
            "height": null,
            "justify_content": null,
            "justify_items": null,
            "left": null,
            "margin": null,
            "max_height": null,
            "max_width": null,
            "min_height": null,
            "min_width": null,
            "object_fit": null,
            "object_position": null,
            "order": null,
            "overflow": null,
            "overflow_x": null,
            "overflow_y": null,
            "padding": null,
            "right": null,
            "top": null,
            "visibility": null,
            "width": null
          }
        },
        "f6731a357275415581a698ad33415df0": {
          "model_module": "@jupyter-widgets/controls",
          "model_name": "ProgressStyleModel",
          "state": {
            "_model_module": "@jupyter-widgets/controls",
            "_model_module_version": "1.5.0",
            "_model_name": "ProgressStyleModel",
            "_view_count": null,
            "_view_module": "@jupyter-widgets/base",
            "_view_module_version": "1.2.0",
            "_view_name": "StyleView",
            "bar_color": null,
            "description_width": "initial"
          }
        },
        "aaa4f8d14fc7414ebf10ddcaa524509a": {
          "model_module": "@jupyter-widgets/base",
          "model_name": "LayoutModel",
          "state": {
            "_model_module": "@jupyter-widgets/base",
            "_model_module_version": "1.2.0",
            "_model_name": "LayoutModel",
            "_view_count": null,
            "_view_module": "@jupyter-widgets/base",
            "_view_module_version": "1.2.0",
            "_view_name": "LayoutView",
            "align_content": null,
            "align_items": null,
            "align_self": null,
            "border": null,
            "bottom": null,
            "display": null,
            "flex": null,
            "flex_flow": null,
            "grid_area": null,
            "grid_auto_columns": null,
            "grid_auto_flow": null,
            "grid_auto_rows": null,
            "grid_column": null,
            "grid_gap": null,
            "grid_row": null,
            "grid_template_areas": null,
            "grid_template_columns": null,
            "grid_template_rows": null,
            "height": null,
            "justify_content": null,
            "justify_items": null,
            "left": null,
            "margin": null,
            "max_height": null,
            "max_width": null,
            "min_height": null,
            "min_width": null,
            "object_fit": null,
            "object_position": null,
            "order": null,
            "overflow": null,
            "overflow_x": null,
            "overflow_y": null,
            "padding": null,
            "right": null,
            "top": null,
            "visibility": null,
            "width": null
          }
        },
        "3f5c91d77d3d4d54ba589aa7a9dcd573": {
          "model_module": "@jupyter-widgets/controls",
          "model_name": "DescriptionStyleModel",
          "state": {
            "_model_module": "@jupyter-widgets/controls",
            "_model_module_version": "1.5.0",
            "_model_name": "DescriptionStyleModel",
            "_view_count": null,
            "_view_module": "@jupyter-widgets/base",
            "_view_module_version": "1.2.0",
            "_view_name": "StyleView",
            "description_width": ""
          }
        },
        "be483dcd287648dd8af06b3c9139e641": {
          "model_module": "@jupyter-widgets/controls",
          "model_name": "HBoxModel",
          "state": {
            "_dom_classes": [],
            "_model_module": "@jupyter-widgets/controls",
            "_model_module_version": "1.5.0",
            "_model_name": "HBoxModel",
            "_view_count": null,
            "_view_module": "@jupyter-widgets/controls",
            "_view_module_version": "1.5.0",
            "_view_name": "HBoxView",
            "box_style": "",
            "children": [
              "IPY_MODEL_1636aa12146644e9a9befafedb3b831e",
              "IPY_MODEL_02631a459f944456a49b8c8e8558a29d"
            ],
            "layout": "IPY_MODEL_3eb1964fc99b4edf8f4d6deb91fb6d38"
          }
        },
        "1636aa12146644e9a9befafedb3b831e": {
          "model_module": "@jupyter-widgets/controls",
          "model_name": "FloatProgressModel",
          "state": {
            "_dom_classes": [],
            "_model_module": "@jupyter-widgets/controls",
            "_model_module_version": "1.5.0",
            "_model_name": "FloatProgressModel",
            "_view_count": null,
            "_view_module": "@jupyter-widgets/controls",
            "_view_module_version": "1.5.0",
            "_view_name": "ProgressView",
            "bar_style": "success",
            "description": "100%",
            "description_tooltip": null,
            "layout": "IPY_MODEL_86d95d15603349598bc80be0c04c5e53",
            "max": 124,
            "min": 0,
            "orientation": "horizontal",
            "style": "IPY_MODEL_cec9901f7714497886421c8e986b480c",
            "value": 124
          }
        },
        "02631a459f944456a49b8c8e8558a29d": {
          "model_module": "@jupyter-widgets/controls",
          "model_name": "HTMLModel",
          "state": {
            "_dom_classes": [],
            "_model_module": "@jupyter-widgets/controls",
            "_model_module_version": "1.5.0",
            "_model_name": "HTMLModel",
            "_view_count": null,
            "_view_module": "@jupyter-widgets/controls",
            "_view_module_version": "1.5.0",
            "_view_name": "HTMLView",
            "description": "",
            "description_tooltip": null,
            "layout": "IPY_MODEL_bff430bddd424574a4e62f4f1554349e",
            "placeholder": "​",
            "style": "IPY_MODEL_74f868d913044038810e58a6f6aebbef",
            "value": " 124/124 [00:08&lt;00:00, 14.64it/s]"
          }
        },
        "3eb1964fc99b4edf8f4d6deb91fb6d38": {
          "model_module": "@jupyter-widgets/base",
          "model_name": "LayoutModel",
          "state": {
            "_model_module": "@jupyter-widgets/base",
            "_model_module_version": "1.2.0",
            "_model_name": "LayoutModel",
            "_view_count": null,
            "_view_module": "@jupyter-widgets/base",
            "_view_module_version": "1.2.0",
            "_view_name": "LayoutView",
            "align_content": null,
            "align_items": null,
            "align_self": null,
            "border": null,
            "bottom": null,
            "display": null,
            "flex": null,
            "flex_flow": null,
            "grid_area": null,
            "grid_auto_columns": null,
            "grid_auto_flow": null,
            "grid_auto_rows": null,
            "grid_column": null,
            "grid_gap": null,
            "grid_row": null,
            "grid_template_areas": null,
            "grid_template_columns": null,
            "grid_template_rows": null,
            "height": null,
            "justify_content": null,
            "justify_items": null,
            "left": null,
            "margin": null,
            "max_height": null,
            "max_width": null,
            "min_height": null,
            "min_width": null,
            "object_fit": null,
            "object_position": null,
            "order": null,
            "overflow": null,
            "overflow_x": null,
            "overflow_y": null,
            "padding": null,
            "right": null,
            "top": null,
            "visibility": null,
            "width": null
          }
        },
        "86d95d15603349598bc80be0c04c5e53": {
          "model_module": "@jupyter-widgets/base",
          "model_name": "LayoutModel",
          "state": {
            "_model_module": "@jupyter-widgets/base",
            "_model_module_version": "1.2.0",
            "_model_name": "LayoutModel",
            "_view_count": null,
            "_view_module": "@jupyter-widgets/base",
            "_view_module_version": "1.2.0",
            "_view_name": "LayoutView",
            "align_content": null,
            "align_items": null,
            "align_self": null,
            "border": null,
            "bottom": null,
            "display": null,
            "flex": null,
            "flex_flow": null,
            "grid_area": null,
            "grid_auto_columns": null,
            "grid_auto_flow": null,
            "grid_auto_rows": null,
            "grid_column": null,
            "grid_gap": null,
            "grid_row": null,
            "grid_template_areas": null,
            "grid_template_columns": null,
            "grid_template_rows": null,
            "height": null,
            "justify_content": null,
            "justify_items": null,
            "left": null,
            "margin": null,
            "max_height": null,
            "max_width": null,
            "min_height": null,
            "min_width": null,
            "object_fit": null,
            "object_position": null,
            "order": null,
            "overflow": null,
            "overflow_x": null,
            "overflow_y": null,
            "padding": null,
            "right": null,
            "top": null,
            "visibility": null,
            "width": null
          }
        },
        "cec9901f7714497886421c8e986b480c": {
          "model_module": "@jupyter-widgets/controls",
          "model_name": "ProgressStyleModel",
          "state": {
            "_model_module": "@jupyter-widgets/controls",
            "_model_module_version": "1.5.0",
            "_model_name": "ProgressStyleModel",
            "_view_count": null,
            "_view_module": "@jupyter-widgets/base",
            "_view_module_version": "1.2.0",
            "_view_name": "StyleView",
            "bar_color": null,
            "description_width": "initial"
          }
        },
        "bff430bddd424574a4e62f4f1554349e": {
          "model_module": "@jupyter-widgets/base",
          "model_name": "LayoutModel",
          "state": {
            "_model_module": "@jupyter-widgets/base",
            "_model_module_version": "1.2.0",
            "_model_name": "LayoutModel",
            "_view_count": null,
            "_view_module": "@jupyter-widgets/base",
            "_view_module_version": "1.2.0",
            "_view_name": "LayoutView",
            "align_content": null,
            "align_items": null,
            "align_self": null,
            "border": null,
            "bottom": null,
            "display": null,
            "flex": null,
            "flex_flow": null,
            "grid_area": null,
            "grid_auto_columns": null,
            "grid_auto_flow": null,
            "grid_auto_rows": null,
            "grid_column": null,
            "grid_gap": null,
            "grid_row": null,
            "grid_template_areas": null,
            "grid_template_columns": null,
            "grid_template_rows": null,
            "height": null,
            "justify_content": null,
            "justify_items": null,
            "left": null,
            "margin": null,
            "max_height": null,
            "max_width": null,
            "min_height": null,
            "min_width": null,
            "object_fit": null,
            "object_position": null,
            "order": null,
            "overflow": null,
            "overflow_x": null,
            "overflow_y": null,
            "padding": null,
            "right": null,
            "top": null,
            "visibility": null,
            "width": null
          }
        },
        "74f868d913044038810e58a6f6aebbef": {
          "model_module": "@jupyter-widgets/controls",
          "model_name": "DescriptionStyleModel",
          "state": {
            "_model_module": "@jupyter-widgets/controls",
            "_model_module_version": "1.5.0",
            "_model_name": "DescriptionStyleModel",
            "_view_count": null,
            "_view_module": "@jupyter-widgets/base",
            "_view_module_version": "1.2.0",
            "_view_name": "StyleView",
            "description_width": ""
          }
        },
        "892ec998c4e647e782aa1dafb42199de": {
          "model_module": "@jupyter-widgets/controls",
          "model_name": "VBoxModel",
          "state": {
            "_dom_classes": [],
            "_model_module": "@jupyter-widgets/controls",
            "_model_module_version": "1.5.0",
            "_model_name": "VBoxModel",
            "_view_count": null,
            "_view_module": "@jupyter-widgets/controls",
            "_view_module_version": "1.5.0",
            "_view_name": "VBoxView",
            "box_style": "",
            "children": [
              "IPY_MODEL_d65528ab446c4513a69d8142df9ef1cb",
              "IPY_MODEL_0dd3dcb86943455daec1bbd80b6c8c2e"
            ],
            "layout": "IPY_MODEL_06e02d140372499eb32840ba16bd5aae"
          }
        },
        "d65528ab446c4513a69d8142df9ef1cb": {
          "model_module": "@jupyter-widgets/controls",
          "model_name": "LabelModel",
          "state": {
            "_dom_classes": [],
            "_model_module": "@jupyter-widgets/controls",
            "_model_module_version": "1.5.0",
            "_model_name": "LabelModel",
            "_view_count": null,
            "_view_module": "@jupyter-widgets/controls",
            "_view_module_version": "1.5.0",
            "_view_name": "LabelView",
            "description": "",
            "description_tooltip": null,
            "layout": "IPY_MODEL_4f81603414a1488bb0bddac154b0cc1a",
            "placeholder": "​",
            "style": "IPY_MODEL_89282c6db02a4e2092a4864672a60170",
            "value": " 1.62MB of 1.62MB uploaded (0.00MB deduped)\r"
          }
        },
        "0dd3dcb86943455daec1bbd80b6c8c2e": {
          "model_module": "@jupyter-widgets/controls",
          "model_name": "FloatProgressModel",
          "state": {
            "_dom_classes": [],
            "_model_module": "@jupyter-widgets/controls",
            "_model_module_version": "1.5.0",
            "_model_name": "FloatProgressModel",
            "_view_count": null,
            "_view_module": "@jupyter-widgets/controls",
            "_view_module_version": "1.5.0",
            "_view_name": "ProgressView",
            "bar_style": "",
            "description": "",
            "description_tooltip": null,
            "layout": "IPY_MODEL_19d8f091229e45a1a312c8cfc54e249f",
            "max": 1,
            "min": 0,
            "orientation": "horizontal",
            "style": "IPY_MODEL_33d1fe83872044929641dbc848a151be",
            "value": 1
          }
        },
        "06e02d140372499eb32840ba16bd5aae": {
          "model_module": "@jupyter-widgets/base",
          "model_name": "LayoutModel",
          "state": {
            "_model_module": "@jupyter-widgets/base",
            "_model_module_version": "1.2.0",
            "_model_name": "LayoutModel",
            "_view_count": null,
            "_view_module": "@jupyter-widgets/base",
            "_view_module_version": "1.2.0",
            "_view_name": "LayoutView",
            "align_content": null,
            "align_items": null,
            "align_self": null,
            "border": null,
            "bottom": null,
            "display": null,
            "flex": null,
            "flex_flow": null,
            "grid_area": null,
            "grid_auto_columns": null,
            "grid_auto_flow": null,
            "grid_auto_rows": null,
            "grid_column": null,
            "grid_gap": null,
            "grid_row": null,
            "grid_template_areas": null,
            "grid_template_columns": null,
            "grid_template_rows": null,
            "height": null,
            "justify_content": null,
            "justify_items": null,
            "left": null,
            "margin": null,
            "max_height": null,
            "max_width": null,
            "min_height": null,
            "min_width": null,
            "object_fit": null,
            "object_position": null,
            "order": null,
            "overflow": null,
            "overflow_x": null,
            "overflow_y": null,
            "padding": null,
            "right": null,
            "top": null,
            "visibility": null,
            "width": null
          }
        },
        "4f81603414a1488bb0bddac154b0cc1a": {
          "model_module": "@jupyter-widgets/base",
          "model_name": "LayoutModel",
          "state": {
            "_model_module": "@jupyter-widgets/base",
            "_model_module_version": "1.2.0",
            "_model_name": "LayoutModel",
            "_view_count": null,
            "_view_module": "@jupyter-widgets/base",
            "_view_module_version": "1.2.0",
            "_view_name": "LayoutView",
            "align_content": null,
            "align_items": null,
            "align_self": null,
            "border": null,
            "bottom": null,
            "display": null,
            "flex": null,
            "flex_flow": null,
            "grid_area": null,
            "grid_auto_columns": null,
            "grid_auto_flow": null,
            "grid_auto_rows": null,
            "grid_column": null,
            "grid_gap": null,
            "grid_row": null,
            "grid_template_areas": null,
            "grid_template_columns": null,
            "grid_template_rows": null,
            "height": null,
            "justify_content": null,
            "justify_items": null,
            "left": null,
            "margin": null,
            "max_height": null,
            "max_width": null,
            "min_height": null,
            "min_width": null,
            "object_fit": null,
            "object_position": null,
            "order": null,
            "overflow": null,
            "overflow_x": null,
            "overflow_y": null,
            "padding": null,
            "right": null,
            "top": null,
            "visibility": null,
            "width": null
          }
        },
        "89282c6db02a4e2092a4864672a60170": {
          "model_module": "@jupyter-widgets/controls",
          "model_name": "DescriptionStyleModel",
          "state": {
            "_model_module": "@jupyter-widgets/controls",
            "_model_module_version": "1.5.0",
            "_model_name": "DescriptionStyleModel",
            "_view_count": null,
            "_view_module": "@jupyter-widgets/base",
            "_view_module_version": "1.2.0",
            "_view_name": "StyleView",
            "description_width": ""
          }
        },
        "19d8f091229e45a1a312c8cfc54e249f": {
          "model_module": "@jupyter-widgets/base",
          "model_name": "LayoutModel",
          "state": {
            "_model_module": "@jupyter-widgets/base",
            "_model_module_version": "1.2.0",
            "_model_name": "LayoutModel",
            "_view_count": null,
            "_view_module": "@jupyter-widgets/base",
            "_view_module_version": "1.2.0",
            "_view_name": "LayoutView",
            "align_content": null,
            "align_items": null,
            "align_self": null,
            "border": null,
            "bottom": null,
            "display": null,
            "flex": null,
            "flex_flow": null,
            "grid_area": null,
            "grid_auto_columns": null,
            "grid_auto_flow": null,
            "grid_auto_rows": null,
            "grid_column": null,
            "grid_gap": null,
            "grid_row": null,
            "grid_template_areas": null,
            "grid_template_columns": null,
            "grid_template_rows": null,
            "height": null,
            "justify_content": null,
            "justify_items": null,
            "left": null,
            "margin": null,
            "max_height": null,
            "max_width": null,
            "min_height": null,
            "min_width": null,
            "object_fit": null,
            "object_position": null,
            "order": null,
            "overflow": null,
            "overflow_x": null,
            "overflow_y": null,
            "padding": null,
            "right": null,
            "top": null,
            "visibility": null,
            "width": null
          }
        },
        "33d1fe83872044929641dbc848a151be": {
          "model_module": "@jupyter-widgets/controls",
          "model_name": "ProgressStyleModel",
          "state": {
            "_model_module": "@jupyter-widgets/controls",
            "_model_module_version": "1.5.0",
            "_model_name": "ProgressStyleModel",
            "_view_count": null,
            "_view_module": "@jupyter-widgets/base",
            "_view_module_version": "1.2.0",
            "_view_name": "StyleView",
            "bar_color": null,
            "description_width": ""
          }
        },
        "5a5bad62d5df42d4bc6a9ccc397577fe": {
          "model_module": "@jupyter-widgets/controls",
          "model_name": "VBoxModel",
          "state": {
            "_dom_classes": [],
            "_model_module": "@jupyter-widgets/controls",
            "_model_module_version": "1.5.0",
            "_model_name": "VBoxModel",
            "_view_count": null,
            "_view_module": "@jupyter-widgets/controls",
            "_view_module_version": "1.5.0",
            "_view_name": "VBoxView",
            "box_style": "",
            "children": [
              "IPY_MODEL_37f147c16c5b4c948b8745d87616ae11",
              "IPY_MODEL_91ef047d54704a28b136d01e6103b3ed"
            ],
            "layout": "IPY_MODEL_60c5dc6c2aad40de8dd95e9b6ff2200e"
          }
        },
        "37f147c16c5b4c948b8745d87616ae11": {
          "model_module": "@jupyter-widgets/controls",
          "model_name": "LabelModel",
          "state": {
            "_dom_classes": [],
            "_model_module": "@jupyter-widgets/controls",
            "_model_module_version": "1.5.0",
            "_model_name": "LabelModel",
            "_view_count": null,
            "_view_module": "@jupyter-widgets/controls",
            "_view_module_version": "1.5.0",
            "_view_name": "LabelView",
            "description": "",
            "description_tooltip": null,
            "layout": "IPY_MODEL_db1cb62e07bb4acbbb275c3db8eba332",
            "placeholder": "​",
            "style": "IPY_MODEL_43bc2a87a3af4a998a33f948440c718b",
            "value": " 0.01MB of 0.01MB uploaded (0.00MB deduped)\r"
          }
        },
        "91ef047d54704a28b136d01e6103b3ed": {
          "model_module": "@jupyter-widgets/controls",
          "model_name": "FloatProgressModel",
          "state": {
            "_dom_classes": [],
            "_model_module": "@jupyter-widgets/controls",
            "_model_module_version": "1.5.0",
            "_model_name": "FloatProgressModel",
            "_view_count": null,
            "_view_module": "@jupyter-widgets/controls",
            "_view_module_version": "1.5.0",
            "_view_name": "ProgressView",
            "bar_style": "",
            "description": "",
            "description_tooltip": null,
            "layout": "IPY_MODEL_70e51daf93fd49a9a1c8015a9b400e4a",
            "max": 1,
            "min": 0,
            "orientation": "horizontal",
            "style": "IPY_MODEL_ca86bdaeadae468a8983940c9ebd6066",
            "value": 1
          }
        },
        "60c5dc6c2aad40de8dd95e9b6ff2200e": {
          "model_module": "@jupyter-widgets/base",
          "model_name": "LayoutModel",
          "state": {
            "_model_module": "@jupyter-widgets/base",
            "_model_module_version": "1.2.0",
            "_model_name": "LayoutModel",
            "_view_count": null,
            "_view_module": "@jupyter-widgets/base",
            "_view_module_version": "1.2.0",
            "_view_name": "LayoutView",
            "align_content": null,
            "align_items": null,
            "align_self": null,
            "border": null,
            "bottom": null,
            "display": null,
            "flex": null,
            "flex_flow": null,
            "grid_area": null,
            "grid_auto_columns": null,
            "grid_auto_flow": null,
            "grid_auto_rows": null,
            "grid_column": null,
            "grid_gap": null,
            "grid_row": null,
            "grid_template_areas": null,
            "grid_template_columns": null,
            "grid_template_rows": null,
            "height": null,
            "justify_content": null,
            "justify_items": null,
            "left": null,
            "margin": null,
            "max_height": null,
            "max_width": null,
            "min_height": null,
            "min_width": null,
            "object_fit": null,
            "object_position": null,
            "order": null,
            "overflow": null,
            "overflow_x": null,
            "overflow_y": null,
            "padding": null,
            "right": null,
            "top": null,
            "visibility": null,
            "width": null
          }
        },
        "db1cb62e07bb4acbbb275c3db8eba332": {
          "model_module": "@jupyter-widgets/base",
          "model_name": "LayoutModel",
          "state": {
            "_model_module": "@jupyter-widgets/base",
            "_model_module_version": "1.2.0",
            "_model_name": "LayoutModel",
            "_view_count": null,
            "_view_module": "@jupyter-widgets/base",
            "_view_module_version": "1.2.0",
            "_view_name": "LayoutView",
            "align_content": null,
            "align_items": null,
            "align_self": null,
            "border": null,
            "bottom": null,
            "display": null,
            "flex": null,
            "flex_flow": null,
            "grid_area": null,
            "grid_auto_columns": null,
            "grid_auto_flow": null,
            "grid_auto_rows": null,
            "grid_column": null,
            "grid_gap": null,
            "grid_row": null,
            "grid_template_areas": null,
            "grid_template_columns": null,
            "grid_template_rows": null,
            "height": null,
            "justify_content": null,
            "justify_items": null,
            "left": null,
            "margin": null,
            "max_height": null,
            "max_width": null,
            "min_height": null,
            "min_width": null,
            "object_fit": null,
            "object_position": null,
            "order": null,
            "overflow": null,
            "overflow_x": null,
            "overflow_y": null,
            "padding": null,
            "right": null,
            "top": null,
            "visibility": null,
            "width": null
          }
        },
        "43bc2a87a3af4a998a33f948440c718b": {
          "model_module": "@jupyter-widgets/controls",
          "model_name": "DescriptionStyleModel",
          "state": {
            "_model_module": "@jupyter-widgets/controls",
            "_model_module_version": "1.5.0",
            "_model_name": "DescriptionStyleModel",
            "_view_count": null,
            "_view_module": "@jupyter-widgets/base",
            "_view_module_version": "1.2.0",
            "_view_name": "StyleView",
            "description_width": ""
          }
        },
        "70e51daf93fd49a9a1c8015a9b400e4a": {
          "model_module": "@jupyter-widgets/base",
          "model_name": "LayoutModel",
          "state": {
            "_model_module": "@jupyter-widgets/base",
            "_model_module_version": "1.2.0",
            "_model_name": "LayoutModel",
            "_view_count": null,
            "_view_module": "@jupyter-widgets/base",
            "_view_module_version": "1.2.0",
            "_view_name": "LayoutView",
            "align_content": null,
            "align_items": null,
            "align_self": null,
            "border": null,
            "bottom": null,
            "display": null,
            "flex": null,
            "flex_flow": null,
            "grid_area": null,
            "grid_auto_columns": null,
            "grid_auto_flow": null,
            "grid_auto_rows": null,
            "grid_column": null,
            "grid_gap": null,
            "grid_row": null,
            "grid_template_areas": null,
            "grid_template_columns": null,
            "grid_template_rows": null,
            "height": null,
            "justify_content": null,
            "justify_items": null,
            "left": null,
            "margin": null,
            "max_height": null,
            "max_width": null,
            "min_height": null,
            "min_width": null,
            "object_fit": null,
            "object_position": null,
            "order": null,
            "overflow": null,
            "overflow_x": null,
            "overflow_y": null,
            "padding": null,
            "right": null,
            "top": null,
            "visibility": null,
            "width": null
          }
        },
        "ca86bdaeadae468a8983940c9ebd6066": {
          "model_module": "@jupyter-widgets/controls",
          "model_name": "ProgressStyleModel",
          "state": {
            "_model_module": "@jupyter-widgets/controls",
            "_model_module_version": "1.5.0",
            "_model_name": "ProgressStyleModel",
            "_view_count": null,
            "_view_module": "@jupyter-widgets/base",
            "_view_module_version": "1.2.0",
            "_view_name": "StyleView",
            "bar_color": null,
            "description_width": ""
          }
        }
      }
    }
  },
  "cells": [
    {
      "cell_type": "markdown",
      "metadata": {
        "id": "y-CcvpaHGe7u"
      },
      "source": [
        "# Imports"
      ]
    },
    {
      "cell_type": "code",
      "metadata": {
        "colab": {
          "base_uri": "https://localhost:8080/"
        },
        "id": "MC4-dBGzSH13",
        "outputId": "b978cc86-89c8-4743-8795-1f30380c0186"
      },
      "source": [
        "import torch\n",
        "import torch.nn as nn\n",
        "import torch.optim as optim\n",
        "import pandas as pd\n",
        "import numpy as np\n",
        "import matplotlib.pyplot as plt\n",
        "import seaborn as sns; sns.set()\n",
        "from sklearn.metrics import r2_score, mean_squared_error, mean_absolute_error\n",
        "from sklearn.preprocessing import MinMaxScaler, StandardScaler\n",
        "from sklearn.model_selection import TimeSeriesSplit\n",
        "%matplotlib inline\n",
        "\n",
        "!wget https://covid.ourworldindata.org/data/owid-covid-data.csv\n",
        "# import wandb"
      ],
      "execution_count": null,
      "outputs": [
        {
          "output_type": "stream",
          "text": [
            "--2021-04-30 08:42:09--  https://covid.ourworldindata.org/data/owid-covid-data.csv\n",
            "Resolving covid.ourworldindata.org (covid.ourworldindata.org)... 104.21.233.138, 104.21.233.137, 2606:4700:3038::6815:e98a, ...\n",
            "Connecting to covid.ourworldindata.org (covid.ourworldindata.org)|104.21.233.138|:443... connected.\n",
            "HTTP request sent, awaiting response... 200 OK\n",
            "Length: unspecified [text/csv]\n",
            "Saving to: ‘owid-covid-data.csv’\n",
            "\n",
            "\rowid-covid-data.csv     [<=>                 ]       0  --.-KB/s               \rowid-covid-data.csv     [ <=>                ]  20.99M  --.-KB/s    in 0.1s    \n",
            "\n",
            "2021-04-30 08:42:09 (171 MB/s) - ‘owid-covid-data.csv’ saved [22014714]\n",
            "\n"
          ],
          "name": "stdout"
        }
      ]
    },
    {
      "cell_type": "markdown",
      "metadata": {
        "id": "g_feE6q4Ge7x"
      },
      "source": [
        "# Utils"
      ]
    },
    {
      "cell_type": "code",
      "metadata": {
        "id": "C-NL02dZc29y"
      },
      "source": [
        "def compare(dataframe, fields):\n",
        "    fig, ax = plt.subplots(figsize=(10,10))\n",
        "    for f in fields:\n",
        "        ax.plot(dataframe[\"Date\"], dataframe[f], label=f)\n",
        "    ax.legend(loc=\"best\")"
      ],
      "execution_count": null,
      "outputs": []
    },
    {
      "cell_type": "code",
      "metadata": {
        "id": "XT1sl8ACGe7x"
      },
      "source": [
        "def mobility_check(df, where, what, everything=False, save=False):\n",
        "    fig, ax = plt.subplots(figsize=(10,10))\n",
        "    from sklearn.preprocessing import StandardScaler\n",
        "    sc = StandardScaler()\n",
        "    ax.plot(df[df[\"District\"]==where][\"Date\"], sc.fit_transform(df[df[\"State\"]==where][\"new cases\"].to_numpy().reshape(-1, 1)), label=f\"Cases @ {where}\")\n",
        "    sc = StandardScaler()\n",
        "    ll = ['retail_and_recreation_percent_change_from_baseline',\n",
        "       'grocery_and_pharmacy_percent_change_from_baseline',\n",
        "       'parks_percent_change_from_baseline',\n",
        "       'transit_stations_percent_change_from_baseline',\n",
        "       'workplaces_percent_change_from_baseline',\n",
        "       'residential_percent_change_from_baseline',]\n",
        "    if everything:\n",
        "        for l in ll:\n",
        "            ax.plot(df[df[\"District\"]==where][\"Date\"], sc.fit_transform(df[df[\"State\"]==where][l].to_numpy().reshape(-1, 1)), label=l)\n",
        "    else:\n",
        "        ax.plot(df[df[\"District\"]==where][\"Date\"], sc.fit_transform(df[df[\"State\"]==where][what].to_numpy().reshape(-1, 1)), label=what)\n",
        "    ax.legend(loc=\"best\")\n",
        "    if save:\n",
        "        plt.savefig(f\"{where},{what if not everything else ''}.png\")"
      ],
      "execution_count": null,
      "outputs": []
    },
    {
      "cell_type": "markdown",
      "metadata": {
        "id": "-djZphFxGe7y"
      },
      "source": [
        "# Data Collection and Analysis"
      ]
    },
    {
      "cell_type": "code",
      "metadata": {
        "colab": {
          "base_uri": "https://localhost:8080/"
        },
        "id": "9UuI7WxCGe7y",
        "outputId": "512507d8-73b5-40c5-ea8b-f012f7432273"
      },
      "source": [
        "df = pd.read_csv(\"district_mobility_cases.csv\")\n",
        "df[\"Date\"]=pd.to_datetime(df[\"Date\"])\n",
        "df.info()\n",
        "df.columns = ['District', 'Date',\n",
        "       'retail_and_recreation_percent_change_from_baseline',\n",
        "       'grocery_and_pharmacy_percent_change_from_baseline',\n",
        "       'parks_percent_change_from_baseline',\n",
        "       'transit_stations_percent_change_from_baseline',\n",
        "       'workplaces_percent_change_from_baseline',\n",
        "       'residential_percent_change_from_baseline', 'State', 'new cases']\n",
        "\n",
        "# df['new cases'].dtype == float"
      ],
      "execution_count": null,
      "outputs": [
        {
          "output_type": "stream",
          "text": [
            "<class 'pandas.core.frame.DataFrame'>\n",
            "RangeIndex: 181658 entries, 0 to 181657\n",
            "Data columns (total 10 columns):\n",
            " #   Column                                              Non-Null Count   Dtype         \n",
            "---  ------                                              --------------   -----         \n",
            " 0   District                                            181658 non-null  object        \n",
            " 1   Date                                                181658 non-null  datetime64[ns]\n",
            " 2   retail_and_recreation_percent_change_from_baseline  167731 non-null  float64       \n",
            " 3   grocery_and_pharmacy_percent_change_from_baseline   154821 non-null  float64       \n",
            " 4   parks_percent_change_from_baseline                  169506 non-null  float64       \n",
            " 5   transit_stations_percent_change_from_baseline       173456 non-null  float64       \n",
            " 6   workplaces_percent_change_from_baseline             180672 non-null  float64       \n",
            " 7   residential_percent_change_from_baseline            172356 non-null  float64       \n",
            " 8   State                                               181658 non-null  object        \n",
            " 9   Confirmed                                           181658 non-null  float64       \n",
            "dtypes: datetime64[ns](1), float64(7), object(2)\n",
            "memory usage: 13.9+ MB\n"
          ],
          "name": "stdout"
        }
      ]
    },
    {
      "cell_type": "code",
      "metadata": {
        "colab": {
          "base_uri": "https://localhost:8080/",
          "height": 235
        },
        "id": "_tsI9gFoGe7z",
        "outputId": "23e7a529-b535-4866-8c66-66e6bad50521"
      },
      "source": [
        "import pandas as pd\n",
        "import numpy as np\n",
        "from scipy.signal import savgol_filter\n",
        "import matplotlib.pyplot as plt\n",
        "import keras\n",
        "\n",
        "def smooth_plot(data, ax=None, *args, **kwargs):\n",
        "    data = smoothen_data(data)\n",
        "    if ax is None:\n",
        "        plt.plot(data, *args, **kwargs)\n",
        "    else:\n",
        "        ax.plot(data, *args, **kwargs)\n",
        "    \n",
        "def smoothen_data(data):\n",
        "    return savgol_filter(data, 51, 3)\n",
        "\n",
        "def smoothen_df(df: pd.DataFrame, cols=None):\n",
        "    if cols is None:\n",
        "        cols = [i for i in df.columns if df[i].dtype==float]\n",
        "        \n",
        "    for i in cols:\n",
        "        df[i] = smoothen_data(df[i])\n",
        "        \n",
        "    return df\n",
        "    \n",
        "\n",
        "colstoplot = ['retail_and_recreation_percent_change_from_baseline',\n",
        "       'grocery_and_pharmacy_percent_change_from_baseline',\n",
        "       'parks_percent_change_from_baseline',\n",
        "       'transit_stations_percent_change_from_baseline',\n",
        "       'workplaces_percent_change_from_baseline',\n",
        "       'residential_percent_change_from_baseline', 'new cases']\n",
        "\n",
        "mumbai = df[df['District']=='Mumbai']\n",
        "scaler = MinMaxScaler()\n",
        "scaled_mumbai = mumbai.copy()\n",
        "\n",
        "scaled_mumbai[colstoplot] =  scaler.fit_transform(scaled_mumbai[colstoplot])\n",
        "\n",
        "scaled_mumbai['Date'] = pd.to_datetime(scaled_mumbai['Date'])\n",
        "scaled_mumbai[\"Date\"] = scaled_mumbai[\"Date\"].dt.year * 30 * 12 + scaled_mumbai[\"Date\"].dt.month * 30 + scaled_mumbai[\"Date\"].dt.day\n",
        "scaled_mumbai[\"Date\"] -= scaled_mumbai[\"Date\"].min()\n",
        "\n",
        "fig, ax = plt.subplots(figsize=(10,10))\n",
        "for col in (colstoplot):\n",
        "    smooth_plot(scaled_mumbai[col].tolist(), ax=ax, label=col)\n",
        "ax.legend()\n",
        "# smooth_plot()\n"
      ],
      "execution_count": null,
      "outputs": [
        {
          "output_type": "error",
          "ename": "NameError",
          "evalue": "ignored",
          "traceback": [
            "\u001b[0;31m---------------------------------------------------------------------------\u001b[0m",
            "\u001b[0;31mNameError\u001b[0m                                 Traceback (most recent call last)",
            "\u001b[0;32m<ipython-input-5-b6dcd9b2b5ed>\u001b[0m in \u001b[0;36m<module>\u001b[0;34m()\u001b[0m\n\u001b[1;32m     32\u001b[0m        'residential_percent_change_from_baseline', 'new cases']\n\u001b[1;32m     33\u001b[0m \u001b[0;34m\u001b[0m\u001b[0m\n\u001b[0;32m---> 34\u001b[0;31m \u001b[0mmumbai\u001b[0m \u001b[0;34m=\u001b[0m \u001b[0mdf\u001b[0m\u001b[0;34m[\u001b[0m\u001b[0mdf\u001b[0m\u001b[0;34m[\u001b[0m\u001b[0;34m'District'\u001b[0m\u001b[0;34m]\u001b[0m\u001b[0;34m==\u001b[0m\u001b[0;34m'Mumbai'\u001b[0m\u001b[0;34m]\u001b[0m\u001b[0;34m\u001b[0m\u001b[0;34m\u001b[0m\u001b[0m\n\u001b[0m\u001b[1;32m     35\u001b[0m \u001b[0mscaler\u001b[0m \u001b[0;34m=\u001b[0m \u001b[0mMinMaxScaler\u001b[0m\u001b[0;34m(\u001b[0m\u001b[0;34m)\u001b[0m\u001b[0;34m\u001b[0m\u001b[0;34m\u001b[0m\u001b[0m\n\u001b[1;32m     36\u001b[0m \u001b[0mscaled_mumbai\u001b[0m \u001b[0;34m=\u001b[0m \u001b[0mmumbai\u001b[0m\u001b[0;34m.\u001b[0m\u001b[0mcopy\u001b[0m\u001b[0;34m(\u001b[0m\u001b[0;34m)\u001b[0m\u001b[0;34m\u001b[0m\u001b[0;34m\u001b[0m\u001b[0m\n",
            "\u001b[0;31mNameError\u001b[0m: name 'df' is not defined"
          ]
        }
      ]
    },
    {
      "cell_type": "code",
      "metadata": {
        "colab": {
          "base_uri": "https://localhost:8080/"
        },
        "id": "yLZfaR4W_Xn3",
        "outputId": "20c567c0-3f1e-45f8-b57a-2b77b7ebd6f4"
      },
      "source": [
        "df = pd.read_csv(\"/content/owid-covid-data.csv\")\n",
        "# df.info()\n",
        "df_relevant = df[['location','new_cases','date','stringency_index']]\n",
        "df_relevant['date'] = pd.to_datetime(df_relevant['date'])\n",
        "# df_relevant\n",
        "# df.info()\n",
        "mobility = pd.read_csv(\"changes-visitors-covid.csv\")\n",
        "mobility.columns = ['location' if x=='Entity' else x for x in mobility.columns]\n",
        "mobility.columns = ['date' if x=='Day' else x for x in mobility.columns]\n",
        "mobility['date'] = pd.to_datetime(mobility['date'])\n",
        "mobility = mobility.dropna()\n",
        "\n",
        "# mobility.info()\n",
        "# mobility\n",
        "\n",
        "df_relevant = pd.merge(mobility, df_relevant, on=['date','location']).dropna()\n",
        "print(df_relevant.columns)\n",
        "df_relevant.info()"
      ],
      "execution_count": null,
      "outputs": [
        {
          "output_type": "stream",
          "text": [
            "Index(['location', 'Code', 'date', 'retail_and_recreation',\n",
            "       'grocery_and_pharmacy', 'residential', 'transit_stations', 'parks',\n",
            "       'workplaces', 'new_cases', 'stringency_index'],\n",
            "      dtype='object')\n",
            "<class 'pandas.core.frame.DataFrame'>\n",
            "Int64Index: 50571 entries, 0 to 51977\n",
            "Data columns (total 11 columns):\n",
            " #   Column                 Non-Null Count  Dtype         \n",
            "---  ------                 --------------  -----         \n",
            " 0   location               50571 non-null  object        \n",
            " 1   Code                   50571 non-null  object        \n",
            " 2   date                   50571 non-null  datetime64[ns]\n",
            " 3   retail_and_recreation  50571 non-null  float64       \n",
            " 4   grocery_and_pharmacy   50571 non-null  float64       \n",
            " 5   residential            50571 non-null  float64       \n",
            " 6   transit_stations       50571 non-null  float64       \n",
            " 7   parks                  50571 non-null  float64       \n",
            " 8   workplaces             50571 non-null  float64       \n",
            " 9   new_cases              50571 non-null  float64       \n",
            " 10  stringency_index       50571 non-null  float64       \n",
            "dtypes: datetime64[ns](1), float64(8), object(2)\n",
            "memory usage: 4.6+ MB\n"
          ],
          "name": "stdout"
        },
        {
          "output_type": "stream",
          "text": [
            "/usr/local/lib/python3.7/dist-packages/ipykernel_launcher.py:4: SettingWithCopyWarning: \n",
            "A value is trying to be set on a copy of a slice from a DataFrame.\n",
            "Try using .loc[row_indexer,col_indexer] = value instead\n",
            "\n",
            "See the caveats in the documentation: https://pandas.pydata.org/pandas-docs/stable/user_guide/indexing.html#returning-a-view-versus-a-copy\n",
            "  after removing the cwd from sys.path.\n"
          ],
          "name": "stderr"
        }
      ]
    },
    {
      "cell_type": "code",
      "metadata": {
        "colab": {
          "base_uri": "https://localhost:8080/",
          "height": 600
        },
        "id": "4ULc2auOmWEu",
        "outputId": "f363c5f2-43d9-4620-c1b9-327237a9a580"
      },
      "source": [
        "# df_relevant.drop('Code',axis=1, inplace=True)\n",
        "df_relevant"
      ],
      "execution_count": null,
      "outputs": [
        {
          "output_type": "execute_result",
          "data": {
            "text/html": [
              "<div>\n",
              "<style scoped>\n",
              "    .dataframe tbody tr th:only-of-type {\n",
              "        vertical-align: middle;\n",
              "    }\n",
              "\n",
              "    .dataframe tbody tr th {\n",
              "        vertical-align: top;\n",
              "    }\n",
              "\n",
              "    .dataframe thead th {\n",
              "        text-align: right;\n",
              "    }\n",
              "</style>\n",
              "<table border=\"1\" class=\"dataframe\">\n",
              "  <thead>\n",
              "    <tr style=\"text-align: right;\">\n",
              "      <th></th>\n",
              "      <th>location</th>\n",
              "      <th>date</th>\n",
              "      <th>retail_and_recreation</th>\n",
              "      <th>grocery_and_pharmacy</th>\n",
              "      <th>residential</th>\n",
              "      <th>transit_stations</th>\n",
              "      <th>parks</th>\n",
              "      <th>workplaces</th>\n",
              "      <th>new_cases</th>\n",
              "      <th>stringency_index</th>\n",
              "    </tr>\n",
              "  </thead>\n",
              "  <tbody>\n",
              "    <tr>\n",
              "      <th>0</th>\n",
              "      <td>Afghanistan</td>\n",
              "      <td>2020-02-24</td>\n",
              "      <td>1.000</td>\n",
              "      <td>6.286</td>\n",
              "      <td>0.286</td>\n",
              "      <td>6.143</td>\n",
              "      <td>2.714</td>\n",
              "      <td>6.000</td>\n",
              "      <td>1.0</td>\n",
              "      <td>8.33</td>\n",
              "    </tr>\n",
              "    <tr>\n",
              "      <th>1</th>\n",
              "      <td>Afghanistan</td>\n",
              "      <td>2020-02-25</td>\n",
              "      <td>0.857</td>\n",
              "      <td>6.286</td>\n",
              "      <td>0.429</td>\n",
              "      <td>6.143</td>\n",
              "      <td>2.429</td>\n",
              "      <td>6.143</td>\n",
              "      <td>0.0</td>\n",
              "      <td>8.33</td>\n",
              "    </tr>\n",
              "    <tr>\n",
              "      <th>2</th>\n",
              "      <td>Afghanistan</td>\n",
              "      <td>2020-02-26</td>\n",
              "      <td>0.857</td>\n",
              "      <td>6.571</td>\n",
              "      <td>0.429</td>\n",
              "      <td>6.571</td>\n",
              "      <td>2.571</td>\n",
              "      <td>6.143</td>\n",
              "      <td>0.0</td>\n",
              "      <td>8.33</td>\n",
              "    </tr>\n",
              "    <tr>\n",
              "      <th>3</th>\n",
              "      <td>Afghanistan</td>\n",
              "      <td>2020-02-27</td>\n",
              "      <td>1.000</td>\n",
              "      <td>6.143</td>\n",
              "      <td>0.571</td>\n",
              "      <td>6.429</td>\n",
              "      <td>2.857</td>\n",
              "      <td>6.286</td>\n",
              "      <td>0.0</td>\n",
              "      <td>8.33</td>\n",
              "    </tr>\n",
              "    <tr>\n",
              "      <th>4</th>\n",
              "      <td>Afghanistan</td>\n",
              "      <td>2020-02-28</td>\n",
              "      <td>0.714</td>\n",
              "      <td>5.571</td>\n",
              "      <td>0.857</td>\n",
              "      <td>6.000</td>\n",
              "      <td>2.429</td>\n",
              "      <td>6.143</td>\n",
              "      <td>0.0</td>\n",
              "      <td>8.33</td>\n",
              "    </tr>\n",
              "    <tr>\n",
              "      <th>...</th>\n",
              "      <td>...</td>\n",
              "      <td>...</td>\n",
              "      <td>...</td>\n",
              "      <td>...</td>\n",
              "      <td>...</td>\n",
              "      <td>...</td>\n",
              "      <td>...</td>\n",
              "      <td>...</td>\n",
              "      <td>...</td>\n",
              "      <td>...</td>\n",
              "    </tr>\n",
              "    <tr>\n",
              "      <th>51973</th>\n",
              "      <td>Zimbabwe</td>\n",
              "      <td>2021-04-19</td>\n",
              "      <td>12.571</td>\n",
              "      <td>37.429</td>\n",
              "      <td>2.143</td>\n",
              "      <td>16.571</td>\n",
              "      <td>22.143</td>\n",
              "      <td>-0.286</td>\n",
              "      <td>108.0</td>\n",
              "      <td>51.85</td>\n",
              "    </tr>\n",
              "    <tr>\n",
              "      <th>51974</th>\n",
              "      <td>Zimbabwe</td>\n",
              "      <td>2021-04-20</td>\n",
              "      <td>12.857</td>\n",
              "      <td>38.286</td>\n",
              "      <td>2.000</td>\n",
              "      <td>17.857</td>\n",
              "      <td>22.857</td>\n",
              "      <td>0.429</td>\n",
              "      <td>16.0</td>\n",
              "      <td>51.85</td>\n",
              "    </tr>\n",
              "    <tr>\n",
              "      <th>51975</th>\n",
              "      <td>Zimbabwe</td>\n",
              "      <td>2021-04-21</td>\n",
              "      <td>13.571</td>\n",
              "      <td>39.143</td>\n",
              "      <td>2.000</td>\n",
              "      <td>19.286</td>\n",
              "      <td>23.286</td>\n",
              "      <td>1.000</td>\n",
              "      <td>105.0</td>\n",
              "      <td>51.85</td>\n",
              "    </tr>\n",
              "    <tr>\n",
              "      <th>51976</th>\n",
              "      <td>Zimbabwe</td>\n",
              "      <td>2021-04-22</td>\n",
              "      <td>14.000</td>\n",
              "      <td>39.857</td>\n",
              "      <td>2.000</td>\n",
              "      <td>20.000</td>\n",
              "      <td>23.857</td>\n",
              "      <td>1.429</td>\n",
              "      <td>38.0</td>\n",
              "      <td>51.85</td>\n",
              "    </tr>\n",
              "    <tr>\n",
              "      <th>51977</th>\n",
              "      <td>Zimbabwe</td>\n",
              "      <td>2021-04-23</td>\n",
              "      <td>14.429</td>\n",
              "      <td>40.143</td>\n",
              "      <td>2.000</td>\n",
              "      <td>20.143</td>\n",
              "      <td>24.571</td>\n",
              "      <td>1.857</td>\n",
              "      <td>27.0</td>\n",
              "      <td>51.85</td>\n",
              "    </tr>\n",
              "  </tbody>\n",
              "</table>\n",
              "<p>50571 rows × 10 columns</p>\n",
              "</div>"
            ],
            "text/plain": [
              "          location       date  ...  new_cases  stringency_index\n",
              "0      Afghanistan 2020-02-24  ...        1.0              8.33\n",
              "1      Afghanistan 2020-02-25  ...        0.0              8.33\n",
              "2      Afghanistan 2020-02-26  ...        0.0              8.33\n",
              "3      Afghanistan 2020-02-27  ...        0.0              8.33\n",
              "4      Afghanistan 2020-02-28  ...        0.0              8.33\n",
              "...            ...        ...  ...        ...               ...\n",
              "51973     Zimbabwe 2021-04-19  ...      108.0             51.85\n",
              "51974     Zimbabwe 2021-04-20  ...       16.0             51.85\n",
              "51975     Zimbabwe 2021-04-21  ...      105.0             51.85\n",
              "51976     Zimbabwe 2021-04-22  ...       38.0             51.85\n",
              "51977     Zimbabwe 2021-04-23  ...       27.0             51.85\n",
              "\n",
              "[50571 rows x 10 columns]"
            ]
          },
          "metadata": {
            "tags": []
          },
          "execution_count": 10
        }
      ]
    },
    {
      "cell_type": "markdown",
      "metadata": {
        "id": "Ei-EyytVGe70"
      },
      "source": [
        "# Algorithm Developement"
      ]
    },
    {
      "cell_type": "code",
      "metadata": {
        "id": "TqoukLnNC2tR"
      },
      "source": [
        "def sliding_window(data, seq_len, j=0):\n",
        "    samples = 0\n",
        "\n",
        "    xs = []\n",
        "    ys = []\n",
        "    for i in range(0,len(data)-seq_len-1-j,seq_len+1+j):\n",
        "        x = data[i:(i+seq_len)].drop([\"date\"], axis=1).to_numpy()\n",
        "        y = data[(i+seq_len):i+seq_len+1+j][\"new_cases\"].to_numpy().flatten()#[0]\n",
        "        xs.append(x)\n",
        "        ys.append(y)\n",
        "        samples += 1\n",
        "\n",
        "  \n",
        "    return np.array(xs, dtype=np.float64), np.array(ys, dtype=np.float64), samples"
      ],
      "execution_count": null,
      "outputs": []
    },
    {
      "cell_type": "markdown",
      "metadata": {
        "id": "OyHijlSoBQmJ"
      },
      "source": [
        "#### India District"
      ]
    },
    {
      "cell_type": "code",
      "metadata": {
        "colab": {
          "base_uri": "https://localhost:8080/",
          "height": 66,
          "referenced_widgets": [
            "db112e16bd864f8c89c25a6df3453b5b",
            "6a293152151a4688816c65d5427da4a4",
            "6e42f6cc0dfc495599beac64f8f19322",
            "09071b6e95074ad99da30b326f60c58f",
            "92190511dc044e81b11e11122fa25877",
            "f6731a357275415581a698ad33415df0",
            "aaa4f8d14fc7414ebf10ddcaa524509a",
            "3f5c91d77d3d4d54ba589aa7a9dcd573"
          ]
        },
        "id": "gELYhFkRGe70",
        "outputId": "cbd1d5fc-cbcc-45cb-d380-99e3b77affb8"
      },
      "source": [
        "from tqdm import tqdm_notebook\n",
        "\n",
        "prev_days = 28\n",
        "forecast_days = 14\n",
        "\n",
        "df = df[df['new cases']>=0]\n",
        "\n",
        "def create_dataset(df, prev_days, forecast_days):\n",
        "    xtrain, ytrain, xtest, ytest, transforms, train_idx, test_idx = [], [], [], [], [], [], []\n",
        "    running_train, running_test = 0, 0\n",
        "    df = df.drop(['State', *colstoplot[:-1]], axis=1)\n",
        "    print(df.columns)\n",
        "    for district in tqdm_notebook(df['District'].unique()):\n",
        "        district_df = df[df['District']==district].copy()\n",
        "        scaler = StandardScaler()\n",
        "#         district_df = district_df.copy()\n",
        "        if district_df.shape[0]<200:\n",
        "             continue\n",
        "        district_df = smoothen_df(district_df.drop('District',axis=1))\n",
        "\n",
        "#         district_df[colstoplot] =  scaler.fit_transform(district_df[colstoplot])\n",
        "#         districts_df[\"new cases\"] = \n",
        "\n",
        "        district_df['Date'] = pd.to_datetime(district_df['Date'])\n",
        "        district_df[\"Date\"] = district_df[\"Date\"].dt.year * 30 * 12 + district_df[\"Date\"].dt.month * 30 + district_df[\"Date\"].dt.day\n",
        "        district_df[\"Date\"] -= district_df[\"Date\"].min()\n",
        "        \n",
        "\n",
        "        \n",
        "        \n",
        "#         district_df = district_df.drop('District',axis=1)\n",
        "\n",
        "        # df_custom = smoothen_df(df_custom)\n",
        "#         print(district_df)\n",
        "\n",
        "        X, y = sliding_window(district_df[district_df['Date']<=250], prev_days, forecast_days-1)\n",
        "        xt, yt = sliding_window(district_df[district_df['Date']>250], prev_days, forecast_days-1)\n",
        "#         print(X.shape, y.shape, xt.shape, yt.shape)\n",
        "        if 0 in X.shape or 0 in y.shape or 0 in xt.shape or 0 in yt.shape:\n",
        "            continue\n",
        "        transforms.append(scaler)\n",
        "\n",
        "        train_idx.append(running_train)\n",
        "        test_idx.append(running_test)\n",
        "            \n",
        "        running_train += X.shape[0]\n",
        "        running_test += xt.shape[0]\n",
        "\n",
        "            \n",
        "        xtrain.append(X)\n",
        "        ytrain.append(y)\n",
        "        xtest.append(xt)\n",
        "        ytest.append(yt)\n",
        "        \n",
        "        \n",
        "    xtrain, ytrain, xtest, ytest = np.vstack(xtrain), np.vstack(ytrain), np.vstack(xtest), np.vstack(ytest)\n",
        "    scaler = StandardScaler()\n",
        "#     print(xtrain.shape)\n",
        "#     xtrain = scaler.fit_transform(xtrain[:,:,0])\n",
        "    return xtrain, ytrain, xtest, ytest, scaler\n",
        "    \n",
        "    #, transforms, test_idx, train_idx\n",
        "    \n",
        "    \n",
        "def create_metadataset(df, prev_days, forecast_days, params):\n",
        "    xtrain, ytrain, xtest, ytest, = [], [], [], []\n",
        "    running_train, running_test = 0, 0\n",
        "#     df = df.drop(['State', *colstoplot[:-1]], axis=1)\n",
        "    for district in tqdm_notebook(df['District'].unique()):\n",
        "        district_df = df[df['District']==district].copy()\n",
        "        if district_df.shape[0]<200:\n",
        "            del params[district]\n",
        "            continue\n",
        "        district_df = district_df.drop('District',axis=1)\n",
        "\n",
        "\n",
        "        district_df['Date'] = pd.to_datetime(district_df['Date'])\n",
        "        district_df[\"Date\"] = district_df[\"Date\"].dt.year * 30 * 12 + district_df[\"Date\"].dt.month * 30 + district_df[\"Date\"].dt.day\n",
        "        district_df[\"Date\"] -= district_df[\"Date\"].min()\n",
        "        district_df[colstoplot[:-1]] = district_df[colstoplot[:-1]].shift(-7)\n",
        "        district_df = district_df.dropna()#[['new cases','Date']]\n",
        "#         print(district_df)\n",
        "        X, y = sliding_window(district_df, prev_days, forecast_days-1)\n",
        "#         xt, yt = sliding_window(district_df[district_df['Date']>250], prev_days, forecast_days-1)\n",
        "        if 0 in X.shape or 0 in y.shape:# or 0 in xt.shape or 0 in yt.shape:\n",
        "            del params[district]\n",
        "            continue\n",
        "            \n",
        "        xtrain.append(X)\n",
        "        ytrain.append(y)\n",
        "#         xtest.append(xt)\n",
        "#         ytest.append(yt)\n",
        "        \n",
        "    return np.asarray(xtrain), np.asarray(ytrain)#, np.asarray(xtest), np.asarray(ytest)\n",
        "\n",
        "def region_wise_normalized_df(df):\n",
        "    df = df.drop(['State'], axis=1)\n",
        "    df = smoothen_df(df)#.drop('District',axis=1))\n",
        "    params = {}\n",
        "    for region in df['District'].unique():\n",
        "        rows = df['District']==region#['new cases']\n",
        "        # df.loc[df['District']==region,'new cases'] = (cases - cases.min()) / (cases.max() - cases.min())\n",
        "        # params[region] = [cases.min(), cases.max()]\n",
        "        # scaler = MinMaxScaler()\n",
        "        # df.loc[rows, colstoplot] = scaler.fit_transform(df.loc[rows, colstoplot])\n",
        "        # params[region] = scaler\n",
        "        params[region] = ''\n",
        "        \n",
        "#     print(df)\n",
        "        \n",
        "    return df, params\n",
        "\n",
        "# xtrain, ytrain, xtest, ytest, transforms, tri, tei = create_dataset(df.dropna(), 28, 14)\n",
        "# xtrain, ytrain, xtest, ytest = create_metadataset(df.dropna(), 28, 14)\n",
        "df_new, params = region_wise_normalized_df(df.dropna())\n",
        "xtrain, ytrain = create_metadataset(df_new, 28, 14, params)\n",
        "\n",
        "# ytrain = transform.transform(ytrain)\n",
        "# xtest = transform.transform(xtest)\n",
        "# ytest = transform.transform(ytest)"
      ],
      "execution_count": null,
      "outputs": [
        {
          "output_type": "display_data",
          "data": {
            "application/vnd.jupyter.widget-view+json": {
              "model_id": "db112e16bd864f8c89c25a6df3453b5b",
              "version_major": 2,
              "version_minor": 0
            },
            "text/plain": [
              "HBox(children=(FloatProgress(value=0.0, max=457.0), HTML(value='')))"
            ]
          },
          "metadata": {
            "tags": []
          }
        },
        {
          "output_type": "stream",
          "text": [
            "\n"
          ],
          "name": "stdout"
        }
      ]
    },
    {
      "cell_type": "markdown",
      "metadata": {
        "id": "VRcrgW_EBVBn"
      },
      "source": [
        "#### World Country"
      ]
    },
    {
      "cell_type": "code",
      "metadata": {
        "colab": {
          "base_uri": "https://localhost:8080/",
          "height": 66,
          "referenced_widgets": [
            "be483dcd287648dd8af06b3c9139e641",
            "1636aa12146644e9a9befafedb3b831e",
            "02631a459f944456a49b8c8e8558a29d",
            "3eb1964fc99b4edf8f4d6deb91fb6d38",
            "86d95d15603349598bc80be0c04c5e53",
            "cec9901f7714497886421c8e986b480c",
            "bff430bddd424574a4e62f4f1554349e",
            "74f868d913044038810e58a6f6aebbef"
          ]
        },
        "id": "wdrJe2UEBOKI",
        "outputId": "eaf1f146-75a7-4540-ff96-f86c6a7873b8"
      },
      "source": [
        "from tqdm import tqdm_notebook\n",
        "\n",
        "prev_days = 28\n",
        "forecast_days = 14\n",
        "df_relevant = df_relevant[df_relevant['new_cases']>=0] \n",
        "    \n",
        "def create_metadataset(df, prev_days, forecast_days, params, cols, time_col):\n",
        "    xtrain, ytrain, xtest, ytest, india = [], [], [], [], []\n",
        "    running_train, running_test = 0, 0\n",
        "#     df = df.drop(['State', *colstoplot[:-1]], axis=1)\n",
        "    for district in tqdm_notebook(df['location'].unique()):\n",
        "        district_df = df[df['location']==district].copy()\n",
        "        if district_df.shape[0]<200:\n",
        "            del params[district]\n",
        "            continue\n",
        "        district_df = district_df.drop('location',axis=1)\n",
        "\n",
        "\n",
        "        district_df[time_col] = pd.to_datetime(district_df[time_col])\n",
        "        district_df[time_col] = (district_df[time_col] - district_df[time_col].min()).astype('timedelta64[D]')\n",
        "        # district_df[colstoplot[:-1]] = district_df[colstoplot[:-1]].shift(-7)\n",
        "        district_df = district_df.dropna()[cols]\n",
        "#         print(district_df)\n",
        "        X, y, samples = sliding_window(district_df, prev_days, forecast_days-1)\n",
        "#         xt, yt = sliding_window(district_df[district_df['Date']>250], prev_days, forecast_days-1)\n",
        "        if 0 in X.shape or 0 in y.shape:# or 0 in xt.shape or 0 in yt.shape:\n",
        "            del params[district]\n",
        "            continue\n",
        "        test_samples = int(samples*0.25)\n",
        "        test_indices = np.random.random_integers(0,samples-1,test_samples).tolist()\n",
        "        train_indices = [i for i in range(samples-1) if i not in test_indices]\n",
        "        Xtrain, Ytrain = X[train_indices,:,:], y[train_indices,:]\n",
        "        Xtest, Ytest = X[test_indices,:,:], y[test_indices,:]\n",
        "        if district == 'India':\n",
        "            india.extend([Xtrain, Ytrain, Xtest, Ytest])\n",
        "        # else:\n",
        "        xtrain.append(Xtrain)\n",
        "        ytrain.append(Ytrain)\n",
        "        xtest.append(Xtest)\n",
        "        ytest.append(Ytest)\n",
        "            \n",
        "    return np.asarray(xtrain), np.asarray(ytrain), np.asarray(xtest), np.asarray(ytest), india\n",
        "\n",
        "def region_wise_normalized_df(df):\n",
        "    # df = df.drop(['State'], axis=1)\n",
        "    # df = smoothen_df(df)#.drop('District',axis=1))\n",
        "    params = {}\n",
        "    for region in df['location'].unique():\n",
        "        rows = df['location']==region#['new cases']\n",
        "        # df.loc[df['District']==region,'new cases'] = (cases - cases.min()) / (cases.max() - cases.min())\n",
        "        # params[region] = [cases.min(), cases.max()]\n",
        "        # scaler = MinMaxScaler()\n",
        "        # df.loc[rows, colstoplot] = scaler.fit_transform(df.loc[rows, colstoplot])\n",
        "        # params[region] = scaler\n",
        "        params[region] = ''\n",
        "        \n",
        "#     print(df)\n",
        "        \n",
        "    return df, params\n",
        "\n",
        "# xtrain, ytrain, xtest, ytest, transforms, tri, tei = create_dataset(df.dropna(), 28, 14)\n",
        "# xtrain, ytrain, xtest, ytest = create_metadataset(df.dropna(), 28, 14)\n",
        "# cols = ['date', 'retail_and_recreation',\n",
        "#        'grocery_and_pharmacy', 'residential', 'transit_stations', 'parks',\n",
        "#        'workplaces', 'stringency_index', 'new_cases']\n",
        "cols = ['date', 'new_cases']\n",
        "df_new, params = region_wise_normalized_df(df_relevant.dropna())\n",
        "xtrain, ytrain, xtest, ytest, india = create_metadataset(df_new, 28, 14, params, cols, 'date')\n",
        "\n",
        "# ytrain = transform.transform(ytrain)\n",
        "# xtest = transform.transform(xtest)\n",
        "# ytest = transform.transform(ytest)"
      ],
      "execution_count": null,
      "outputs": [
        {
          "output_type": "display_data",
          "data": {
            "application/vnd.jupyter.widget-view+json": {
              "model_id": "be483dcd287648dd8af06b3c9139e641",
              "version_major": 2,
              "version_minor": 0
            },
            "text/plain": [
              "HBox(children=(FloatProgress(value=0.0, max=124.0), HTML(value='')))"
            ]
          },
          "metadata": {
            "tags": []
          }
        },
        {
          "output_type": "stream",
          "text": [
            "\n"
          ],
          "name": "stdout"
        }
      ]
    },
    {
      "cell_type": "code",
      "metadata": {
        "colab": {
          "base_uri": "https://localhost:8080/"
        },
        "id": "a9cMdNUzWL2C",
        "outputId": "88e205ce-5c6f-44cf-af56-bc5b17f313ed"
      },
      "source": [
        "india[0].shape, india[1].shape, india[2].shape, india[3].shape"
      ],
      "execution_count": null,
      "outputs": [
        {
          "output_type": "execute_result",
          "data": {
            "text/plain": [
              "((7, 28, 8), (7, 14), (2, 28, 8), (2, 14))"
            ]
          },
          "metadata": {
            "tags": []
          },
          "execution_count": 8
        }
      ]
    },
    {
      "cell_type": "code",
      "metadata": {
        "id": "cmyVgNOJGe74"
      },
      "source": [
        ""
      ],
      "execution_count": null,
      "outputs": []
    },
    {
      "cell_type": "code",
      "metadata": {
        "id": "JxqabxtrGe74"
      },
      "source": [
        "# wandb_run.finish()"
      ],
      "execution_count": null,
      "outputs": []
    },
    {
      "cell_type": "code",
      "metadata": {
        "id": "nSYmuuOLGe74",
        "scrolled": true
      },
      "source": [
        "import random\n",
        "import tensorflow as tf\n",
        "\n",
        "def get_mini_dataset(batchSize, iters, num_regions, datasets, test=False, single=False):\n",
        "    # Shots is assumed to be all\n",
        "    \n",
        "    xtrain, ytrain = datasets\n",
        "\n",
        "    if single:\n",
        "        regions = [0]\n",
        "    else:\n",
        "        regions = random.choices(list(range(xtrain.shape[0])), k=num_regions)\n",
        "    \n",
        "#     xtrain, ytrain = np.vstack(xtrain[[regions]]), np.vstack(ytrain[[regions]])\n",
        "    \n",
        "    \n",
        "    if test:\n",
        "        xtests, ytests, xtrains, ytrains = [], [], [], []\n",
        "        xtrain, ytrain = xtrain[[regions]],ytrain[[regions]]\n",
        "#         print(xtrain.shape)\n",
        "#         print(ytrain.shape)\n",
        "#         print(xtrain.shape, ytrain.shape)\n",
        "        for i in range(num_regions):\n",
        "            xtests.append(np.expand_dims(xtrain[i][-1,:,:],0))\n",
        "            ytests.append(ytrain[i][-1,:])\n",
        "            xtrains.append(xtrain[i][:-1,:,:])\n",
        "            ytrains.append(ytrain[i][:-1,:])\n",
        "\n",
        "#             xtest, ytest = xtrain[-1,:,:], ytrain[-1,:]\n",
        "#             xtrain, ytrain = xtrain[:-1,:,:], ytrain[:-1,:]\n",
        "        # print(xtests[0].shape)\n",
        "        xtrain, ytrain, xtest, ytest = np.vstack(xtrains), np.vstack(ytrains), np.vstack(xtests), np.stack(ytests)\n",
        "\n",
        "    else:\n",
        "        xtrain, ytrain = np.vstack(xtrain[[regions]]), np.vstack(ytrain[[regions]])\n",
        "#     xtrain, ytrain = np.vstack(xtrains), np.vstack(ytrains)\n",
        "#     print(xtrain.shape, ytrain.shape)\n",
        "    \n",
        "    dataset = tf.data.Dataset.from_tensor_slices(\n",
        "        (xtrain.astype(np.float32), ytrain.astype(np.float32))\n",
        "    )\n",
        "    dataset = dataset.shuffle(100).batch(batchSize).repeat(iters)\n",
        "    if test:\n",
        "        # print(xtrain.shape, xtest.shape, ytest.shape)\n",
        "\n",
        "        # print(xtest.shape)\n",
        "        return dataset, xtest, ytest, regions\n",
        "    return dataset, regions\n",
        "# print(np.vstack(xtrain[[0,4,5]]).shape)\n",
        "\n",
        "# xtrain, ytrain = create_metadataset(df.dropna(), 28, 14)\n",
        "# dataset, te, ti, regions = get_mini_dataset(32, 4, 20, (xtest, ytest), True)\n",
        "# dataset, te, ti, regions = get_mini_dataset(32, 4, 20, (xtrain, ytrain), True)\n",
        "\n"
      ],
      "execution_count": null,
      "outputs": []
    },
    {
      "cell_type": "code",
      "metadata": {
        "colab": {
          "base_uri": "https://localhost:8080/",
          "height": 35
        },
        "id": "pwYJMrIKn0ER",
        "outputId": "f66181c1-883f-4f1c-96bd-1acd1fdedacf"
      },
      "source": [
        "!pip install nbeats-keras wandb > /dev/null\n",
        "import sklearn\n",
        "sklearn.__version__"
      ],
      "execution_count": null,
      "outputs": [
        {
          "output_type": "execute_result",
          "data": {
            "application/vnd.google.colaboratory.intrinsic+json": {
              "type": "string"
            },
            "text/plain": [
              "'0.22.2.post1'"
            ]
          },
          "metadata": {
            "tags": []
          },
          "execution_count": 9
        }
      ]
    },
    {
      "cell_type": "markdown",
      "metadata": {
        "id": "kYmIoW0OKHb0"
      },
      "source": [
        "#### Seq2Seq"
      ]
    },
    {
      "cell_type": "code",
      "metadata": {
        "id": "WlfG3LGYGe75"
      },
      "source": [
        "n_hidden = 100\n",
        "\n",
        "features = 7\n",
        "\n",
        "input_train = keras.Input(shape=(prev_days, features))\n",
        "output_train = keras.Input(shape=(forecast_days, 1))\n",
        "\n",
        "encoder_stack_h, encoder_last_h, encoder_last_c = keras.layers.LSTM(\n",
        " n_hidden, activation='tanh', dropout=0.2,\n",
        " return_sequences=True, return_state=True, recurrent_activation = 'sigmoid')(input_train)\n"
      ],
      "execution_count": null,
      "outputs": []
    },
    {
      "cell_type": "code",
      "metadata": {
        "colab": {
          "base_uri": "https://localhost:8080/"
        },
        "id": "bIcKeaDbmMi-",
        "outputId": "d20053dd-a83b-4471-cb3a-66293a49d568"
      },
      "source": [
        "print(encoder_stack_h.shape, encoder_last_h.shape, encoder_last_c.shape)"
      ],
      "execution_count": null,
      "outputs": [
        {
          "output_type": "stream",
          "text": [
            "(None, 28, 100) (None, 100) (None, 100)\n"
          ],
          "name": "stdout"
        }
      ]
    },
    {
      "cell_type": "code",
      "metadata": {
        "colab": {
          "base_uri": "https://localhost:8080/"
        },
        "id": "Ew-PP0aKmlPl",
        "outputId": "7281a947-cefa-404f-9781-969399faf3c6"
      },
      "source": [
        "decoder = keras.layers.RepeatVector(output_train.shape[1])(encoder_last_h)\n",
        "decoder = keras.layers.LSTM(n_hidden, activation='tanh', dropout=0.2,\n",
        "                            return_state=False, return_sequences=True, recurrent_activation = 'sigmoid')(\n",
        "    decoder, initial_state=[encoder_last_h, encoder_last_c])\n",
        "\n",
        "print(decoder.shape)"
      ],
      "execution_count": null,
      "outputs": [
        {
          "output_type": "stream",
          "text": [
            "(None, 14, 100)\n"
          ],
          "name": "stdout"
        }
      ]
    },
    {
      "cell_type": "code",
      "metadata": {
        "id": "u0L073FNmFOZ"
      },
      "source": [
        "attention = keras.layers.dot([decoder, encoder_stack_h], axes=[2, 2])\n",
        "attention = keras.layers.Activation('softmax')(attention)\n",
        "\n",
        "context = keras.layers.dot([attention, encoder_stack_h], axes=[2,1])\n",
        "\n",
        "decoder_combined_context = keras.layers.concatenate([context, decoder])\n",
        "\n",
        "out = keras.layers.TimeDistributed(keras.layers.Dense(1, activation='exponential'))(decoder_combined_context)\n",
        "\n",
        "model = keras.Model(inputs=input_train, outputs=out)\n",
        "model.compile()\n",
        "optimizer = keras.optimizers.SGD(lr=0.001, clipnorm=1)\n",
        "theta = tf.nn.softplus(tf.Variable(1., trainable=True))"
      ],
      "execution_count": null,
      "outputs": []
    },
    {
      "cell_type": "code",
      "metadata": {
        "id": "x6FfN0li8JUC"
      },
      "source": [
        ""
      ],
      "execution_count": null,
      "outputs": []
    },
    {
      "cell_type": "markdown",
      "metadata": {
        "id": "N4TL65gOKMf7"
      },
      "source": [
        "#### Meta Learning"
      ]
    },
    {
      "cell_type": "code",
      "metadata": {
        "id": "CYYimUcg7_-h"
      },
      "source": [
        "## NBeats\n",
        "\n",
        "from nbeats_keras.model import NBeatsNet as NBeatsKeras\n",
        "num_samples, time_steps, input_dim, output_dim, exo_dim = 50_000, 28, 1, 14, 0\n",
        "\n",
        "backend = NBeatsKeras(input_dim=input_dim,exo_dim=exo_dim,\n",
        "    backcast_length=time_steps, forecast_length=output_dim,\n",
        "    stack_types=(NBeatsKeras.TREND_BLOCK, NBeatsKeras.SEASONALITY_BLOCK),\n",
        "    nb_blocks_per_stack=2, thetas_dim=(4, 4), share_weights_in_stack=True,\n",
        "    hidden_layer_units=128\n",
        ")\n",
        "# loss = negbinLoss()\n",
        "import keras\n",
        "# Definition of the objective function and the optimizer.\n",
        "backend.compile()\n",
        "optimizer = keras.optimizers.SGD(lr=0.001, clipnorm=1)\n",
        "model = backend"
      ],
      "execution_count": null,
      "outputs": []
    },
    {
      "cell_type": "code",
      "metadata": {
        "colab": {
          "base_uri": "https://localhost:8080/",
          "height": 1000,
          "referenced_widgets": [
            "892ec998c4e647e782aa1dafb42199de",
            "d65528ab446c4513a69d8142df9ef1cb",
            "0dd3dcb86943455daec1bbd80b6c8c2e",
            "06e02d140372499eb32840ba16bd5aae",
            "4f81603414a1488bb0bddac154b0cc1a",
            "89282c6db02a4e2092a4864672a60170",
            "19d8f091229e45a1a312c8cfc54e249f",
            "33d1fe83872044929641dbc848a151be"
          ]
        },
        "id": "KMmfz2D6Ge75",
        "outputId": "b239fc21-41e9-4a43-c44c-9fa9571a3091"
      },
      "source": [
        "\n",
        "# scaler = StandardScaler()\n",
        "# ytrain.shape\n",
        "len(params)\n",
        "import warnings\n",
        "warnings.filterwarnings('ignore')\n",
        "import wandb\n",
        "wandb.init()"
      ],
      "execution_count": null,
      "outputs": [
        {
          "output_type": "display_data",
          "data": {
            "text/html": [
              "Finishing last run (ID:ysvcpsnm) before initializing another..."
            ],
            "text/plain": [
              "<IPython.core.display.HTML object>"
            ]
          },
          "metadata": {
            "tags": []
          }
        },
        {
          "output_type": "display_data",
          "data": {
            "text/html": [
              "<br/>Waiting for W&B process to finish, PID 5467<br/>Program ended successfully."
            ],
            "text/plain": [
              "<IPython.core.display.HTML object>"
            ]
          },
          "metadata": {
            "tags": []
          }
        },
        {
          "output_type": "display_data",
          "data": {
            "application/vnd.jupyter.widget-view+json": {
              "model_id": "892ec998c4e647e782aa1dafb42199de",
              "version_major": 2,
              "version_minor": 0
            },
            "text/plain": [
              "VBox(children=(Label(value=' 1.30MB of 1.30MB uploaded (0.00MB deduped)\\r'), FloatProgress(value=1.0, max=1.0)…"
            ]
          },
          "metadata": {
            "tags": []
          }
        },
        {
          "output_type": "display_data",
          "data": {
            "text/html": [
              "Find user logs for this run at: <code>/content/wandb/run-20210430_104658-ysvcpsnm/logs/debug.log</code>"
            ],
            "text/plain": [
              "<IPython.core.display.HTML object>"
            ]
          },
          "metadata": {
            "tags": []
          }
        },
        {
          "output_type": "display_data",
          "data": {
            "text/html": [
              "Find internal logs for this run at: <code>/content/wandb/run-20210430_104658-ysvcpsnm/logs/debug-internal.log</code>"
            ],
            "text/plain": [
              "<IPython.core.display.HTML object>"
            ]
          },
          "metadata": {
            "tags": []
          }
        },
        {
          "output_type": "display_data",
          "data": {
            "text/html": [
              "<h3>Run summary:</h3><br/><style>\n",
              "    table.wandb td:nth-child(1) { padding: 0 10px; text-align: right }\n",
              "    </style><table class=\"wandb\">\n",
              "<tr><td>Iteration</td><td>145</td></tr><tr><td>training error</td><td>3105.74708</td></tr><tr><td>testing error</td><td>8205.78299</td></tr><tr><td>training MAE</td><td>2154.69711</td></tr><tr><td>testing MAE</td><td>5875.23551</td></tr><tr><td>training MAPE</td><td>23.20784</td></tr><tr><td>testing MAPE</td><td>17.047</td></tr><tr><td>_runtime</td><td>102</td></tr><tr><td>_timestamp</td><td>1619779723</td></tr><tr><td>_step</td><td>29</td></tr></table>"
            ],
            "text/plain": [
              "<IPython.core.display.HTML object>"
            ]
          },
          "metadata": {
            "tags": []
          }
        },
        {
          "output_type": "display_data",
          "data": {
            "text/html": [
              "<h3>Run history:</h3><br/><style>\n",
              "    table.wandb td:nth-child(1) { padding: 0 10px; text-align: right }\n",
              "    </style><table class=\"wandb\">\n",
              "<tr><td>Iteration</td><td>▁▁▁▂▂▂▂▃▃▃▃▄▄▄▄▅▅▅▅▆▆▆▆▇▇▇▇███</td></tr><tr><td>training error</td><td>█▇▇▆▅▅▄▄▄▃▃▃▃▂▂▂▂▂▂▂▂▂▁▁▁▁▁▁▁▁</td></tr><tr><td>testing error</td><td>█▇▇▆▆▅▅▄▄▃▃▃▃▂▂▂▂▂▂▂▂▁▂▁▁▁▁▁▁▁</td></tr><tr><td>training MAE</td><td>█▇▇▆▅▅▄▄▄▃▃▃▂▂▂▂▂▂▂▂▂▁▁▁▁▁▁▁▁▁</td></tr><tr><td>testing MAE</td><td>█▇▇▆▆▅▅▄▄▃▃▃▂▂▂▂▂▂▂▂▂▁▁▁▁▁▁▁▁▁</td></tr><tr><td>training MAPE</td><td>█▇▇▆▆▅▅▄▄▄▃▃▃▃▂▂▂▂▂▂▂▁▁▁▁▁▁▁▁▁</td></tr><tr><td>testing MAPE</td><td>█▇▇▆▅▅▄▃▃▃▂▂▂▂▂▂▁▁▁▁▁▁▁▁▁▁▁▁▁▁</td></tr><tr><td>_runtime</td><td>▁▁▁▁▂▂▂▃▃▃▃▄▄▄▅▅▅▅▅▅▅▅▆▆▆▇▇▇▇█</td></tr><tr><td>_timestamp</td><td>▁▁▁▁▂▂▂▃▃▃▃▄▄▄▅▅▅▅▅▅▅▅▆▆▆▇▇▇▇█</td></tr><tr><td>_step</td><td>▁▁▁▂▂▂▂▃▃▃▃▄▄▄▄▅▅▅▅▆▆▆▆▇▇▇▇███</td></tr></table><br/>"
            ],
            "text/plain": [
              "<IPython.core.display.HTML object>"
            ]
          },
          "metadata": {
            "tags": []
          }
        },
        {
          "output_type": "display_data",
          "data": {
            "text/html": [
              "Synced 5 W&B file(s), 0 media file(s), 3 artifact file(s) and 1 other file(s)"
            ],
            "text/plain": [
              "<IPython.core.display.HTML object>"
            ]
          },
          "metadata": {
            "tags": []
          }
        },
        {
          "output_type": "display_data",
          "data": {
            "text/html": [
              "\n",
              "                    <br/>Synced <strong style=\"color:#cdcd00\">denim-sky-26</strong>: <a href=\"https://wandb.ai/covid-forecasters/uncategorized/runs/ysvcpsnm\" target=\"_blank\">https://wandb.ai/covid-forecasters/uncategorized/runs/ysvcpsnm</a><br/>\n",
              "                "
            ],
            "text/plain": [
              "<IPython.core.display.HTML object>"
            ]
          },
          "metadata": {
            "tags": []
          }
        },
        {
          "output_type": "display_data",
          "data": {
            "text/html": [
              "...Successfully finished last run (ID:ysvcpsnm). Initializing new run:<br/><br/>"
            ],
            "text/plain": [
              "<IPython.core.display.HTML object>"
            ]
          },
          "metadata": {
            "tags": []
          }
        },
        {
          "output_type": "display_data",
          "data": {
            "text/html": [
              "\n",
              "                Tracking run with wandb version 0.10.28<br/>\n",
              "                Syncing run <strong style=\"color:#cdcd00\">dainty-star-27</strong> to <a href=\"https://wandb.ai\" target=\"_blank\">Weights & Biases</a> <a href=\"https://docs.wandb.com/integrations/jupyter.html\" target=\"_blank\">(Documentation)</a>.<br/>\n",
              "                Project page: <a href=\"https://wandb.ai/covid-forecasters/uncategorized\" target=\"_blank\">https://wandb.ai/covid-forecasters/uncategorized</a><br/>\n",
              "                Run page: <a href=\"https://wandb.ai/covid-forecasters/uncategorized/runs/2hr8jsg4\" target=\"_blank\">https://wandb.ai/covid-forecasters/uncategorized/runs/2hr8jsg4</a><br/>\n",
              "                Run data is saved locally in <code>/content/wandb/run-20210430_111517-2hr8jsg4</code><br/><br/>\n",
              "            "
            ],
            "text/plain": [
              "<IPython.core.display.HTML object>"
            ]
          },
          "metadata": {
            "tags": []
          }
        },
        {
          "output_type": "execute_result",
          "data": {
            "text/html": [
              "<h1>Run(2hr8jsg4)</h1><iframe src=\"https://wandb.ai/covid-forecasters/uncategorized/runs/2hr8jsg4\" style=\"border:none;width:100%;height:400px\"></iframe>"
            ],
            "text/plain": [
              "<wandb.sdk.wandb_run.Run at 0x7f01f29128d0>"
            ]
          },
          "metadata": {
            "tags": []
          },
          "execution_count": 89
        }
      ]
    },
    {
      "cell_type": "code",
      "metadata": {
        "colab": {
          "background_save": true
        },
        "id": "WL1pWWpxGe76"
      },
      "source": [
        "from wandb.keras import WandbCallback\n",
        "import sklearn\n",
        "from sklearn.metrics import mean_absolute_error\n",
        "\n",
        "# model.__call__ = model.predict\n",
        "\n",
        "trainingA, trainingR, trainingE, trainingmape = [], [], [], []\n",
        "testingA, testingR, testingE, testingmape = [], [], [], []\n",
        "\n",
        "meta_iters = 500\n",
        "meta_step_size = 0.25\n",
        "\n",
        "inner_batch_size = 25\n",
        "eval_batch_size = 25\n",
        "\n",
        "eval_iters = 5\n",
        "inner_iters = 4\n",
        "\n",
        "eval_interval = 1\n",
        "train_shots = 20\n",
        "shots = 5\n",
        "regions = 50\n",
        "\n",
        "for meta_iter in range(meta_iters):\n",
        "    frac_done = meta_iter / meta_iters\n",
        "    cur_meta_step_size = (1 - frac_done) * meta_step_size\n",
        "    # Temporarily save the weights from the model.\n",
        "    old_vars = model.get_weights()\n",
        "    # Get a sample from the full dataset.\n",
        "    mini_dataset, _ = get_mini_dataset(inner_batch_size, inner_iters, regions, (xtrain, ytrain))\n",
        "    \n",
        "    for images, labels in mini_dataset:\n",
        "        with tf.GradientTape() as tape:\n",
        "            preds = tf.squeeze(model.models['forecast'](images))\n",
        "            # preds = tf.squeeze(model.models['forecast']([images[:,:,-1],images[:,:,:-1]]))\n",
        "            loss = keras.losses.mean_squared_error(labels, preds)\n",
        "            # loss = keras.losses.poisson(labels, preds)\n",
        "            # loss = negbinNLLLoss(labels, preds, theta)\n",
        "        grads = tape.gradient(loss, model.trainable_weights)\n",
        "        optimizer.apply_gradients(zip(grads, model.trainable_weights))\n",
        "    new_vars = model.get_weights()\n",
        "    # Perform SGD for the meta step.\n",
        "    for var in range(len(new_vars)):\n",
        "        new_vars[var] = old_vars[var] + (\n",
        "            (new_vars[var] - old_vars[var]) * cur_meta_step_size\n",
        "        )\n",
        "    # After the meta-learning step, reload the newly-trained weights into the model.\n",
        "    model.set_weights(new_vars)\n",
        "    # Evaluation loop\n",
        "    if meta_iter % eval_interval == 0:\n",
        "        accuracies, r2s, errors, mapes = [], [], [], []\n",
        "        idk_index = 0\n",
        "        for dataset in ([xtrain,ytrain], [xtest,ytest]):\n",
        "            # Sample a mini dataset from the full dataset.\n",
        "            train_set, test_images, test_labels, regs = get_mini_dataset(inner_batch_size, inner_iters, regions, \n",
        "                                                                   (dataset[0], dataset[1]), True)\n",
        "            old_vars = model.get_weights()\n",
        "            # Train on the samples and get the resulting accuracies.\n",
        "            for images, labels in train_set:\n",
        "                with tf.GradientTape() as tape:\n",
        "                    preds = tf.squeeze(model.models['forecast'](images))\n",
        "                    # preds = tf.squeeze(model.models['forecast']([images[:,:,-1],images[:,:,:-1]]))\n",
        "                    loss = keras.losses.mean_squared_error(labels, preds)\n",
        "                    # loss = keras.losses.poisson(labels, preds)\n",
        "                    # loss = negbinNLLLoss(labels, preds, theta)\n",
        "                grads = tape.gradient(loss, model.trainable_weights)\n",
        "                optimizer.apply_gradients(zip(grads, model.trainable_weights))\n",
        "                \n",
        "#             print(test_images.shape)\n",
        "            test_preds = model.predict(test_images).squeeze()\n",
        "            # test_preds = model.predict([test_images[:,:,-1],test_images[:,:,:-1]]).squeeze()\n",
        "            # forecasts[idk_index]['x'] = test_images[0,:,-1]\n",
        "            # forecasts[idk_index]['y'] = test_preds[0]\n",
        "            # forecasts[idk_index]['true'] = test_labels[0]\n",
        "            \n",
        "#             mean(square(y_true - y_pred), axis=-1)\n",
        "            error = mean_absolute_error(test_labels, test_preds)\n",
        "            errors.append(error)\n",
        "            num_correct = np.sqrt(np.square(test_preds - test_labels).mean())\n",
        "            # Reset the weights after getting the evaluation accuracies.\n",
        "            r2 = r2_score(test_labels, test_preds)\n",
        "            mapes.append(mape(test_labels, test_preds))\n",
        "            r2s.append(r2)\n",
        "            model.set_weights(old_vars)\n",
        "            accuracies.append(num_correct)\n",
        "            idk_index += 1\n",
        "        trainingR.append(r2s[0])\n",
        "        testingR.append(r2s[1])\n",
        "        trainingA.append(accuracies[0])\n",
        "        testingA.append(accuracies[1])\n",
        "        trainingE.append(errors[0])\n",
        "        testingE.append(errors[1])\n",
        "        trainingmape.append(mapes[0])\n",
        "        testingmape.append(mapes[1])\n",
        "\n",
        "        wandb.log({'Iteration': meta_iter,\n",
        "                   'training error': accuracies[0],\n",
        "                   'testing error': accuracies[1], \n",
        "                   'training R2': r2s[0],\n",
        "                   'testing R2': r2s[1],\n",
        "                   'training MAE':errors[0],\n",
        "                   'testing MAE':errors[1],\n",
        "                   'training MAPE':mapes[0],\n",
        "                   'testing MAPE':mapes[1]})\n",
        "        # if meta_iter % 10 == 0:\n",
        "        #     print(\n",
        "        #         \"batch %d / %d: trainE=%f testE=%f trainA=%f testA=%f\" % (meta_iter, meta_iters, accuracies[0], accuracies[1], r2s[0], r2s[1])\n",
        "        #     )"
      ],
      "execution_count": null,
      "outputs": []
    },
    {
      "cell_type": "code",
      "metadata": {
        "colab": {
          "base_uri": "https://localhost:8080/"
        },
        "id": "lQze4nWV7Z6q",
        "outputId": "2bdc39fd-0453-48d0-bde3-ff72d0a2533d"
      },
      "source": [
        "# mean_absol\n",
        "# test_labels.shape\n",
        "# mean_absolute_percentage_error(test_labels, test_preds)\n",
        "# multioutput\n",
        "\n",
        "# def mean_absolu?te_percentage_error(y_true, y_pred): \n",
        "    # y_true, y_pred = check_arrays(y_true, y_pred)\n",
        "\n",
        "    ## Note: does not handle mix 1d representation\n",
        "    #if _is_1d(y_true): \n",
        "    #    y_true, y_pred = _check_1d_array(y_true, y_pred)\n",
        "a = 0\n",
        "\n",
        "def mape(test_labels, test_preds):\n",
        "    a = 0.0\n",
        "    for i in range(test_labels.shape[0]):\n",
        "\n",
        "      # print(np.sum(test_labels[i]))\n",
        "\n",
        "      if np.any(test_labels[i] == 0.0):\n",
        "          continue\n",
        "      else:\n",
        "          b = np.mean(np.abs((test_labels[i] - test_preds[i]) / (test_labels[i]))) * 100\n",
        "          # print(b)\n",
        "          # print(np.sum(test_labels[i]), b)\n",
        "          a+=b\n",
        "\n",
        "    return a/test_labels.shape[0]\n",
        "\n",
        "mape(test_labels, test_preds)"
      ],
      "execution_count": null,
      "outputs": [
        {
          "output_type": "execute_result",
          "data": {
            "text/plain": [
              "39.494750002487656"
            ]
          },
          "metadata": {
            "tags": []
          },
          "execution_count": 13
        }
      ]
    },
    {
      "cell_type": "code",
      "metadata": {
        "id": "WAcEONI4TLxJ"
      },
      "source": [
        "model.save(\"meta_nbeats_trend_seasonality_epochs_univariate=500.h5\")\n",
        "# from sklearn.metrics import mean_absolute_percentage_error"
      ],
      "execution_count": 94,
      "outputs": []
    },
    {
      "cell_type": "code",
      "metadata": {
        "colab": {
          "base_uri": "https://localhost:8080/"
        },
        "id": "vVf2g8f5-mxw",
        "outputId": "3f86b985-8eb6-46b2-8d22-89c6a2b30a06"
      },
      "source": [
        "# def evaluate_india(india):\n",
        "# model = NBeatsKeras.load(\"/content/meta_nbeats_trend_seasonality_epochs_univariate_stringency_mobility=500.h5\")\n",
        "\n",
        "old_vars = model.get_weights()\n",
        "iter = 0\n",
        "for dataset in ([india[0],india[1]], [india[2],india[3]]):\n",
        "\n",
        "# Sample a mini dataset from the full dataset.\n",
        "    dset = [(dataset[0],dataset[1])]\n",
        "    # test_images = np.expand_dims(dataset[0][-1,:,:], 0)\n",
        "    # test_labels = dataset[1][-1,:]\n",
        "    # train_set, test_images, test_labels, regs = get_mini_dataset(inner_batch_size, inner_iters, regions, \n",
        "    #                                                         (dataset[0], dataset[1]), True, True)\n",
        "    \n",
        "    # Train on the samples and get the resulting accuracies.\n",
        "    if iter == 0:\n",
        "        # pass\n",
        "        for images, labels in dset:\n",
        "            with tf.GradientTape() as tape:\n",
        "                preds = tf.squeeze(model.models['forecast'](images))\n",
        "                # preds = tf.squeeze(model.models['forecast']([images[:,:,-1],images[:,:,:-1]]))\n",
        "                loss = keras.losses.mean_squared_error(labels, preds)\n",
        "                # loss = keras.losses.poisson(labels, preds)\n",
        "                # loss = negbinNLLLoss(labels, preds, theta)\n",
        "            grads = tape.gradient(loss, model.trainable_weights)\n",
        "            optimizer.apply_gradients(zip(grads, model.trainable_weights))\n",
        "        \n",
        "#             print(test_images.shape)\n",
        "    # test_preds = model.predict(test_images).squeeze()\n",
        "\n",
        "    else:\n",
        "        test_preds = model.predict(dataset[0]).squeeze()# model.predict([dataset[0][:,:,-1],dataset[0][:,:,:-1]]).squeeze()\n",
        "\n",
        "        mae = mean_absolute_error(dataset[1], test_preds)\n",
        "        rmse = np.sqrt(np.square(test_preds - dataset[1]).mean())\n",
        "        # Reset the weights after getting the evaluation accuracies.\n",
        "        r2 = r2_score(dataset[1], test_preds)\n",
        "        mapev = mape(dataset[1], test_preds)\n",
        "\n",
        "    # if iter == 0:\n",
        "    #     print(f\"Meta-Train R2 {r2} RMSE {rmse} MAE {error}\")\n",
        "\n",
        "    # else:\n",
        "    iter += 1\n",
        "print(f\"Meta-Test R2 {r2} RMSE {rmse} MAE {mae} MAPE {mapev}\")\n",
        "\n",
        "\n",
        "# model.set_weights(old_vars)\n",
        "\n",
        "\n",
        "          \n",
        "\n",
        "# evaluate_india(india)"
      ],
      "execution_count": 96,
      "outputs": [
        {
          "output_type": "stream",
          "text": [
            "Meta-Test R2 -5.101037197463989 RMSE 6613.083679100575 MAE 5510.041155133928 MAPE 12.033231499685046\n"
          ],
          "name": "stdout"
        }
      ]
    },
    {
      "cell_type": "code",
      "metadata": {
        "id": "dN_gJD-pOmfS"
      },
      "source": [
        ""
      ],
      "execution_count": null,
      "outputs": []
    },
    {
      "cell_type": "code",
      "metadata": {
        "colab": {
          "base_uri": "https://localhost:8080/",
          "height": 539
        },
        "id": "DJwtsQNDU4mG",
        "outputId": "755b0005-5d7d-405f-a831-546d2723b860"
      },
      "source": [
        "# xtrain, ytrain, xtest, ytest = india\n",
        "# samples, forecasts = np.vstack([xtrain, xtest]), np.vstack([ytrain, ytest])\n",
        "# train_indices = np.random.randint(0,11,5)\n",
        "# test_indices = [i for i in np.arange(10) if i not in train_indices]\n",
        "# xtrain, ytrain = samples[train_indices,:,:], forecasts[train_indices]\n",
        "# xtest, ytest = samples[test_indices], forecasts[test_indices]\n",
        "# # model = NBeatsKeras.load(\"/content/meta_nbeats_trend_seasonality_epochs=500.h5\")\n",
        "\n",
        "# test_preds = model.predict([xtest[:,:,-1],xtest[:,:,:-1]]).squeeze()\n",
        "\n",
        "# error = mean_absolute_error(ytest, test_preds)\n",
        "# rmse = np.sqrt(np.square(test_preds - ytest).mean())\n",
        "# # Reset the weights after getting the evaluation accuracies.\n",
        "# r2 = r2_score(ytest, test_preds)\n",
        "\n",
        "# print(f\"Before R2 {r2} RMSE {rmse} MAE {error}\")\n",
        "\n",
        "# with tf.GradientTape() as tape:\n",
        "#     # preds = tf.squeeze(model.models['forecast'](images))\n",
        "#     preds = tf.squeeze(model([xtrain[:,:,-1],xtrain[:,:,:-1]]))\n",
        "#     loss = keras.losses.mean_squared_error(ytrain, preds)\n",
        "#     # loss = keras.losses.poisson(labels, preds)\n",
        "#     # loss = negbinNLLLoss(labels, preds, theta)\n",
        "# grads = tape.gradient(loss, model.trainable_weights)\n",
        "# optimizer.apply_gradients(zip(grads, model.trainable_weights))\n",
        "\n",
        "\n",
        "# test_preds = model.predict([xtest[:,:,-1],xtest[:,:,:-1]]).squeeze()\n",
        "\n",
        "# error = mean_absolute_error(ytest, test_preds)\n",
        "# rmse = np.sqrt(np.square(test_preds - ytest).mean())\n",
        "# # Reset the weights after getting the evaluation accuracies.\n",
        "# r2 = r2_score(ytest, test_preds)\n",
        "# print(f\"After R2 {r2} RMSE {rmse} MAE {error}\")\n",
        "\n",
        "\n",
        "\n",
        "for i in range(2):\n",
        "    plt.gcf().subplots_adjust(bottom=0.15, left=0.15)\n",
        "    plt.tight_layout()\n",
        "    plt.plot(np.arange(0,28), india[2][i,:,-1], label=\"Previous\")\n",
        "    plt.plot(np.arange(28,42), test_preds[i], label='Predicted')\n",
        "    plt.plot(np.arange(28,42), india[3][i], label=\"True\")\n",
        "    plt.legend()\n",
        "    plt.ylabel(\"Daily Case Counts\")\n",
        "    plt.xlabel(\"Day\")\n",
        "    plt.savefig(f\"metaL_forecast_{i}.pdf\")\n",
        "    plt.show()\n",
        "\n",
        "\n",
        "# plt.cla()\n",
        "\n",
        "# plt.plot(np.arange(0,28), dataset[0][1,:,-1], label=\"Previous\")\n",
        "# plt.plot(np.arange(28,42), test_preds[1], label='Predicted')\n",
        "# plt.plot(np.arange(28,42), dataset[1][1], label=\"True\")\n",
        "# plt.legend()\n",
        "# plt.show()\n",
        "\n"
      ],
      "execution_count": null,
      "outputs": [
        {
          "output_type": "display_data",
          "data": {
            "image/png": "[encoded data removed]",
            "text/plain": [
              "<Figure size 432x288 with 1 Axes>"
            ]
          },
          "metadata": {
            "tags": []
          }
        },
        {
          "output_type": "display_data",
          "data": {
            "image/png": "[encoded data removed]",
            "text/plain": [
              "<Figure size 432x288 with 1 Axes>"
            ]
          },
          "metadata": {
            "tags": []
          }
        }
      ]
    },
    {
      "cell_type": "code",
      "metadata": {
        "colab": {
          "base_uri": "https://localhost:8080/"
        },
        "id": "rV_x6bJkbF60",
        "outputId": "303dc882-7ba9-4c38-c993-2ccf7722c730"
      },
      "source": [
        "train_preds = model.predict([india[0][:,:,-1],india[0][:,:,:-1]])\n",
        "train_preds.shape"
      ],
      "execution_count": null,
      "outputs": [
        {
          "output_type": "execute_result",
          "data": {
            "text/plain": [
              "(7, 14, 1)"
            ]
          },
          "metadata": {
            "tags": []
          },
          "execution_count": 30
        }
      ]
    },
    {
      "cell_type": "code",
      "metadata": {
        "colab": {
          "base_uri": "https://localhost:8080/",
          "height": 1000
        },
        "id": "uPbAU8qUK10q",
        "outputId": "b15e2eb0-21dc-4056-9722-600ce2a6cf3d"
      },
      "source": [
        "\n",
        "for i in range(7):\n",
        "    plt.gcf().subplots_adjust(bottom=0.15, left=0.15)\n",
        "    plt.tight_layout()\n",
        "    plt.plot(np.arange(0,28), india[0][i,:,-1], label=\"Previous\")\n",
        "    plt.plot(np.arange(28,42), train_preds[i], label='Predicted')\n",
        "    plt.plot(np.arange(28,42), india[1][i], label=\"True\")\n",
        "    plt.ylabel(\"Daily Case Counts\")\n",
        "    plt.xlabel(\"Day\")\n",
        "    plt.legend()\n",
        "    \n",
        "    plt.savefig(f\"metaL_forecast_{i+2}.pdf\")\n",
        "    plt.show()"
      ],
      "execution_count": null,
      "outputs": [
        {
          "output_type": "display_data",
          "data": {
            "image/png": "[encoded data removed]",
            "text/plain": [
              "<Figure size 432x288 with 1 Axes>"
            ]
          },
          "metadata": {
            "tags": []
          }
        },
        {
          "output_type": "display_data",
          "data": {
            "image/png": "[encoded data removed]",
            "text/plain": [
              "<Figure size 432x288 with 1 Axes>"
            ]
          },
          "metadata": {
            "tags": []
          }
        },
        {
          "output_type": "display_data",
          "data": {
            "image/png": "[encoded data removed]",
            "text/plain": [
              "<Figure size 432x288 with 1 Axes>"
            ]
          },
          "metadata": {
            "tags": []
          }
        },
        {
          "output_type": "display_data",
          "data": {
            "image/png": "[encoded data removed]",
            "text/plain": [
              "<Figure size 432x288 with 1 Axes>"
            ]
          },
          "metadata": {
            "tags": []
          }
        },
        {
          "output_type": "display_data",
          "data": {
            "image/png": "[encoded data removed]",
            "text/plain": [
              "<Figure size 432x288 with 1 Axes>"
            ]
          },
          "metadata": {
            "tags": []
          }
        },
        {
          "output_type": "display_data",
          "data": {
            "image/png": "[encoded data removed]",
            "text/plain": [
              "<Figure size 432x288 with 1 Axes>"
            ]
          },
          "metadata": {
            "tags": []
          }
        },
        {
          "output_type": "display_data",
          "data": {
            "image/png": "[encoded data removed]",
            "text/plain": [
              "<Figure size 432x288 with 1 Axes>"
            ]
          },
          "metadata": {
            "tags": []
          }
        }
      ]
    },
    {
      "cell_type": "code",
      "metadata": {
        "id": "ng_T1icA4l_f"
      },
      "source": [
        " # print(test_images.tranpose(2,1,0))\n",
        "\n",
        "def negbinNLLLoss(y_true, y_pred, theta):\n",
        "    # y_true = tf.cast(y_true, tf.float32)\n",
        "    eps = 1e-10\n",
        "    # theta = tf.nn.softplus(theta)\n",
        "\n",
        "    # y_pred *= scale_factor\n",
        "    \n",
        "    theta = 1.0/(theta+eps)\n",
        "\n",
        "    t1 = -tf.math.lgamma(y_true+theta+eps) \n",
        "    t2 = tf.math.lgamma(theta+eps)\n",
        "    t3 = tf.math.lgamma(y_true+1.0) \n",
        "    t4 = -(theta * (tf.math.log(theta+eps)))\n",
        "    t5 = -(y_true * (tf.math.log(y_pred+eps)))\n",
        "    t6 = (theta+y_true) * tf.math.log(theta+y_pred+eps)\n",
        "\n",
        "    return tf.reduce_mean(t1+t2+t3+t4+t5+t6)\n",
        "\n"
      ],
      "execution_count": null,
      "outputs": []
    },
    {
      "cell_type": "code",
      "metadata": {
        "id": "l0dj6fpnRAJ3"
      },
      "source": [
        "from nbeats_keras.model import NBeatsNet as NBeatsKeras\n",
        "num_samples, time_steps, input_dim, output_dim, exo_dim = 50_000, 28, 1, 14, 7\n",
        "\n",
        "backend1 = NBeatsKeras(input_dim=input_dim,exo_dim=exo_dim,\n",
        "    backcast_length=time_steps, forecast_length=output_dim,\n",
        "    stack_types=(NBeatsKeras.TREND_BLOCK, NBeatsKeras.SEASONALITY_BLOCK),\n",
        "    nb_blocks_per_stack=2, thetas_dim=(4, 4), share_weights_in_stack=True,\n",
        "    hidden_layer_units=128\n",
        ")\n",
        "# loss = negbinLoss()\n",
        "import keras\n",
        "# Definition of the objective function and the optimizer.\n",
        "backend1.compile()\n",
        "optimizer = keras.optimizers.SGD(lr=0.001, clipnorm=1)\n",
        "model2 = backend1"
      ],
      "execution_count": null,
      "outputs": []
    },
    {
      "cell_type": "code",
      "metadata": {
        "colab": {
          "base_uri": "https://localhost:8080/"
        },
        "id": "MUxSuP6ejyrc",
        "outputId": "40934b38-72eb-441e-f57f-4f457dd101a5"
      },
      "source": [
        "# dset = [(),]\n",
        "from tqdm import tqdm\n",
        "train_losses, test_losses = [], []\n",
        "trainE, testE = [], []\n",
        "trainmape, testmape = [], []\n",
        "for epoch in tqdm(range(150)):\n",
        "    for images, labels in trset:\n",
        "        with tf.GradientTape() as tape:\n",
        "            preds = tf.squeeze(model2.models['forecast']([images[:,:,-1],images[:,:,:-1]]))\n",
        "            loss = keras.losses.mean_squared_error(labels, preds)\n",
        "        grads = tape.gradient(loss, model2.trainable_weights)\n",
        "        optimizer.apply_gradients(zip(grads, model2.trainable_weights))\n",
        "        train_losses.append(np.sqrt(mean_squared_error(labels,preds)))\n",
        "        trainE.append(mean_absolute_error(labels, preds))\n",
        "        trainmape.append(mape(labels, preds))\n",
        "\n",
        "    if epoch % 5 == 0:\n",
        "        iter = 0\n",
        "        t1,t2,t3 = [], [], []\n",
        "        for images, labels in teset:\n",
        "            if iter == 0:\n",
        "                preds1 = tf.squeeze(model2.models['forecast']([images[:,:,-1],images[:,:,:-1]]))\n",
        "                t1.append(np.sqrt(mean_squared_error(labels,preds1)))\n",
        "                t2.append(mean_absolute_error(labels, preds1))\n",
        "                t3.append(mape(labels, preds1))\n",
        "            else:\n",
        "                preds2 = tf.squeeze(model2.models['forecast']([np.expand_dims(images[:,-1],0),np.expand_dims(images[:,:-1],0)]))\n",
        "                t1.append(np.sqrt(mean_squared_error(labels,preds2)))\n",
        "                t2.append(mean_absolute_error(labels, preds2))\n",
        "                t3.append(mape(labels, preds2))\n",
        "\n",
        "            iter += 1\n",
        "\n",
        "        test_losses.append(np.mean(t1))\n",
        "        testE.append(np.mean(t2))\n",
        "        testmape.append(np.mean(t3))\n",
        "\n",
        "        # print(f\"Logging\",{'Iteration': epoch,\n",
        "        #     'training error': train_losses[-1],\n",
        "        #     'testing error': test_losses[-1], \n",
        "        #     # 'training R2': r2s[0],\n",
        "        #     # 'testing R2': r2s[1],\n",
        "        #     'training MAE':trainE[-1],\n",
        "        #     'testing MAE':testE[-1],\n",
        "        #     'training MAPE':trainmape[-1],\n",
        "        #     'testing MAPE':testmape[-1]})\n",
        "\n",
        "        wandb.log({'Iteration': epoch,\n",
        "            'training error': train_losses[-1],\n",
        "            'testing error': test_losses[-1], \n",
        "            # 'training R2': r2s[0],\n",
        "            # 'testing R2': r2s[1],\n",
        "            'training MAE':trainE[-1],\n",
        "            'testing MAE':testE[-1],\n",
        "            'training MAPE':trainmape[-1],\n",
        "            'testing MAPE':testmape[-1]})\n"
      ],
      "execution_count": null,
      "outputs": [
        {
          "output_type": "stream",
          "text": [
            "100%|██████████| 150/150 [00:08<00:00, 17.93it/s]\n"
          ],
          "name": "stderr"
        }
      ]
    },
    {
      "cell_type": "code",
      "metadata": {
        "id": "DAssgRdPa8HV"
      },
      "source": [
        "model2.save(\"nbeats_trend_seasonality_epochs_univariate_stringency_mobility=150.h5\")"
      ],
      "execution_count": null,
      "outputs": []
    },
    {
      "cell_type": "code",
      "metadata": {
        "colab": {
          "base_uri": "https://localhost:8080/",
          "height": 817
        },
        "id": "P-uukNWtUmD8",
        "outputId": "7e3aac60-832e-463c-81d6-57c2e69fa371"
      },
      "source": [
        "iter = 0\n",
        "t1, t2, t3 = [], [], []\n",
        "for images, labels in teset:\n",
        "    if iter == 0:\n",
        "        preds1 = tf.squeeze(model2.models['forecast']([images[:,:,-1],images[:,:,:-1]]))\n",
        "        t1.append(np.sqrt(mean_squared_error(labels,preds1)))\n",
        "        t2.append(mean_absolute_error(labels, preds1))\n",
        "        t3.append(mape(labels, preds1))\n",
        "    else:\n",
        "        preds2 = tf.squeeze(model2.models['forecast']([np.expand_dims(images[:,-1],0),np.expand_dims(images[:,:-1],0)]))\n",
        "        t1.append(np.sqrt(mean_squared_error(labels,preds2)))\n",
        "        t2.append(mean_absolute_error(labels, preds2))\n",
        "        t3.append(mape(labels, preds2))\n",
        "    iter += 1\n",
        "\n",
        "print(f\"rmse {np.mean(t1)}, mae {np.mean(t2)}, mape {np.mean(t3)}\")\n",
        "\n",
        "for i in range(2):\n",
        "    plt.gcf().subplots_adjust(bottom=0.15, left=0.15)\n",
        "    plt.tight_layout()\n",
        "    plt.plot(np.arange(0,28), teset[0][0][i,:,-1], label=\"Previous\")\n",
        "    plt.plot(np.arange(28,42), preds1[i], label='Predicted')\n",
        "    plt.plot(np.arange(28,42), teset[0][1][i], label=\"True\")\n",
        "    plt.legend()\n",
        "    plt.ylabel(\"Daily Case Counts\")\n",
        "    plt.xlabel(\"Day\")\n",
        "    plt.savefig(f\"nbeats_forecast_{i}.pdf\")\n",
        "    plt.show()\n",
        "\n",
        "# for i in range(1):\n",
        "plt.gcf().subplots_adjust(bottom=0.15, left=0.15)\n",
        "plt.tight_layout()\n",
        "plt.plot(np.arange(0,28), teset[1][0][:,-1], label=\"Previous\")\n",
        "plt.plot(np.arange(28,42), preds2, label='Predicted')\n",
        "plt.plot(np.arange(28,42), teset[1][1], label=\"True\")\n",
        "plt.legend()\n",
        "plt.ylabel(\"Daily Case Counts\")\n",
        "plt.xlabel(\"Day\")\n",
        "plt.savefig(f\"nbeats_forecast_2.pdf\")\n",
        "plt.show()\n",
        "\n"
      ],
      "execution_count": null,
      "outputs": [
        {
          "output_type": "stream",
          "text": [
            "rmse 8018.865318563963, mae 5755.169712611607, mape 16.9030818090375\n"
          ],
          "name": "stdout"
        },
        {
          "output_type": "display_data",
          "data": {
            "image/png": "[encoded data removed]",
            "text/plain": [
              "<Figure size 432x288 with 1 Axes>"
            ]
          },
          "metadata": {
            "tags": []
          }
        },
        {
          "output_type": "display_data",
          "data": {
            "image/png": "[encoded data removed]",
            "text/plain": [
              "<Figure size 432x288 with 1 Axes>"
            ]
          },
          "metadata": {
            "tags": []
          }
        },
        {
          "output_type": "display_data",
          "data": {
            "image/png": "[encoded data removed]",
            "text/plain": [
              "<Figure size 432x288 with 1 Axes>"
            ]
          },
          "metadata": {
            "tags": []
          }
        }
      ]
    },
    {
      "cell_type": "code",
      "metadata": {
        "colab": {
          "base_uri": "https://localhost:8080/",
          "height": 1000,
          "referenced_widgets": [
            "5a5bad62d5df42d4bc6a9ccc397577fe",
            "37f147c16c5b4c948b8745d87616ae11",
            "91ef047d54704a28b136d01e6103b3ed",
            "60c5dc6c2aad40de8dd95e9b6ff2200e",
            "db1cb62e07bb4acbbb275c3db8eba332",
            "43bc2a87a3af4a998a33f948440c718b",
            "70e51daf93fd49a9a1c8015a9b400e4a",
            "ca86bdaeadae468a8983940c9ebd6066"
          ]
        },
        "id": "Dj4KrZOOS5dd",
        "outputId": "7493ef53-a95b-47d3-d30d-cde898bb7f67"
      },
      "source": [
        "wandb.init()\n",
        "# labels.shape, preds.shape"
      ],
      "execution_count": null,
      "outputs": [
        {
          "output_type": "display_data",
          "data": {
            "text/html": [
              "Finishing last run (ID:kllyv4tt) before initializing another..."
            ],
            "text/plain": [
              "<IPython.core.display.HTML object>"
            ]
          },
          "metadata": {
            "tags": []
          }
        },
        {
          "output_type": "display_data",
          "data": {
            "text/html": [
              "<br/>Waiting for W&B process to finish, PID 5287<br/>Program ended successfully."
            ],
            "text/plain": [
              "<IPython.core.display.HTML object>"
            ]
          },
          "metadata": {
            "tags": []
          }
        },
        {
          "output_type": "display_data",
          "data": {
            "application/vnd.jupyter.widget-view+json": {
              "model_id": "5a5bad62d5df42d4bc6a9ccc397577fe",
              "version_major": 2,
              "version_minor": 0
            },
            "text/plain": [
              "VBox(children=(Label(value=' 0.00MB of 0.00MB uploaded (0.00MB deduped)\\r'), FloatProgress(value=1.0, max=1.0)…"
            ]
          },
          "metadata": {
            "tags": []
          }
        },
        {
          "output_type": "display_data",
          "data": {
            "text/html": [
              "Find user logs for this run at: <code>/content/wandb/run-20210430_103027-kllyv4tt/logs/debug.log</code>"
            ],
            "text/plain": [
              "<IPython.core.display.HTML object>"
            ]
          },
          "metadata": {
            "tags": []
          }
        },
        {
          "output_type": "display_data",
          "data": {
            "text/html": [
              "Find internal logs for this run at: <code>/content/wandb/run-20210430_103027-kllyv4tt/logs/debug-internal.log</code>"
            ],
            "text/plain": [
              "<IPython.core.display.HTML object>"
            ]
          },
          "metadata": {
            "tags": []
          }
        },
        {
          "output_type": "display_data",
          "data": {
            "text/html": [
              "<h3>Run summary:</h3><br/><style>\n",
              "    table.wandb td:nth-child(1) { padding: 0 10px; text-align: right }\n",
              "    </style><table class=\"wandb\">\n",
              "<tr><td>Iteration</td><td>995</td></tr><tr><td>training error</td><td>979.68841</td></tr><tr><td>testing error</td><td>6535.36724</td></tr><tr><td>training MAE</td><td>694.62043</td></tr><tr><td>testing MAE</td><td>4841.34867</td></tr><tr><td>training MAPE</td><td>18.26042</td></tr><tr><td>testing MAPE</td><td>17.42342</td></tr><tr><td>_runtime</td><td>259</td></tr><tr><td>_timestamp</td><td>1619778896</td></tr><tr><td>_step</td><td>399</td></tr></table>"
            ],
            "text/plain": [
              "<IPython.core.display.HTML object>"
            ]
          },
          "metadata": {
            "tags": []
          }
        },
        {
          "output_type": "display_data",
          "data": {
            "text/html": [
              "<h3>Run history:</h3><br/><style>\n",
              "    table.wandb td:nth-child(1) { padding: 0 10px; text-align: right }\n",
              "    </style><table class=\"wandb\">\n",
              "<tr><td>Iteration</td><td>▁▁▂▂▂▃▃▃▄▄▅▅▅▆▆▆▇▇▇█▁▁▂▂▂▃▃▄▄▄▅▅▅▆▆▆▇▇██</td></tr><tr><td>training error</td><td>████████████████████▆▃▂▂▁▁▁▁▁▁▁▁▁▁▁▁▁▁▁▁</td></tr><tr><td>testing error</td><td>████████████████████▆▃▂▂▁▁▁▁▁▁▁▁▁▁▁▁▁▁▁▁</td></tr><tr><td>training MAE</td><td>████████████████████▆▃▂▂▁▁▁▁▁▁▁▁▁▁▁▁▁▁▁▁</td></tr><tr><td>testing MAE</td><td>████████████████████▆▃▂▂▁▁▁▁▁▁▁▁▁▁▁▁▁▁▁▁</td></tr><tr><td>training MAPE</td><td>████████████████████▆▃▂▂▁▁▁▁▁▁▁▁▁▁▁▁▁▁▁▁</td></tr><tr><td>testing MAPE</td><td>████████████████████▆▂▂▁▁▁▁▁▁▁▁▁▁▁▁▁▁▁▁▁</td></tr><tr><td>_runtime</td><td>▁▁▁▁▁▂▂▂▂▂▂▂▂▃▃▃▃▃▃▃▆▆▆▆▆▆▆▇▇▇▇▇▇▇▇▇████</td></tr><tr><td>_timestamp</td><td>▁▁▁▁▁▂▂▂▂▂▂▂▂▃▃▃▃▃▃▃▆▆▆▆▆▆▆▇▇▇▇▇▇▇▇▇████</td></tr><tr><td>_step</td><td>▁▁▁▁▂▂▂▂▂▃▃▃▃▃▃▄▄▄▄▄▅▅▅▅▅▅▆▆▆▆▆▇▇▇▇▇▇███</td></tr></table><br/>"
            ],
            "text/plain": [
              "<IPython.core.display.HTML object>"
            ]
          },
          "metadata": {
            "tags": []
          }
        },
        {
          "output_type": "display_data",
          "data": {
            "text/html": [
              "Synced 5 W&B file(s), 0 media file(s), 0 artifact file(s) and 0 other file(s)"
            ],
            "text/plain": [
              "<IPython.core.display.HTML object>"
            ]
          },
          "metadata": {
            "tags": []
          }
        },
        {
          "output_type": "display_data",
          "data": {
            "text/html": [
              "\n",
              "                    <br/>Synced <strong style=\"color:#cdcd00\">summer-monkey-25</strong>: <a href=\"https://wandb.ai/covid-forecasters/uncategorized/runs/kllyv4tt\" target=\"_blank\">https://wandb.ai/covid-forecasters/uncategorized/runs/kllyv4tt</a><br/>\n",
              "                "
            ],
            "text/plain": [
              "<IPython.core.display.HTML object>"
            ]
          },
          "metadata": {
            "tags": []
          }
        },
        {
          "output_type": "display_data",
          "data": {
            "text/html": [
              "...Successfully finished last run (ID:kllyv4tt). Initializing new run:<br/><br/>"
            ],
            "text/plain": [
              "<IPython.core.display.HTML object>"
            ]
          },
          "metadata": {
            "tags": []
          }
        },
        {
          "output_type": "display_data",
          "data": {
            "text/html": [
              "\n",
              "                Tracking run with wandb version 0.10.28<br/>\n",
              "                Syncing run <strong style=\"color:#cdcd00\">denim-sky-26</strong> to <a href=\"https://wandb.ai\" target=\"_blank\">Weights & Biases</a> <a href=\"https://docs.wandb.com/integrations/jupyter.html\" target=\"_blank\">(Documentation)</a>.<br/>\n",
              "                Project page: <a href=\"https://wandb.ai/covid-forecasters/uncategorized\" target=\"_blank\">https://wandb.ai/covid-forecasters/uncategorized</a><br/>\n",
              "                Run page: <a href=\"https://wandb.ai/covid-forecasters/uncategorized/runs/ysvcpsnm\" target=\"_blank\">https://wandb.ai/covid-forecasters/uncategorized/runs/ysvcpsnm</a><br/>\n",
              "                Run data is saved locally in <code>/content/wandb/run-20210430_104658-ysvcpsnm</code><br/><br/>\n",
              "            "
            ],
            "text/plain": [
              "<IPython.core.display.HTML object>"
            ]
          },
          "metadata": {
            "tags": []
          }
        },
        {
          "output_type": "execute_result",
          "data": {
            "text/html": [
              "<h1>Run(ysvcpsnm)</h1><iframe src=\"https://wandb.ai/covid-forecasters/uncategorized/runs/ysvcpsnm\" style=\"border:none;width:100%;height:400px\"></iframe>"
            ],
            "text/plain": [
              "<wandb.sdk.wandb_run.Run at 0x7f01f06b5ed0>"
            ]
          },
          "metadata": {
            "tags": []
          },
          "execution_count": 79
        }
      ]
    },
    {
      "cell_type": "code",
      "metadata": {
        "id": "1hiUZ89aGe76"
      },
      "source": [
        "trset = [(india[0][:-1,:,:],india[1][:-1,:])]\n",
        "teset = [(india[2],india[3]),(india[0][-1,:,:],india[1][-1,:])]"
      ],
      "execution_count": null,
      "outputs": []
    },
    {
      "cell_type": "code",
      "metadata": {
        "colab": {
          "base_uri": "https://localhost:8080/"
        },
        "id": "69w-NPa1Kmv8",
        "outputId": "0d31cd66-ca43-409a-b02c-088dae28f77c"
      },
      "source": [
        "india[0].shape"
      ],
      "execution_count": 93,
      "outputs": [
        {
          "output_type": "execute_result",
          "data": {
            "text/plain": [
              "(7, 28, 1)"
            ]
          },
          "metadata": {
            "tags": []
          },
          "execution_count": 93
        }
      ]
    },
    {
      "cell_type": "code",
      "metadata": {
        "id": "xgOwMOheGe76"
      },
      "source": [
        "import statsmodels\n",
        "from statsmodels.tsa.holtwinters import Holt"
      ],
      "execution_count": null,
      "outputs": []
    },
    {
      "cell_type": "code",
      "metadata": {
        "id": "3wVEtHSH0mUV"
      },
      "source": [
        "smoothener = Holt(df[df['District']=='Mumbai']['new cases'].values)"
      ],
      "execution_count": null,
      "outputs": []
    },
    {
      "cell_type": "code",
      "metadata": {
        "id": "hlqcGdJv0sr8"
      },
      "source": [
        "smoothener_i = smoothener.fit()"
      ],
      "execution_count": null,
      "outputs": []
    },
    {
      "cell_type": "code",
      "metadata": {
        "colab": {
          "base_uri": "https://localhost:8080/",
          "height": 285
        },
        "id": "1l7A4PJn3iIC",
        "outputId": "ba7d8b1b-61f8-43f0-ea1d-48659ffaadef"
      },
      "source": [
        "# plt.plot(smoothener.predict(df[df['District']=='Mumbai']['new cases'].values))\n",
        "# plt.plot()\n",
        "a = df[df['District']=='Mumbai']['new cases'].values.tolist()\n",
        "a.extend(smoothener_i.forecast(28))\n",
        "plt.plot(a)\n",
        "# plt.plot(smoothener_i.forecast(14)))"
      ],
      "execution_count": null,
      "outputs": [
        {
          "output_type": "execute_result",
          "data": {
            "text/plain": [
              "[<matplotlib.lines.Line2D at 0x7efb816ed110>]"
            ]
          },
          "metadata": {
            "tags": []
          },
          "execution_count": 66
        },
        {
          "output_type": "display_data",
          "data": {
            "image/png": "[encoded data removed]",
            "text/plain": [
              "<Figure size 432x288 with 1 Axes>"
            ]
          },
          "metadata": {
            "tags": []
          }
        }
      ]
    },
    {
      "cell_type": "code",
      "metadata": {
        "id": "CUBOUcp53wZB"
      },
      "source": [
        "from statsmodels.tsa.holtwinters import SimpleExpSmoothing, Holt\n"
      ],
      "execution_count": null,
      "outputs": []
    },
    {
      "cell_type": "code",
      "metadata": {
        "id": "FY-EA1sd30Mq"
      },
      "source": [
        "from statsmodels.tsa.stattools import kpss\n",
        "def kpss_test(timeseries):\n",
        "    print ('Results of KPSS Test:')\n",
        "    kpsstest = kpss(timeseries, regression='c', lags=\"auto\", )\n",
        "    kpss_output = pd.Series(kpsstest[0:3], index=['Test Statistic','p-value','Lags Used'])\n",
        "    for key,value in kpsstest[3].items():\n",
        "        kpss_output['Critical Value (%s)'%key] = value\n",
        "    print (kpss_output)\n",
        "\n",
        "from statsmodels.tsa.stattools import adfuller\n",
        "def adf_test(timeseries):\n",
        "    print ('Results of Dickey-Fuller Test:')\n",
        "    dftest = adfuller(timeseries, autolag='AIC')\n",
        "    dfoutput = pd.Series(dftest[0:4], index=['Test Statistic','p-value','#Lags Used','Number of Observations Used'])\n",
        "    for key,value in dftest[4].items():\n",
        "       dfoutput['Critical Value (%s)'%key] = value\n",
        "    print (dfoutput)"
      ],
      "execution_count": null,
      "outputs": []
    },
    {
      "cell_type": "code",
      "metadata": {
        "colab": {
          "base_uri": "https://localhost:8080/"
        },
        "id": "b9r36BND44a7",
        "outputId": "72f4667b-556f-4000-d321-2d741b9a5ef4"
      },
      "source": [
        "adf_test(df[df['District']=='Mumbai']['new cases'].values)"
      ],
      "execution_count": null,
      "outputs": [
        {
          "output_type": "stream",
          "text": [
            "Results of Dickey-Fuller Test:\n",
            "Test Statistic                  -3.192903\n",
            "p-value                          0.020399\n",
            "#Lags Used                      15.000000\n",
            "Number of Observations Used    333.000000\n",
            "Critical Value (1%)             -3.450141\n",
            "Critical Value (5%)             -2.870259\n",
            "Critical Value (10%)            -2.571415\n",
            "dtype: float64\n"
          ],
          "name": "stdout"
        }
      ]
    },
    {
      "cell_type": "code",
      "metadata": {
        "colab": {
          "base_uri": "https://localhost:8080/"
        },
        "id": "-Fc5WWBn5Yhb",
        "outputId": "b5d3fc0a-6060-427c-906a-734012719242"
      },
      "source": [
        "kpss_test(df[df['District']=='Mumbai']['new cases'].values)"
      ],
      "execution_count": null,
      "outputs": [
        {
          "output_type": "stream",
          "text": [
            "Results of KPSS Test:\n",
            "Test Statistic            0.518295\n",
            "p-value                   0.037546\n",
            "Lags Used                11.000000\n",
            "Critical Value (10%)      0.347000\n",
            "Critical Value (5%)       0.463000\n",
            "Critical Value (2.5%)     0.574000\n",
            "Critical Value (1%)       0.739000\n",
            "dtype: float64\n"
          ],
          "name": "stdout"
        }
      ]
    },
    {
      "cell_type": "code",
      "metadata": {
        "colab": {
          "base_uri": "https://localhost:8080/",
          "height": 285
        },
        "id": "ciTvSgx448UL",
        "outputId": "3be02a42-a634-4e93-989e-86e1a289d114"
      },
      "source": [
        "plt.plot(df[df['District']=='Mumbai']['new cases'].values)"
      ],
      "execution_count": null,
      "outputs": [
        {
          "output_type": "execute_result",
          "data": {
            "text/plain": [
              "[<matplotlib.lines.Line2D at 0x7efb8135db10>]"
            ]
          },
          "metadata": {
            "tags": []
          },
          "execution_count": 57
        },
        {
          "output_type": "display_data",
          "data": {
            "image/png": "[encoded data removed]",
            "text/plain": [
              "<Figure size 432x288 with 1 Axes>"
            ]
          },
          "metadata": {
            "tags": []
          }
        }
      ]
    },
    {
      "cell_type": "code",
      "metadata": {
        "id": "N4fWTKmY5S31"
      },
      "source": [
        ""
      ],
      "execution_count": null,
      "outputs": []
    }
  ]
}
